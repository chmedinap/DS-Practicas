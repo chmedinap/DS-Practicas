{
    "cells": [
        {
            "cell_type": "markdown",
            "source": [
                "<h1>Using the Last Fm API to extract data and analyzing it with Python. (Part 1)</h1>"
            ],
            "metadata": {}
        },
        {
            "cell_type": "markdown",
            "source": [
                "As you already know, Last Fm is a service (kind of a social network) to store your music listening activity, that is called *scrobbling*, and I have been using that service since late 2008. The goal of this project is to create new visualization, Last Fm itself shows some nice charts and numbers but I wanted a little more.\n",
                "\n",
                "In this first part I'm going to show you how to extract the data and clean it using Python 🐍,  but please keep in mind that **I'm new in the data analytics/science world and English is not my native language. I'm still learning. If you could give  me your feedback about these two topics, I would really appreciate it.** 🤗\n",
                "\n",
                "<h2> 🤓 Understating the API.</h2>\n",
                "\n",
                "Last Fm offer a very simple API. It doesn't need authentication and the payload is very simple. But they ask you some things: \n",
                "\n",
                "* 👾 To use an identifiable User-Agent header on all requests.\n",
                "* 👾 To be reasonable, don't make an excessive number of calls. \n",
                "* 👾 And of course, the assumption that if you use the API you are accepting its terms of service.\n",
                "\n",
                "Link: https://www.last.fm/api/intro\n",
                "\n",
                "You can create an API KEY https://www.last.fm/api/account/create or find the API at http://ws.audioscrobbler.com/2.0/\n",
                "\n",
                "The API have some methods like album, artist, users, playlist. Each one has some customizable options. In this post I'm going to use two: recent tracks and loved tracks.\n",
                "\n",
                "<h2> ✍🏻 Building the script</h2>\n",
                "\n",
                "I'm going to do a lot of request with the same user, key and user-agent, so the best way to do it is to create a function."
            ],
            "metadata": {}
        },
        {
            "cell_type": "code",
            "execution_count": 6,
            "source": [
                "import requests\n",
                "API_KEY = '62db2e8a92143737f526939ea0b7471c'\n",
                "USER_AGENT = 'Mozilla/5.0'\n",
                "USERNAME = 'chmedina'\n",
                "def lastfm_get(payload):\n",
                "    headers = {'user-agent': USER_AGENT}\n",
                "    url = 'https://ws.audioscrobbler.com/2.0/'\n",
                "    payload['user'] = USERNAME\n",
                "    payload['api_key'] = API_KEY\n",
                "    payload['format'] = 'json'\n",
                "\n",
                "    response = requests.get(url, headers=headers, params=payload)\n",
                "    return response"
            ],
            "outputs": [],
            "metadata": {}
        },
        {
            "cell_type": "markdown",
            "source": [
                "If the function is OK, the response should be a 200 code:\n",
                "\n",
                "HTTP Status codes: https://developer.mozilla.org/es/docs/Web/HTTP/Status"
            ],
            "metadata": {}
        },
        {
            "cell_type": "code",
            "execution_count": 7,
            "source": [
                "r = lastfm_get({\n",
                "    'method': 'user.getrecenttracks'\n",
                "})\n",
                "r.status_code"
            ],
            "outputs": [
                {
                    "output_type": "execute_result",
                    "data": {
                        "text/plain": [
                            "200"
                        ]
                    },
                    "metadata": {},
                    "execution_count": 7
                }
            ],
            "metadata": {}
        },
        {
            "cell_type": "markdown",
            "source": [
                "The response is something like this:"
            ],
            "metadata": {}
        },
        {
            "cell_type": "code",
            "execution_count": 8,
            "source": [
                "import json\n",
                "def jprint(obj):\n",
                "    text = json.dumps(obj, sort_keys=True, indent=4)\n",
                "    print(text)\n",
                "jprint(r.json()['recenttracks']['@attr'])"
            ],
            "outputs": [
                {
                    "output_type": "stream",
                    "name": "stdout",
                    "text": [
                        "{\n",
                        "    \"page\": \"1\",\n",
                        "    \"perPage\": \"50\",\n",
                        "    \"total\": \"239925\",\n",
                        "    \"totalPages\": \"4799\",\n",
                        "    \"user\": \"chmedina\"\n",
                        "}\n"
                    ]
                }
            ],
            "metadata": {}
        },
        {
            "cell_type": "markdown",
            "source": [
                "<h2> 📖 Paginated Data</h2>\n",
                "\n",
                "Depending on how many songs you have or need to download, the response could be many pages long. As you can see, my user has 4799 where 50 results are shown per page.\n",
                "\n",
                "In order to work with this, you must configure an script for paging:"
            ],
            "metadata": {}
        },
        {
            "cell_type": "code",
            "execution_count": 9,
            "source": [
                "results = []\n",
                "page = 1\n",
                "total_pages = 10\n",
                "while page > total_pages:\n",
                "    r = request.get(\"endpoint_url\", params={\"page\": page})\n",
                "    results.append(r.json())\n",
                "    page += 1"
            ],
            "outputs": [],
            "metadata": {}
        },
        {
            "cell_type": "markdown",
            "source": [
                "In the example total_pages = 10 because I wanted to do a short request. That number is going to change.\n",
                "\n",
                "And also, import the 'time' module to make the requests with a gap between each one and don't get your IP banned. 💩"
            ],
            "metadata": {}
        },
        {
            "cell_type": "code",
            "execution_count": 10,
            "source": [
                "import time\n",
                "\n",
                "print(\"one\")\n",
                "time.sleep(1)\n",
                "print(\"two\")"
            ],
            "outputs": [
                {
                    "output_type": "stream",
                    "name": "stdout",
                    "text": [
                        "one\n",
                        "two\n"
                    ]
                }
            ],
            "metadata": {}
        },
        {
            "cell_type": "markdown",
            "source": [
                "One more  thing, this is going to be a large amount of data and if your code break you will lose all. 💩 Please install the request cache module."
            ],
            "metadata": {}
        },
        {
            "cell_type": "code",
            "execution_count": 11,
            "source": [
                "pip install requests-cache"
            ],
            "outputs": [
                {
                    "output_type": "stream",
                    "name": "stdout",
                    "text": [
                        "Requirement already satisfied: requests-cache in /home/chmedina/anaconda3/lib/python3.8/site-packages (0.7.4)\n",
                        "Requirement already satisfied: pyyaml>=5.4 in /home/chmedina/anaconda3/lib/python3.8/site-packages (from requests-cache) (5.4.1)\n",
                        "Requirement already satisfied: url-normalize<2.0,>=1.4 in /home/chmedina/anaconda3/lib/python3.8/site-packages (from requests-cache) (1.4.3)\n",
                        "Requirement already satisfied: attrs<22.0,>=21.2 in /home/chmedina/anaconda3/lib/python3.8/site-packages (from requests-cache) (21.2.0)\n",
                        "Requirement already satisfied: itsdangerous>=2.0.1 in /home/chmedina/anaconda3/lib/python3.8/site-packages (from requests-cache) (2.0.1)\n",
                        "Requirement already satisfied: requests<3.0,>=2.17 in /home/chmedina/anaconda3/lib/python3.8/site-packages (from requests-cache) (2.25.1)\n",
                        "Requirement already satisfied: idna<3,>=2.5 in /home/chmedina/anaconda3/lib/python3.8/site-packages (from requests<3.0,>=2.17->requests-cache) (2.10)\n",
                        "Requirement already satisfied: chardet<5,>=3.0.2 in /home/chmedina/anaconda3/lib/python3.8/site-packages (from requests<3.0,>=2.17->requests-cache) (4.0.0)\n",
                        "Requirement already satisfied: certifi>=2017.4.17 in /home/chmedina/anaconda3/lib/python3.8/site-packages (from requests<3.0,>=2.17->requests-cache) (2020.12.5)\n",
                        "Requirement already satisfied: urllib3<1.27,>=1.21.1 in /home/chmedina/anaconda3/lib/python3.8/site-packages (from requests<3.0,>=2.17->requests-cache) (1.26.4)\n",
                        "Requirement already satisfied: six in /home/chmedina/anaconda3/lib/python3.8/site-packages (from url-normalize<2.0,>=1.4->requests-cache) (1.15.0)\n",
                        "Note: you may need to restart the kernel to use updated packages.\n"
                    ]
                }
            ],
            "metadata": {}
        },
        {
            "cell_type": "markdown",
            "source": [
                "<h2> 📍 The final script is this:</h2>\n",
                "\n",
                "This will take time depending on the amount of data and the time.sleep settings"
            ],
            "metadata": {}
        },
        {
            "cell_type": "code",
            "execution_count": 12,
            "source": [
                "import time\n",
                "from IPython.core.display import clear_output\n",
                "import requests_cache\n",
                "requests_cache.install_cache()\n",
                "responses = []\n",
                "page = 1\n",
                "total_pages = 9999 \n",
                "while page <= total_pages:\n",
                "    payload = {\n",
                "        'method': 'user.getrecenttracks',\n",
                "        'limit': 500,\n",
                "        'page': page,\n",
                "    }\n",
                "    print(\"Requesting page {}/{}\".format(page, total_pages))\n",
                "    clear_output(wait = True)\n",
                "    response = lastfm_get(payload)\n",
                "\n",
                "    if response.status_code != 200:\n",
                "        print(response.text)\n",
                "        break\n",
                "\n",
                "    page = int(response.json()['recenttracks']['@attr']['page'])\n",
                "    total_pages = int(response.json()['recenttracks']['@attr']['totalPages'])\n",
                "\n",
                "    responses.append(response)\n",
                "\n",
                "    if not getattr(response, 'from_cache', False):\n",
                "        time.sleep(0.5)\n",
                "\n",
                "    page += 1"
            ],
            "outputs": [
                {
                    "output_type": "stream",
                    "name": "stdout",
                    "text": [
                        "Requesting page 480/480\n"
                    ]
                }
            ],
            "metadata": {}
        },
        {
            "cell_type": "markdown",
            "source": [
                "<h2> 🐼 Using Pandas to clean the data</h2>"
            ],
            "metadata": {}
        },
        {
            "cell_type": "code",
            "execution_count": 13,
            "source": [
                "import pandas as pd\n",
                "\n",
                "r0 = responses[1]\n",
                "r0_json = r0.json()\n",
                "r0_track = r0_json['recenttracks']['track']\n",
                "r0_df = pd.DataFrame(r0_track)\n",
                "r0_df.head()"
            ],
            "outputs": [
                {
                    "output_type": "execute_result",
                    "data": {
                        "text/plain": [
                            "                                              artist  \\\n",
                            "0  {'mbid': 'c147b96e-3428-4604-9b6c-d931f980f684...   \n",
                            "1  {'mbid': '1136bc83-44bf-4fd5-b036-9067a30b3a75...   \n",
                            "2  {'mbid': '1136bc83-44bf-4fd5-b036-9067a30b3a75...   \n",
                            "3  {'mbid': '1932f5b6-0b7b-4050-b1df-833ca89e5f44...   \n",
                            "4                {'mbid': '', '#text': 'Seedpicker'}   \n",
                            "\n",
                            "                                               album  \\\n",
                            "0  {'mbid': '188d704b-678d-499d-b488-516a7247cc01...   \n",
                            "1            {'mbid': '', '#text': 'Smile of Tears'}   \n",
                            "2  {'mbid': 'd62f8969-3f38-4df0-8556-a14cfe87c1e6...   \n",
                            "3  {'mbid': '34d13866-e51b-410f-8c69-2a884f8031da...   \n",
                            "4         {'mbid': '', '#text': 'Virginia Rhapsody'}   \n",
                            "\n",
                            "                                               image streamable  \\\n",
                            "0  [{'size': 'small', '#text': 'https://lastfm.fr...          0   \n",
                            "1  [{'size': 'small', '#text': 'https://lastfm.fr...          0   \n",
                            "2  [{'size': 'small', '#text': 'https://lastfm.fr...          0   \n",
                            "3  [{'size': 'small', '#text': 'https://lastfm.fr...          0   \n",
                            "4  [{'size': 'small', '#text': 'https://lastfm.fr...          0   \n",
                            "\n",
                            "                                                date  \\\n",
                            "0  {'uts': '1628444107', '#text': '08 Aug 2021, 1...   \n",
                            "1  {'uts': '1628443611', '#text': '08 Aug 2021, 1...   \n",
                            "2  {'uts': '1628443406', '#text': '08 Aug 2021, 1...   \n",
                            "3  {'uts': '1628442796', '#text': '08 Aug 2021, 1...   \n",
                            "4  {'uts': '1628442429', '#text': '08 Aug 2021, 1...   \n",
                            "\n",
                            "                                                 url                   name  \\\n",
                            "0  https://www.last.fm/music/Oceansize/_/Music+Fo...      Music For A Nurse   \n",
                            "1  https://www.last.fm/music/Aisles/_/Smile+of+Tears         Smile of Tears   \n",
                            "2  https://www.last.fm/music/Aisles/_/The+Poet,+P...  The Poet, Pt. I: Dusk   \n",
                            "3        https://www.last.fm/music/Marillion/_/Power                  Power   \n",
                            "4  https://www.last.fm/music/Seedpicker/_/Power+Down             Power Down   \n",
                            "\n",
                            "                                   mbid  \n",
                            "0  713c0038-737f-3d76-a488-3c11cadac8a1  \n",
                            "1  9d52ae3e-65f8-49f0-b075-6d41e507e932  \n",
                            "2                                        \n",
                            "3  0aedae8c-9350-46c5-8bb2-f1d422913b81  \n",
                            "4                                        "
                        ],
                        "text/html": [
                            "<div>\n",
                            "<style scoped>\n",
                            "    .dataframe tbody tr th:only-of-type {\n",
                            "        vertical-align: middle;\n",
                            "    }\n",
                            "\n",
                            "    .dataframe tbody tr th {\n",
                            "        vertical-align: top;\n",
                            "    }\n",
                            "\n",
                            "    .dataframe thead th {\n",
                            "        text-align: right;\n",
                            "    }\n",
                            "</style>\n",
                            "<table border=\"1\" class=\"dataframe\">\n",
                            "  <thead>\n",
                            "    <tr style=\"text-align: right;\">\n",
                            "      <th></th>\n",
                            "      <th>artist</th>\n",
                            "      <th>album</th>\n",
                            "      <th>image</th>\n",
                            "      <th>streamable</th>\n",
                            "      <th>date</th>\n",
                            "      <th>url</th>\n",
                            "      <th>name</th>\n",
                            "      <th>mbid</th>\n",
                            "    </tr>\n",
                            "  </thead>\n",
                            "  <tbody>\n",
                            "    <tr>\n",
                            "      <th>0</th>\n",
                            "      <td>{'mbid': 'c147b96e-3428-4604-9b6c-d931f980f684...</td>\n",
                            "      <td>{'mbid': '188d704b-678d-499d-b488-516a7247cc01...</td>\n",
                            "      <td>[{'size': 'small', '#text': 'https://lastfm.fr...</td>\n",
                            "      <td>0</td>\n",
                            "      <td>{'uts': '1628444107', '#text': '08 Aug 2021, 1...</td>\n",
                            "      <td>https://www.last.fm/music/Oceansize/_/Music+Fo...</td>\n",
                            "      <td>Music For A Nurse</td>\n",
                            "      <td>713c0038-737f-3d76-a488-3c11cadac8a1</td>\n",
                            "    </tr>\n",
                            "    <tr>\n",
                            "      <th>1</th>\n",
                            "      <td>{'mbid': '1136bc83-44bf-4fd5-b036-9067a30b3a75...</td>\n",
                            "      <td>{'mbid': '', '#text': 'Smile of Tears'}</td>\n",
                            "      <td>[{'size': 'small', '#text': 'https://lastfm.fr...</td>\n",
                            "      <td>0</td>\n",
                            "      <td>{'uts': '1628443611', '#text': '08 Aug 2021, 1...</td>\n",
                            "      <td>https://www.last.fm/music/Aisles/_/Smile+of+Tears</td>\n",
                            "      <td>Smile of Tears</td>\n",
                            "      <td>9d52ae3e-65f8-49f0-b075-6d41e507e932</td>\n",
                            "    </tr>\n",
                            "    <tr>\n",
                            "      <th>2</th>\n",
                            "      <td>{'mbid': '1136bc83-44bf-4fd5-b036-9067a30b3a75...</td>\n",
                            "      <td>{'mbid': 'd62f8969-3f38-4df0-8556-a14cfe87c1e6...</td>\n",
                            "      <td>[{'size': 'small', '#text': 'https://lastfm.fr...</td>\n",
                            "      <td>0</td>\n",
                            "      <td>{'uts': '1628443406', '#text': '08 Aug 2021, 1...</td>\n",
                            "      <td>https://www.last.fm/music/Aisles/_/The+Poet,+P...</td>\n",
                            "      <td>The Poet, Pt. I: Dusk</td>\n",
                            "      <td></td>\n",
                            "    </tr>\n",
                            "    <tr>\n",
                            "      <th>3</th>\n",
                            "      <td>{'mbid': '1932f5b6-0b7b-4050-b1df-833ca89e5f44...</td>\n",
                            "      <td>{'mbid': '34d13866-e51b-410f-8c69-2a884f8031da...</td>\n",
                            "      <td>[{'size': 'small', '#text': 'https://lastfm.fr...</td>\n",
                            "      <td>0</td>\n",
                            "      <td>{'uts': '1628442796', '#text': '08 Aug 2021, 1...</td>\n",
                            "      <td>https://www.last.fm/music/Marillion/_/Power</td>\n",
                            "      <td>Power</td>\n",
                            "      <td>0aedae8c-9350-46c5-8bb2-f1d422913b81</td>\n",
                            "    </tr>\n",
                            "    <tr>\n",
                            "      <th>4</th>\n",
                            "      <td>{'mbid': '', '#text': 'Seedpicker'}</td>\n",
                            "      <td>{'mbid': '', '#text': 'Virginia Rhapsody'}</td>\n",
                            "      <td>[{'size': 'small', '#text': 'https://lastfm.fr...</td>\n",
                            "      <td>0</td>\n",
                            "      <td>{'uts': '1628442429', '#text': '08 Aug 2021, 1...</td>\n",
                            "      <td>https://www.last.fm/music/Seedpicker/_/Power+Down</td>\n",
                            "      <td>Power Down</td>\n",
                            "      <td></td>\n",
                            "    </tr>\n",
                            "  </tbody>\n",
                            "</table>\n",
                            "</div>"
                        ]
                    },
                    "metadata": {},
                    "execution_count": 13
                }
            ],
            "metadata": {}
        },
        {
            "cell_type": "markdown",
            "source": [
                "The .json file has some columns that we don't need. And the columns album, artist and date have the 'mbid' field and we don't need it either.\n",
                "\n",
                "There are two options: \n",
                "\n",
                "* 🧶 Use pandas to select the #text field.\n",
                "* 🧶 Format that as string and replace it. \n",
                "\n",
                "I choose the second option. I did this in parts for a better understanding:\n",
                "\n",
                "Drop the columns we don't need:"
            ],
            "metadata": {}
        },
        {
            "cell_type": "code",
            "execution_count": 14,
            "source": [
                "r0_df= r0_df.drop('image', axis=1)\n",
                "r0_df= r0_df.drop('streamable', axis=1)\n",
                "r0_df= r0_df.drop('url', axis=1)\n",
                "r0_df= r0_df.drop('mbid', axis=1)\n",
                "r0_df.head()"
            ],
            "outputs": [
                {
                    "output_type": "execute_result",
                    "data": {
                        "text/plain": [
                            "                                              artist  \\\n",
                            "0  {'mbid': 'c147b96e-3428-4604-9b6c-d931f980f684...   \n",
                            "1  {'mbid': '1136bc83-44bf-4fd5-b036-9067a30b3a75...   \n",
                            "2  {'mbid': '1136bc83-44bf-4fd5-b036-9067a30b3a75...   \n",
                            "3  {'mbid': '1932f5b6-0b7b-4050-b1df-833ca89e5f44...   \n",
                            "4                {'mbid': '', '#text': 'Seedpicker'}   \n",
                            "\n",
                            "                                               album  \\\n",
                            "0  {'mbid': '188d704b-678d-499d-b488-516a7247cc01...   \n",
                            "1            {'mbid': '', '#text': 'Smile of Tears'}   \n",
                            "2  {'mbid': 'd62f8969-3f38-4df0-8556-a14cfe87c1e6...   \n",
                            "3  {'mbid': '34d13866-e51b-410f-8c69-2a884f8031da...   \n",
                            "4         {'mbid': '', '#text': 'Virginia Rhapsody'}   \n",
                            "\n",
                            "                                                date                   name  \n",
                            "0  {'uts': '1628444107', '#text': '08 Aug 2021, 1...      Music For A Nurse  \n",
                            "1  {'uts': '1628443611', '#text': '08 Aug 2021, 1...         Smile of Tears  \n",
                            "2  {'uts': '1628443406', '#text': '08 Aug 2021, 1...  The Poet, Pt. I: Dusk  \n",
                            "3  {'uts': '1628442796', '#text': '08 Aug 2021, 1...                  Power  \n",
                            "4  {'uts': '1628442429', '#text': '08 Aug 2021, 1...             Power Down  "
                        ],
                        "text/html": [
                            "<div>\n",
                            "<style scoped>\n",
                            "    .dataframe tbody tr th:only-of-type {\n",
                            "        vertical-align: middle;\n",
                            "    }\n",
                            "\n",
                            "    .dataframe tbody tr th {\n",
                            "        vertical-align: top;\n",
                            "    }\n",
                            "\n",
                            "    .dataframe thead th {\n",
                            "        text-align: right;\n",
                            "    }\n",
                            "</style>\n",
                            "<table border=\"1\" class=\"dataframe\">\n",
                            "  <thead>\n",
                            "    <tr style=\"text-align: right;\">\n",
                            "      <th></th>\n",
                            "      <th>artist</th>\n",
                            "      <th>album</th>\n",
                            "      <th>date</th>\n",
                            "      <th>name</th>\n",
                            "    </tr>\n",
                            "  </thead>\n",
                            "  <tbody>\n",
                            "    <tr>\n",
                            "      <th>0</th>\n",
                            "      <td>{'mbid': 'c147b96e-3428-4604-9b6c-d931f980f684...</td>\n",
                            "      <td>{'mbid': '188d704b-678d-499d-b488-516a7247cc01...</td>\n",
                            "      <td>{'uts': '1628444107', '#text': '08 Aug 2021, 1...</td>\n",
                            "      <td>Music For A Nurse</td>\n",
                            "    </tr>\n",
                            "    <tr>\n",
                            "      <th>1</th>\n",
                            "      <td>{'mbid': '1136bc83-44bf-4fd5-b036-9067a30b3a75...</td>\n",
                            "      <td>{'mbid': '', '#text': 'Smile of Tears'}</td>\n",
                            "      <td>{'uts': '1628443611', '#text': '08 Aug 2021, 1...</td>\n",
                            "      <td>Smile of Tears</td>\n",
                            "    </tr>\n",
                            "    <tr>\n",
                            "      <th>2</th>\n",
                            "      <td>{'mbid': '1136bc83-44bf-4fd5-b036-9067a30b3a75...</td>\n",
                            "      <td>{'mbid': 'd62f8969-3f38-4df0-8556-a14cfe87c1e6...</td>\n",
                            "      <td>{'uts': '1628443406', '#text': '08 Aug 2021, 1...</td>\n",
                            "      <td>The Poet, Pt. I: Dusk</td>\n",
                            "    </tr>\n",
                            "    <tr>\n",
                            "      <th>3</th>\n",
                            "      <td>{'mbid': '1932f5b6-0b7b-4050-b1df-833ca89e5f44...</td>\n",
                            "      <td>{'mbid': '34d13866-e51b-410f-8c69-2a884f8031da...</td>\n",
                            "      <td>{'uts': '1628442796', '#text': '08 Aug 2021, 1...</td>\n",
                            "      <td>Power</td>\n",
                            "    </tr>\n",
                            "    <tr>\n",
                            "      <th>4</th>\n",
                            "      <td>{'mbid': '', '#text': 'Seedpicker'}</td>\n",
                            "      <td>{'mbid': '', '#text': 'Virginia Rhapsody'}</td>\n",
                            "      <td>{'uts': '1628442429', '#text': '08 Aug 2021, 1...</td>\n",
                            "      <td>Power Down</td>\n",
                            "    </tr>\n",
                            "  </tbody>\n",
                            "</table>\n",
                            "</div>"
                        ]
                    },
                    "metadata": {},
                    "execution_count": 14
                }
            ],
            "metadata": {}
        },
        {
            "cell_type": "markdown",
            "source": [
                "Set the the columns album, artist and date as a string:"
            ],
            "metadata": {}
        },
        {
            "cell_type": "code",
            "execution_count": 15,
            "source": [
                "r0_df['artist'] = r0_df.artist.astype(str)\n",
                "r0_df['album'] = r0_df.album.astype(str)\n",
                "r0_df['date'] = r0_df.date.astype(str)\n",
                "r0_df.head()"
            ],
            "outputs": [
                {
                    "output_type": "execute_result",
                    "data": {
                        "text/plain": [
                            "                                              artist  \\\n",
                            "0  {'mbid': 'c147b96e-3428-4604-9b6c-d931f980f684...   \n",
                            "1  {'mbid': '1136bc83-44bf-4fd5-b036-9067a30b3a75...   \n",
                            "2  {'mbid': '1136bc83-44bf-4fd5-b036-9067a30b3a75...   \n",
                            "3  {'mbid': '1932f5b6-0b7b-4050-b1df-833ca89e5f44...   \n",
                            "4                {'mbid': '', '#text': 'Seedpicker'}   \n",
                            "\n",
                            "                                               album  \\\n",
                            "0  {'mbid': '188d704b-678d-499d-b488-516a7247cc01...   \n",
                            "1            {'mbid': '', '#text': 'Smile of Tears'}   \n",
                            "2  {'mbid': 'd62f8969-3f38-4df0-8556-a14cfe87c1e6...   \n",
                            "3  {'mbid': '34d13866-e51b-410f-8c69-2a884f8031da...   \n",
                            "4         {'mbid': '', '#text': 'Virginia Rhapsody'}   \n",
                            "\n",
                            "                                                date                   name  \n",
                            "0  {'uts': '1628444107', '#text': '08 Aug 2021, 1...      Music For A Nurse  \n",
                            "1  {'uts': '1628443611', '#text': '08 Aug 2021, 1...         Smile of Tears  \n",
                            "2  {'uts': '1628443406', '#text': '08 Aug 2021, 1...  The Poet, Pt. I: Dusk  \n",
                            "3  {'uts': '1628442796', '#text': '08 Aug 2021, 1...                  Power  \n",
                            "4  {'uts': '1628442429', '#text': '08 Aug 2021, 1...             Power Down  "
                        ],
                        "text/html": [
                            "<div>\n",
                            "<style scoped>\n",
                            "    .dataframe tbody tr th:only-of-type {\n",
                            "        vertical-align: middle;\n",
                            "    }\n",
                            "\n",
                            "    .dataframe tbody tr th {\n",
                            "        vertical-align: top;\n",
                            "    }\n",
                            "\n",
                            "    .dataframe thead th {\n",
                            "        text-align: right;\n",
                            "    }\n",
                            "</style>\n",
                            "<table border=\"1\" class=\"dataframe\">\n",
                            "  <thead>\n",
                            "    <tr style=\"text-align: right;\">\n",
                            "      <th></th>\n",
                            "      <th>artist</th>\n",
                            "      <th>album</th>\n",
                            "      <th>date</th>\n",
                            "      <th>name</th>\n",
                            "    </tr>\n",
                            "  </thead>\n",
                            "  <tbody>\n",
                            "    <tr>\n",
                            "      <th>0</th>\n",
                            "      <td>{'mbid': 'c147b96e-3428-4604-9b6c-d931f980f684...</td>\n",
                            "      <td>{'mbid': '188d704b-678d-499d-b488-516a7247cc01...</td>\n",
                            "      <td>{'uts': '1628444107', '#text': '08 Aug 2021, 1...</td>\n",
                            "      <td>Music For A Nurse</td>\n",
                            "    </tr>\n",
                            "    <tr>\n",
                            "      <th>1</th>\n",
                            "      <td>{'mbid': '1136bc83-44bf-4fd5-b036-9067a30b3a75...</td>\n",
                            "      <td>{'mbid': '', '#text': 'Smile of Tears'}</td>\n",
                            "      <td>{'uts': '1628443611', '#text': '08 Aug 2021, 1...</td>\n",
                            "      <td>Smile of Tears</td>\n",
                            "    </tr>\n",
                            "    <tr>\n",
                            "      <th>2</th>\n",
                            "      <td>{'mbid': '1136bc83-44bf-4fd5-b036-9067a30b3a75...</td>\n",
                            "      <td>{'mbid': 'd62f8969-3f38-4df0-8556-a14cfe87c1e6...</td>\n",
                            "      <td>{'uts': '1628443406', '#text': '08 Aug 2021, 1...</td>\n",
                            "      <td>The Poet, Pt. I: Dusk</td>\n",
                            "    </tr>\n",
                            "    <tr>\n",
                            "      <th>3</th>\n",
                            "      <td>{'mbid': '1932f5b6-0b7b-4050-b1df-833ca89e5f44...</td>\n",
                            "      <td>{'mbid': '34d13866-e51b-410f-8c69-2a884f8031da...</td>\n",
                            "      <td>{'uts': '1628442796', '#text': '08 Aug 2021, 1...</td>\n",
                            "      <td>Power</td>\n",
                            "    </tr>\n",
                            "    <tr>\n",
                            "      <th>4</th>\n",
                            "      <td>{'mbid': '', '#text': 'Seedpicker'}</td>\n",
                            "      <td>{'mbid': '', '#text': 'Virginia Rhapsody'}</td>\n",
                            "      <td>{'uts': '1628442429', '#text': '08 Aug 2021, 1...</td>\n",
                            "      <td>Power Down</td>\n",
                            "    </tr>\n",
                            "  </tbody>\n",
                            "</table>\n",
                            "</div>"
                        ]
                    },
                    "metadata": {},
                    "execution_count": 15
                }
            ],
            "metadata": {}
        },
        {
            "cell_type": "markdown",
            "source": [
                "Split the strings:"
            ],
            "metadata": {}
        },
        {
            "cell_type": "code",
            "execution_count": 16,
            "source": [
                "r0_df[['mbid2','new_artist']]=r0_df['artist'].str.split(\"#text':\", n = 1, expand = True)\n",
                "r0_df= r0_df.drop('mbid2', axis=1)\n",
                "r0_df= r0_df.drop('artist', axis=1)\n",
                "r0_df[['mbid3','new_album']]=r0_df['album'].str.split(\"#text':\", n = 1, expand = True)\n",
                "r0_df= r0_df.drop('mbid3', axis=1)\n",
                "r0_df= r0_df.drop('album', axis=1)\n",
                "r0_df[['uts','new_date']]=r0_df['date'].str.split(\"#text':\", n = 1, expand = True)\n",
                "r0_df= r0_df.drop('date', axis=1)\n",
                "r0_df.head()"
            ],
            "outputs": [
                {
                    "output_type": "execute_result",
                    "data": {
                        "text/plain": [
                            "                    name      new_artist                      new_album  \\\n",
                            "0      Music For A Nurse    'Oceansize'}      'Everyone Into Position'}   \n",
                            "1         Smile of Tears       'Aisles'}              'Smile of Tears'}   \n",
                            "2  The Poet, Pt. I: Dusk       'Aisles'}                      'Hawaii'}   \n",
                            "3                  Power    'Marillion'}   \"Sounds That Can't Be Made\"}   \n",
                            "4             Power Down   'Seedpicker'}           'Virginia Rhapsody'}   \n",
                            "\n",
                            "                       uts                new_date  \n",
                            "0  {'uts': '1628444107', '   '08 Aug 2021, 17:35'}  \n",
                            "1  {'uts': '1628443611', '   '08 Aug 2021, 17:26'}  \n",
                            "2  {'uts': '1628443406', '   '08 Aug 2021, 17:23'}  \n",
                            "3  {'uts': '1628442796', '   '08 Aug 2021, 17:13'}  \n",
                            "4  {'uts': '1628442429', '   '08 Aug 2021, 17:07'}  "
                        ],
                        "text/html": [
                            "<div>\n",
                            "<style scoped>\n",
                            "    .dataframe tbody tr th:only-of-type {\n",
                            "        vertical-align: middle;\n",
                            "    }\n",
                            "\n",
                            "    .dataframe tbody tr th {\n",
                            "        vertical-align: top;\n",
                            "    }\n",
                            "\n",
                            "    .dataframe thead th {\n",
                            "        text-align: right;\n",
                            "    }\n",
                            "</style>\n",
                            "<table border=\"1\" class=\"dataframe\">\n",
                            "  <thead>\n",
                            "    <tr style=\"text-align: right;\">\n",
                            "      <th></th>\n",
                            "      <th>name</th>\n",
                            "      <th>new_artist</th>\n",
                            "      <th>new_album</th>\n",
                            "      <th>uts</th>\n",
                            "      <th>new_date</th>\n",
                            "    </tr>\n",
                            "  </thead>\n",
                            "  <tbody>\n",
                            "    <tr>\n",
                            "      <th>0</th>\n",
                            "      <td>Music For A Nurse</td>\n",
                            "      <td>'Oceansize'}</td>\n",
                            "      <td>'Everyone Into Position'}</td>\n",
                            "      <td>{'uts': '1628444107', '</td>\n",
                            "      <td>'08 Aug 2021, 17:35'}</td>\n",
                            "    </tr>\n",
                            "    <tr>\n",
                            "      <th>1</th>\n",
                            "      <td>Smile of Tears</td>\n",
                            "      <td>'Aisles'}</td>\n",
                            "      <td>'Smile of Tears'}</td>\n",
                            "      <td>{'uts': '1628443611', '</td>\n",
                            "      <td>'08 Aug 2021, 17:26'}</td>\n",
                            "    </tr>\n",
                            "    <tr>\n",
                            "      <th>2</th>\n",
                            "      <td>The Poet, Pt. I: Dusk</td>\n",
                            "      <td>'Aisles'}</td>\n",
                            "      <td>'Hawaii'}</td>\n",
                            "      <td>{'uts': '1628443406', '</td>\n",
                            "      <td>'08 Aug 2021, 17:23'}</td>\n",
                            "    </tr>\n",
                            "    <tr>\n",
                            "      <th>3</th>\n",
                            "      <td>Power</td>\n",
                            "      <td>'Marillion'}</td>\n",
                            "      <td>\"Sounds That Can't Be Made\"}</td>\n",
                            "      <td>{'uts': '1628442796', '</td>\n",
                            "      <td>'08 Aug 2021, 17:13'}</td>\n",
                            "    </tr>\n",
                            "    <tr>\n",
                            "      <th>4</th>\n",
                            "      <td>Power Down</td>\n",
                            "      <td>'Seedpicker'}</td>\n",
                            "      <td>'Virginia Rhapsody'}</td>\n",
                            "      <td>{'uts': '1628442429', '</td>\n",
                            "      <td>'08 Aug 2021, 17:07'}</td>\n",
                            "    </tr>\n",
                            "  </tbody>\n",
                            "</table>\n",
                            "</div>"
                        ]
                    },
                    "metadata": {},
                    "execution_count": 16
                }
            ],
            "metadata": {}
        },
        {
            "cell_type": "markdown",
            "source": [
                "The final steps are to remove the '}' characters and save it in a .csv file if you like. For my project I'm going to use four users, each one with  the scrobbled and loved tracks. At the end I will have eight csv files. \n",
                "\n",
                "In the part 2 I'm going to use Python for data visualization. 🐾\n",
                "\n",
                "To write this post I read the Dataquest blog https://www.dataquest.io/. That's where I learned the process. If you have questions with any procedure shown here, please go to their blog post https://www.dataquest.io/blog/last-fm-api-python/ where Celeste Grupman explain it in more detail.\n",
                "\n",
                "Thanks for reading, and remember I'm new in the data analytics/science world and English is not my native language. I'm still learning :student:. If you could give me your feedback about these two topics, I would really appreciate it. 🙇‍♂️\n",
                "\n",
                "Carlos Medina 🎩"
            ],
            "metadata": {}
        }
    ],
    "metadata": {
        "orig_nbformat": 4,
        "language_info": {
            "name": "python",
            "version": "3.8.8",
            "mimetype": "text/x-python",
            "codemirror_mode": {
                "name": "ipython",
                "version": 3
            },
            "pygments_lexer": "ipython3",
            "nbconvert_exporter": "python",
            "file_extension": ".py"
        },
        "kernelspec": {
            "name": "python3",
            "display_name": "Python 3.8.8 64-bit ('base': conda)"
        },
        "interpreter": {
            "hash": "889db70d108302de82c296c0c6567ca4cbda0122670580e47ef2cd7d85528bd6"
        }
    },
    "nbformat": 4,
    "nbformat_minor": 2
}