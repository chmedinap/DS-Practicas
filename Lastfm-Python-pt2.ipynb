{
    "cells": [
        {
            "cell_type": "code",
            "execution_count": 1,
            "source": [
                "import pandas as pd\n",
                "import numpy as np\n",
                "import seaborn as sns\n",
                "import plotly.express as px\n",
                "import matplotlib as mpl\n",
                "import matplotlib.pyplot as plt\n",
                "import plotly.graph_objects as go"
            ],
            "outputs": [],
            "metadata": {}
        },
        {
            "cell_type": "code",
            "execution_count": 2,
            "source": [
                "df_ch = pd.read_csv('../Archivos/LastFm/Carlos_scrob.csv')\n",
                "df_maria = pd.read_csv('../Archivos/LastFm/Maria_scrob.csv')\n"
            ],
            "outputs": [],
            "metadata": {}
        },
        {
            "cell_type": "code",
            "execution_count": 3,
            "source": [
                "df_ch=df_ch.drop(['uts','artist_mbid','album_mbid','track_mbid'],axis = 1)\n",
                "df_ch.columns=['Date','Artist','Album','Song']\n",
                "df_maria=df_maria.drop(['uts','artist_mbid','album_mbid','track_mbid'],axis = 1)\n",
                "df_maria.columns=['Date','Artist','Album','Song']"
            ],
            "outputs": [],
            "metadata": {}
        },
        {
            "cell_type": "code",
            "execution_count": 4,
            "source": [
                "percent_missing_ch=df_ch.isnull().sum()*100/len(df_ch)\n",
                "percent_missing_maria=df_maria.isnull().sum()*100/len(df_maria)\n",
                "df_missing_value=pd.DataFrame(\n",
                "    {\n",
                "    'Ch':percent_missing_ch,\n",
                "    'Maria':percent_missing_maria,\n",
                "    })\n",
                "df_missing_value"
            ],
            "outputs": [
                {
                    "output_type": "execute_result",
                    "data": {
                        "text/plain": [
                            "              Ch     Maria\n",
                            "Date    0.000000  0.000000\n",
                            "Artist  0.000000  0.000000\n",
                            "Album   7.886792  1.818633\n",
                            "Song    0.000000  0.000000"
                        ],
                        "text/html": [
                            "<div>\n",
                            "<style scoped>\n",
                            "    .dataframe tbody tr th:only-of-type {\n",
                            "        vertical-align: middle;\n",
                            "    }\n",
                            "\n",
                            "    .dataframe tbody tr th {\n",
                            "        vertical-align: top;\n",
                            "    }\n",
                            "\n",
                            "    .dataframe thead th {\n",
                            "        text-align: right;\n",
                            "    }\n",
                            "</style>\n",
                            "<table border=\"1\" class=\"dataframe\">\n",
                            "  <thead>\n",
                            "    <tr style=\"text-align: right;\">\n",
                            "      <th></th>\n",
                            "      <th>Ch</th>\n",
                            "      <th>Maria</th>\n",
                            "    </tr>\n",
                            "  </thead>\n",
                            "  <tbody>\n",
                            "    <tr>\n",
                            "      <th>Date</th>\n",
                            "      <td>0.000000</td>\n",
                            "      <td>0.000000</td>\n",
                            "    </tr>\n",
                            "    <tr>\n",
                            "      <th>Artist</th>\n",
                            "      <td>0.000000</td>\n",
                            "      <td>0.000000</td>\n",
                            "    </tr>\n",
                            "    <tr>\n",
                            "      <th>Album</th>\n",
                            "      <td>7.886792</td>\n",
                            "      <td>1.818633</td>\n",
                            "    </tr>\n",
                            "    <tr>\n",
                            "      <th>Song</th>\n",
                            "      <td>0.000000</td>\n",
                            "      <td>0.000000</td>\n",
                            "    </tr>\n",
                            "  </tbody>\n",
                            "</table>\n",
                            "</div>"
                        ]
                    },
                    "metadata": {},
                    "execution_count": 4
                }
            ],
            "metadata": {}
        },
        {
            "cell_type": "code",
            "execution_count": 5,
            "source": [
                "df_ch['Date']=pd.to_datetime(df_ch['Date'])\n",
                "df_ch['Year']=pd.DatetimeIndex(df_ch['Date']).year\n",
                "df_maria['Date']=pd.to_datetime(df_maria['Date'])\n",
                "df_maria['Year']=pd.DatetimeIndex(df_maria['Date']).year\n"
            ],
            "outputs": [],
            "metadata": {}
        },
        {
            "cell_type": "code",
            "execution_count": 6,
            "source": [
                "df_ch['User']='Ch'\n",
                "df_maria['User']= 'Maria'\n"
            ],
            "outputs": [],
            "metadata": {}
        },
        {
            "cell_type": "code",
            "execution_count": 7,
            "source": [
                "df_all= pd.concat([df_ch, df_maria], axis=0, ignore_index=True)\n",
                "df_all.tail(3)"
            ],
            "outputs": [
                {
                    "output_type": "execute_result",
                    "data": {
                        "text/plain": [
                            "                      Date       Artist      Album               Song  Year  \\\n",
                            "316289 2009-08-23 13:51:00  The Killers   Hot Fuss   Somebody Told Me  2009   \n",
                            "316290 2009-08-23 13:48:00  The Killers  Day & Age  This Is Your Life  2009   \n",
                            "316291 2009-08-23 13:44:00  The Killers  Day & Age              Human  2009   \n",
                            "\n",
                            "         User  \n",
                            "316289  Maria  \n",
                            "316290  Maria  \n",
                            "316291  Maria  "
                        ],
                        "text/html": [
                            "<div>\n",
                            "<style scoped>\n",
                            "    .dataframe tbody tr th:only-of-type {\n",
                            "        vertical-align: middle;\n",
                            "    }\n",
                            "\n",
                            "    .dataframe tbody tr th {\n",
                            "        vertical-align: top;\n",
                            "    }\n",
                            "\n",
                            "    .dataframe thead th {\n",
                            "        text-align: right;\n",
                            "    }\n",
                            "</style>\n",
                            "<table border=\"1\" class=\"dataframe\">\n",
                            "  <thead>\n",
                            "    <tr style=\"text-align: right;\">\n",
                            "      <th></th>\n",
                            "      <th>Date</th>\n",
                            "      <th>Artist</th>\n",
                            "      <th>Album</th>\n",
                            "      <th>Song</th>\n",
                            "      <th>Year</th>\n",
                            "      <th>User</th>\n",
                            "    </tr>\n",
                            "  </thead>\n",
                            "  <tbody>\n",
                            "    <tr>\n",
                            "      <th>316289</th>\n",
                            "      <td>2009-08-23 13:51:00</td>\n",
                            "      <td>The Killers</td>\n",
                            "      <td>Hot Fuss</td>\n",
                            "      <td>Somebody Told Me</td>\n",
                            "      <td>2009</td>\n",
                            "      <td>Maria</td>\n",
                            "    </tr>\n",
                            "    <tr>\n",
                            "      <th>316290</th>\n",
                            "      <td>2009-08-23 13:48:00</td>\n",
                            "      <td>The Killers</td>\n",
                            "      <td>Day &amp; Age</td>\n",
                            "      <td>This Is Your Life</td>\n",
                            "      <td>2009</td>\n",
                            "      <td>Maria</td>\n",
                            "    </tr>\n",
                            "    <tr>\n",
                            "      <th>316291</th>\n",
                            "      <td>2009-08-23 13:44:00</td>\n",
                            "      <td>The Killers</td>\n",
                            "      <td>Day &amp; Age</td>\n",
                            "      <td>Human</td>\n",
                            "      <td>2009</td>\n",
                            "      <td>Maria</td>\n",
                            "    </tr>\n",
                            "  </tbody>\n",
                            "</table>\n",
                            "</div>"
                        ]
                    },
                    "metadata": {},
                    "execution_count": 7
                }
            ],
            "metadata": {}
        },
        {
            "cell_type": "code",
            "execution_count": 8,
            "source": [
                "ChbyYear=df_ch.groupby(df_ch.Year).Song.count()\n",
                "df_ChbyYear=ChbyYear.to_frame()\n",
                "df_ChbyYear['User']='Ch'\n",
                "df_ChbyYear['Year']= ChbyYear.index\n",
                "df_ChbyYear.reset_index(drop=True, inplace=True)\n"
            ],
            "outputs": [],
            "metadata": {}
        },
        {
            "cell_type": "code",
            "execution_count": 10,
            "source": [
                "MariabyYear=df_maria.groupby(df_maria.Year).Song.count()\n",
                "df_MariabyYear=MariabyYear.to_frame()\n",
                "df_MariabyYear['User']='Maria'\n",
                "df_MariabyYear['Year']= MariabyYear.index\n",
                "df_MariabyYear.reset_index(drop=True, inplace=True)"
            ],
            "outputs": [],
            "metadata": {}
        },
        {
            "cell_type": "code",
            "execution_count": 11,
            "source": [
                "df_concatenated = pd.concat([df_ChbyYear, df_MariabyYear])"
            ],
            "outputs": [],
            "metadata": {}
        },
        {
            "cell_type": "code",
            "execution_count": 12,
            "source": [
                "px.line(df_concatenated ,\n",
                "        x = 'Year',\n",
                "        y = 'Song',\n",
                "        color = 'User')"
            ],
            "outputs": [
                {
                    "output_type": "display_data",
                    "data": {
                        "application/vnd.plotly.v1+json": {
                            "config": {
                                "plotlyServerURL": "https://plot.ly"
                            },
                            "data": [
                                {
                                    "hovertemplate": "User=Ch<br>Year=%{x}<br>Song=%{y}<extra></extra>",
                                    "legendgroup": "Ch",
                                    "line": {
                                        "color": "#636efa",
                                        "dash": "solid"
                                    },
                                    "marker": {
                                        "symbol": "circle"
                                    },
                                    "mode": "lines",
                                    "name": "Ch",
                                    "orientation": "v",
                                    "showlegend": true,
                                    "type": "scatter",
                                    "x": [
                                        2009,
                                        2010,
                                        2011,
                                        2012,
                                        2013,
                                        2014,
                                        2015,
                                        2016,
                                        2017,
                                        2018,
                                        2019,
                                        2020,
                                        2021
                                    ],
                                    "xaxis": "x",
                                    "y": [
                                        12121,
                                        14776,
                                        12628,
                                        11044,
                                        20463,
                                        20442,
                                        15387,
                                        12733,
                                        17576,
                                        26929,
                                        31043,
                                        29698,
                                        14966
                                    ],
                                    "yaxis": "y"
                                },
                                {
                                    "hovertemplate": "User=Maria<br>Year=%{x}<br>Song=%{y}<extra></extra>",
                                    "legendgroup": "Maria",
                                    "line": {
                                        "color": "#EF553B",
                                        "dash": "solid"
                                    },
                                    "marker": {
                                        "symbol": "circle"
                                    },
                                    "mode": "lines",
                                    "name": "Maria",
                                    "orientation": "v",
                                    "showlegend": true,
                                    "type": "scatter",
                                    "x": [
                                        2009,
                                        2010,
                                        2011,
                                        2012,
                                        2013,
                                        2014,
                                        2015,
                                        2016,
                                        2017,
                                        2018,
                                        2019,
                                        2020,
                                        2021
                                    ],
                                    "xaxis": "x",
                                    "y": [
                                        1539,
                                        1277,
                                        3780,
                                        8915,
                                        13985,
                                        15096,
                                        8294,
                                        4535,
                                        7078,
                                        6613,
                                        499,
                                        1222,
                                        3653
                                    ],
                                    "yaxis": "y"
                                }
                            ],
                            "layout": {
                                "legend": {
                                    "title": {
                                        "text": "User"
                                    },
                                    "tracegroupgap": 0
                                },
                                "margin": {
                                    "t": 60
                                },
                                "template": {
                                    "data": {
                                        "bar": [
                                            {
                                                "error_x": {
                                                    "color": "#2a3f5f"
                                                },
                                                "error_y": {
                                                    "color": "#2a3f5f"
                                                },
                                                "marker": {
                                                    "line": {
                                                        "color": "#E5ECF6",
                                                        "width": 0.5
                                                    },
                                                    "pattern": {
                                                        "fillmode": "overlay",
                                                        "size": 10,
                                                        "solidity": 0.2
                                                    }
                                                },
                                                "type": "bar"
                                            }
                                        ],
                                        "barpolar": [
                                            {
                                                "marker": {
                                                    "line": {
                                                        "color": "#E5ECF6",
                                                        "width": 0.5
                                                    },
                                                    "pattern": {
                                                        "fillmode": "overlay",
                                                        "size": 10,
                                                        "solidity": 0.2
                                                    }
                                                },
                                                "type": "barpolar"
                                            }
                                        ],
                                        "carpet": [
                                            {
                                                "aaxis": {
                                                    "endlinecolor": "#2a3f5f",
                                                    "gridcolor": "white",
                                                    "linecolor": "white",
                                                    "minorgridcolor": "white",
                                                    "startlinecolor": "#2a3f5f"
                                                },
                                                "baxis": {
                                                    "endlinecolor": "#2a3f5f",
                                                    "gridcolor": "white",
                                                    "linecolor": "white",
                                                    "minorgridcolor": "white",
                                                    "startlinecolor": "#2a3f5f"
                                                },
                                                "type": "carpet"
                                            }
                                        ],
                                        "choropleth": [
                                            {
                                                "colorbar": {
                                                    "outlinewidth": 0,
                                                    "ticks": ""
                                                },
                                                "type": "choropleth"
                                            }
                                        ],
                                        "contour": [
                                            {
                                                "colorbar": {
                                                    "outlinewidth": 0,
                                                    "ticks": ""
                                                },
                                                "colorscale": [
                                                    [
                                                        0,
                                                        "#0d0887"
                                                    ],
                                                    [
                                                        0.1111111111111111,
                                                        "#46039f"
                                                    ],
                                                    [
                                                        0.2222222222222222,
                                                        "#7201a8"
                                                    ],
                                                    [
                                                        0.3333333333333333,
                                                        "#9c179e"
                                                    ],
                                                    [
                                                        0.4444444444444444,
                                                        "#bd3786"
                                                    ],
                                                    [
                                                        0.5555555555555556,
                                                        "#d8576b"
                                                    ],
                                                    [
                                                        0.6666666666666666,
                                                        "#ed7953"
                                                    ],
                                                    [
                                                        0.7777777777777778,
                                                        "#fb9f3a"
                                                    ],
                                                    [
                                                        0.8888888888888888,
                                                        "#fdca26"
                                                    ],
                                                    [
                                                        1,
                                                        "#f0f921"
                                                    ]
                                                ],
                                                "type": "contour"
                                            }
                                        ],
                                        "contourcarpet": [
                                            {
                                                "colorbar": {
                                                    "outlinewidth": 0,
                                                    "ticks": ""
                                                },
                                                "type": "contourcarpet"
                                            }
                                        ],
                                        "heatmap": [
                                            {
                                                "colorbar": {
                                                    "outlinewidth": 0,
                                                    "ticks": ""
                                                },
                                                "colorscale": [
                                                    [
                                                        0,
                                                        "#0d0887"
                                                    ],
                                                    [
                                                        0.1111111111111111,
                                                        "#46039f"
                                                    ],
                                                    [
                                                        0.2222222222222222,
                                                        "#7201a8"
                                                    ],
                                                    [
                                                        0.3333333333333333,
                                                        "#9c179e"
                                                    ],
                                                    [
                                                        0.4444444444444444,
                                                        "#bd3786"
                                                    ],
                                                    [
                                                        0.5555555555555556,
                                                        "#d8576b"
                                                    ],
                                                    [
                                                        0.6666666666666666,
                                                        "#ed7953"
                                                    ],
                                                    [
                                                        0.7777777777777778,
                                                        "#fb9f3a"
                                                    ],
                                                    [
                                                        0.8888888888888888,
                                                        "#fdca26"
                                                    ],
                                                    [
                                                        1,
                                                        "#f0f921"
                                                    ]
                                                ],
                                                "type": "heatmap"
                                            }
                                        ],
                                        "heatmapgl": [
                                            {
                                                "colorbar": {
                                                    "outlinewidth": 0,
                                                    "ticks": ""
                                                },
                                                "colorscale": [
                                                    [
                                                        0,
                                                        "#0d0887"
                                                    ],
                                                    [
                                                        0.1111111111111111,
                                                        "#46039f"
                                                    ],
                                                    [
                                                        0.2222222222222222,
                                                        "#7201a8"
                                                    ],
                                                    [
                                                        0.3333333333333333,
                                                        "#9c179e"
                                                    ],
                                                    [
                                                        0.4444444444444444,
                                                        "#bd3786"
                                                    ],
                                                    [
                                                        0.5555555555555556,
                                                        "#d8576b"
                                                    ],
                                                    [
                                                        0.6666666666666666,
                                                        "#ed7953"
                                                    ],
                                                    [
                                                        0.7777777777777778,
                                                        "#fb9f3a"
                                                    ],
                                                    [
                                                        0.8888888888888888,
                                                        "#fdca26"
                                                    ],
                                                    [
                                                        1,
                                                        "#f0f921"
                                                    ]
                                                ],
                                                "type": "heatmapgl"
                                            }
                                        ],
                                        "histogram": [
                                            {
                                                "marker": {
                                                    "pattern": {
                                                        "fillmode": "overlay",
                                                        "size": 10,
                                                        "solidity": 0.2
                                                    }
                                                },
                                                "type": "histogram"
                                            }
                                        ],
                                        "histogram2d": [
                                            {
                                                "colorbar": {
                                                    "outlinewidth": 0,
                                                    "ticks": ""
                                                },
                                                "colorscale": [
                                                    [
                                                        0,
                                                        "#0d0887"
                                                    ],
                                                    [
                                                        0.1111111111111111,
                                                        "#46039f"
                                                    ],
                                                    [
                                                        0.2222222222222222,
                                                        "#7201a8"
                                                    ],
                                                    [
                                                        0.3333333333333333,
                                                        "#9c179e"
                                                    ],
                                                    [
                                                        0.4444444444444444,
                                                        "#bd3786"
                                                    ],
                                                    [
                                                        0.5555555555555556,
                                                        "#d8576b"
                                                    ],
                                                    [
                                                        0.6666666666666666,
                                                        "#ed7953"
                                                    ],
                                                    [
                                                        0.7777777777777778,
                                                        "#fb9f3a"
                                                    ],
                                                    [
                                                        0.8888888888888888,
                                                        "#fdca26"
                                                    ],
                                                    [
                                                        1,
                                                        "#f0f921"
                                                    ]
                                                ],
                                                "type": "histogram2d"
                                            }
                                        ],
                                        "histogram2dcontour": [
                                            {
                                                "colorbar": {
                                                    "outlinewidth": 0,
                                                    "ticks": ""
                                                },
                                                "colorscale": [
                                                    [
                                                        0,
                                                        "#0d0887"
                                                    ],
                                                    [
                                                        0.1111111111111111,
                                                        "#46039f"
                                                    ],
                                                    [
                                                        0.2222222222222222,
                                                        "#7201a8"
                                                    ],
                                                    [
                                                        0.3333333333333333,
                                                        "#9c179e"
                                                    ],
                                                    [
                                                        0.4444444444444444,
                                                        "#bd3786"
                                                    ],
                                                    [
                                                        0.5555555555555556,
                                                        "#d8576b"
                                                    ],
                                                    [
                                                        0.6666666666666666,
                                                        "#ed7953"
                                                    ],
                                                    [
                                                        0.7777777777777778,
                                                        "#fb9f3a"
                                                    ],
                                                    [
                                                        0.8888888888888888,
                                                        "#fdca26"
                                                    ],
                                                    [
                                                        1,
                                                        "#f0f921"
                                                    ]
                                                ],
                                                "type": "histogram2dcontour"
                                            }
                                        ],
                                        "mesh3d": [
                                            {
                                                "colorbar": {
                                                    "outlinewidth": 0,
                                                    "ticks": ""
                                                },
                                                "type": "mesh3d"
                                            }
                                        ],
                                        "parcoords": [
                                            {
                                                "line": {
                                                    "colorbar": {
                                                        "outlinewidth": 0,
                                                        "ticks": ""
                                                    }
                                                },
                                                "type": "parcoords"
                                            }
                                        ],
                                        "pie": [
                                            {
                                                "automargin": true,
                                                "type": "pie"
                                            }
                                        ],
                                        "scatter": [
                                            {
                                                "marker": {
                                                    "colorbar": {
                                                        "outlinewidth": 0,
                                                        "ticks": ""
                                                    }
                                                },
                                                "type": "scatter"
                                            }
                                        ],
                                        "scatter3d": [
                                            {
                                                "line": {
                                                    "colorbar": {
                                                        "outlinewidth": 0,
                                                        "ticks": ""
                                                    }
                                                },
                                                "marker": {
                                                    "colorbar": {
                                                        "outlinewidth": 0,
                                                        "ticks": ""
                                                    }
                                                },
                                                "type": "scatter3d"
                                            }
                                        ],
                                        "scattercarpet": [
                                            {
                                                "marker": {
                                                    "colorbar": {
                                                        "outlinewidth": 0,
                                                        "ticks": ""
                                                    }
                                                },
                                                "type": "scattercarpet"
                                            }
                                        ],
                                        "scattergeo": [
                                            {
                                                "marker": {
                                                    "colorbar": {
                                                        "outlinewidth": 0,
                                                        "ticks": ""
                                                    }
                                                },
                                                "type": "scattergeo"
                                            }
                                        ],
                                        "scattergl": [
                                            {
                                                "marker": {
                                                    "colorbar": {
                                                        "outlinewidth": 0,
                                                        "ticks": ""
                                                    }
                                                },
                                                "type": "scattergl"
                                            }
                                        ],
                                        "scattermapbox": [
                                            {
                                                "marker": {
                                                    "colorbar": {
                                                        "outlinewidth": 0,
                                                        "ticks": ""
                                                    }
                                                },
                                                "type": "scattermapbox"
                                            }
                                        ],
                                        "scatterpolar": [
                                            {
                                                "marker": {
                                                    "colorbar": {
                                                        "outlinewidth": 0,
                                                        "ticks": ""
                                                    }
                                                },
                                                "type": "scatterpolar"
                                            }
                                        ],
                                        "scatterpolargl": [
                                            {
                                                "marker": {
                                                    "colorbar": {
                                                        "outlinewidth": 0,
                                                        "ticks": ""
                                                    }
                                                },
                                                "type": "scatterpolargl"
                                            }
                                        ],
                                        "scatterternary": [
                                            {
                                                "marker": {
                                                    "colorbar": {
                                                        "outlinewidth": 0,
                                                        "ticks": ""
                                                    }
                                                },
                                                "type": "scatterternary"
                                            }
                                        ],
                                        "surface": [
                                            {
                                                "colorbar": {
                                                    "outlinewidth": 0,
                                                    "ticks": ""
                                                },
                                                "colorscale": [
                                                    [
                                                        0,
                                                        "#0d0887"
                                                    ],
                                                    [
                                                        0.1111111111111111,
                                                        "#46039f"
                                                    ],
                                                    [
                                                        0.2222222222222222,
                                                        "#7201a8"
                                                    ],
                                                    [
                                                        0.3333333333333333,
                                                        "#9c179e"
                                                    ],
                                                    [
                                                        0.4444444444444444,
                                                        "#bd3786"
                                                    ],
                                                    [
                                                        0.5555555555555556,
                                                        "#d8576b"
                                                    ],
                                                    [
                                                        0.6666666666666666,
                                                        "#ed7953"
                                                    ],
                                                    [
                                                        0.7777777777777778,
                                                        "#fb9f3a"
                                                    ],
                                                    [
                                                        0.8888888888888888,
                                                        "#fdca26"
                                                    ],
                                                    [
                                                        1,
                                                        "#f0f921"
                                                    ]
                                                ],
                                                "type": "surface"
                                            }
                                        ],
                                        "table": [
                                            {
                                                "cells": {
                                                    "fill": {
                                                        "color": "#EBF0F8"
                                                    },
                                                    "line": {
                                                        "color": "white"
                                                    }
                                                },
                                                "header": {
                                                    "fill": {
                                                        "color": "#C8D4E3"
                                                    },
                                                    "line": {
                                                        "color": "white"
                                                    }
                                                },
                                                "type": "table"
                                            }
                                        ]
                                    },
                                    "layout": {
                                        "annotationdefaults": {
                                            "arrowcolor": "#2a3f5f",
                                            "arrowhead": 0,
                                            "arrowwidth": 1
                                        },
                                        "autotypenumbers": "strict",
                                        "coloraxis": {
                                            "colorbar": {
                                                "outlinewidth": 0,
                                                "ticks": ""
                                            }
                                        },
                                        "colorscale": {
                                            "diverging": [
                                                [
                                                    0,
                                                    "#8e0152"
                                                ],
                                                [
                                                    0.1,
                                                    "#c51b7d"
                                                ],
                                                [
                                                    0.2,
                                                    "#de77ae"
                                                ],
                                                [
                                                    0.3,
                                                    "#f1b6da"
                                                ],
                                                [
                                                    0.4,
                                                    "#fde0ef"
                                                ],
                                                [
                                                    0.5,
                                                    "#f7f7f7"
                                                ],
                                                [
                                                    0.6,
                                                    "#e6f5d0"
                                                ],
                                                [
                                                    0.7,
                                                    "#b8e186"
                                                ],
                                                [
                                                    0.8,
                                                    "#7fbc41"
                                                ],
                                                [
                                                    0.9,
                                                    "#4d9221"
                                                ],
                                                [
                                                    1,
                                                    "#276419"
                                                ]
                                            ],
                                            "sequential": [
                                                [
                                                    0,
                                                    "#0d0887"
                                                ],
                                                [
                                                    0.1111111111111111,
                                                    "#46039f"
                                                ],
                                                [
                                                    0.2222222222222222,
                                                    "#7201a8"
                                                ],
                                                [
                                                    0.3333333333333333,
                                                    "#9c179e"
                                                ],
                                                [
                                                    0.4444444444444444,
                                                    "#bd3786"
                                                ],
                                                [
                                                    0.5555555555555556,
                                                    "#d8576b"
                                                ],
                                                [
                                                    0.6666666666666666,
                                                    "#ed7953"
                                                ],
                                                [
                                                    0.7777777777777778,
                                                    "#fb9f3a"
                                                ],
                                                [
                                                    0.8888888888888888,
                                                    "#fdca26"
                                                ],
                                                [
                                                    1,
                                                    "#f0f921"
                                                ]
                                            ],
                                            "sequentialminus": [
                                                [
                                                    0,
                                                    "#0d0887"
                                                ],
                                                [
                                                    0.1111111111111111,
                                                    "#46039f"
                                                ],
                                                [
                                                    0.2222222222222222,
                                                    "#7201a8"
                                                ],
                                                [
                                                    0.3333333333333333,
                                                    "#9c179e"
                                                ],
                                                [
                                                    0.4444444444444444,
                                                    "#bd3786"
                                                ],
                                                [
                                                    0.5555555555555556,
                                                    "#d8576b"
                                                ],
                                                [
                                                    0.6666666666666666,
                                                    "#ed7953"
                                                ],
                                                [
                                                    0.7777777777777778,
                                                    "#fb9f3a"
                                                ],
                                                [
                                                    0.8888888888888888,
                                                    "#fdca26"
                                                ],
                                                [
                                                    1,
                                                    "#f0f921"
                                                ]
                                            ]
                                        },
                                        "colorway": [
                                            "#636efa",
                                            "#EF553B",
                                            "#00cc96",
                                            "#ab63fa",
                                            "#FFA15A",
                                            "#19d3f3",
                                            "#FF6692",
                                            "#B6E880",
                                            "#FF97FF",
                                            "#FECB52"
                                        ],
                                        "font": {
                                            "color": "#2a3f5f"
                                        },
                                        "geo": {
                                            "bgcolor": "white",
                                            "lakecolor": "white",
                                            "landcolor": "#E5ECF6",
                                            "showlakes": true,
                                            "showland": true,
                                            "subunitcolor": "white"
                                        },
                                        "hoverlabel": {
                                            "align": "left"
                                        },
                                        "hovermode": "closest",
                                        "mapbox": {
                                            "style": "light"
                                        },
                                        "paper_bgcolor": "white",
                                        "plot_bgcolor": "#E5ECF6",
                                        "polar": {
                                            "angularaxis": {
                                                "gridcolor": "white",
                                                "linecolor": "white",
                                                "ticks": ""
                                            },
                                            "bgcolor": "#E5ECF6",
                                            "radialaxis": {
                                                "gridcolor": "white",
                                                "linecolor": "white",
                                                "ticks": ""
                                            }
                                        },
                                        "scene": {
                                            "xaxis": {
                                                "backgroundcolor": "#E5ECF6",
                                                "gridcolor": "white",
                                                "gridwidth": 2,
                                                "linecolor": "white",
                                                "showbackground": true,
                                                "ticks": "",
                                                "zerolinecolor": "white"
                                            },
                                            "yaxis": {
                                                "backgroundcolor": "#E5ECF6",
                                                "gridcolor": "white",
                                                "gridwidth": 2,
                                                "linecolor": "white",
                                                "showbackground": true,
                                                "ticks": "",
                                                "zerolinecolor": "white"
                                            },
                                            "zaxis": {
                                                "backgroundcolor": "#E5ECF6",
                                                "gridcolor": "white",
                                                "gridwidth": 2,
                                                "linecolor": "white",
                                                "showbackground": true,
                                                "ticks": "",
                                                "zerolinecolor": "white"
                                            }
                                        },
                                        "shapedefaults": {
                                            "line": {
                                                "color": "#2a3f5f"
                                            }
                                        },
                                        "ternary": {
                                            "aaxis": {
                                                "gridcolor": "white",
                                                "linecolor": "white",
                                                "ticks": ""
                                            },
                                            "baxis": {
                                                "gridcolor": "white",
                                                "linecolor": "white",
                                                "ticks": ""
                                            },
                                            "bgcolor": "#E5ECF6",
                                            "caxis": {
                                                "gridcolor": "white",
                                                "linecolor": "white",
                                                "ticks": ""
                                            }
                                        },
                                        "title": {
                                            "x": 0.05
                                        },
                                        "xaxis": {
                                            "automargin": true,
                                            "gridcolor": "white",
                                            "linecolor": "white",
                                            "ticks": "",
                                            "title": {
                                                "standoff": 15
                                            },
                                            "zerolinecolor": "white",
                                            "zerolinewidth": 2
                                        },
                                        "yaxis": {
                                            "automargin": true,
                                            "gridcolor": "white",
                                            "linecolor": "white",
                                            "ticks": "",
                                            "title": {
                                                "standoff": 15
                                            },
                                            "zerolinecolor": "white",
                                            "zerolinewidth": 2
                                        }
                                    }
                                },
                                "xaxis": {
                                    "anchor": "y",
                                    "domain": [
                                        0,
                                        1
                                    ],
                                    "title": {
                                        "text": "Year"
                                    }
                                },
                                "yaxis": {
                                    "anchor": "x",
                                    "domain": [
                                        0,
                                        1
                                    ],
                                    "title": {
                                        "text": "Song"
                                    }
                                }
                            }
                        }
                    },
                    "metadata": {}
                }
            ],
            "metadata": {}
        },
        {
            "cell_type": "code",
            "execution_count": 13,
            "source": [
                "x=2008\n",
                "dfs=[]\n",
                "while x<2022:\n",
                "    year_tmp=df_ch[df_ch['Year']==x]\n",
                "    year_tmp=year_tmp.groupby('Artist').Artist.count()\n",
                "    df_temp1=year_tmp.to_frame()\n",
                "    df_temp1.columns=['Count']\n",
                "    df_temp1['Artist']= year_tmp.index\n",
                "    df_temp1.reset_index(drop=True, inplace=True)\n",
                "    df_temp2=df_temp1.sort_values('Count', ascending=False).head(5)\n",
                "    df_temp2['Year']=x\n",
                "    df_temp2.reset_index(drop=True, inplace=True)\n",
                "    dfs.append(df_temp2)\n",
                "    x=x+1\n",
                "df_ChbyArtistYear=pd.concat(dfs, ignore_index=True)\n",
                "Ch_fig=px.histogram(df_ChbyArtistYear,\n",
                "        x = 'Count',\n",
                "        y = 'Artist',\n",
                "        color='Artist',\n",
                "        animation_frame='Year')\n",
                "Ch_fig2 = go.Figure()\n",
                "for tr in Ch_fig.frames[-1].data:\n",
                "    Ch_fig2.add_trace(tr)\n",
                "Ch_fig2.layout = Ch_fig.layout\n",
                "Ch_fig2.frames = Ch_fig.frames\n",
                "Ch_fig2.layout['sliders'][0]['active'] = len(Ch_fig.frames) - 1\n",
                "Ch_fig2"
            ],
            "outputs": [
                {
                    "output_type": "display_data",
                    "data": {
                        "application/vnd.plotly.v1+json": {
                            "config": {
                                "plotlyServerURL": "https://plot.ly"
                            },
                            "data": [
                                {
                                    "alignmentgroup": "True",
                                    "bingroup": "y",
                                    "histfunc": "sum",
                                    "hovertemplate": "Artist=%{y}<br>Year=2021<br>sum of Count=%{x}<extra></extra>",
                                    "legendgroup": "Iron Maiden",
                                    "marker": {
                                        "color": "#636efa",
                                        "pattern": {
                                            "shape": ""
                                        }
                                    },
                                    "name": "Iron Maiden",
                                    "offsetgroup": "Iron Maiden",
                                    "orientation": "h",
                                    "showlegend": true,
                                    "type": "histogram",
                                    "x": [
                                        515
                                    ],
                                    "xaxis": "x",
                                    "y": [
                                        "Iron Maiden"
                                    ],
                                    "yaxis": "y"
                                },
                                {
                                    "alignmentgroup": "True",
                                    "bingroup": "y",
                                    "histfunc": "sum",
                                    "hovertemplate": "Artist=%{y}<br>Year=2021<br>sum of Count=%{x}<extra></extra>",
                                    "legendgroup": "Dream Theater",
                                    "marker": {
                                        "color": "#19d3f3",
                                        "pattern": {
                                            "shape": ""
                                        }
                                    },
                                    "name": "Dream Theater",
                                    "offsetgroup": "Dream Theater",
                                    "orientation": "h",
                                    "showlegend": true,
                                    "type": "histogram",
                                    "x": [
                                        705
                                    ],
                                    "xaxis": "x",
                                    "y": [
                                        "Dream Theater"
                                    ],
                                    "yaxis": "y"
                                },
                                {
                                    "alignmentgroup": "True",
                                    "bingroup": "y",
                                    "histfunc": "sum",
                                    "hovertemplate": "Artist=%{y}<br>Year=2021<br>sum of Count=%{x}<extra></extra>",
                                    "legendgroup": "Rush",
                                    "marker": {
                                        "color": "#B6E880",
                                        "pattern": {
                                            "shape": ""
                                        }
                                    },
                                    "name": "Rush",
                                    "offsetgroup": "Rush",
                                    "orientation": "h",
                                    "showlegend": true,
                                    "type": "histogram",
                                    "x": [
                                        512
                                    ],
                                    "xaxis": "x",
                                    "y": [
                                        "Rush"
                                    ],
                                    "yaxis": "y"
                                },
                                {
                                    "alignmentgroup": "True",
                                    "bingroup": "y",
                                    "histfunc": "sum",
                                    "hovertemplate": "Artist=%{y}<br>Year=2021<br>sum of Count=%{x}<extra></extra>",
                                    "legendgroup": "Porcupine Tree",
                                    "marker": {
                                        "color": "#ab63fa",
                                        "pattern": {
                                            "shape": ""
                                        }
                                    },
                                    "name": "Porcupine Tree",
                                    "offsetgroup": "Porcupine Tree",
                                    "orientation": "h",
                                    "showlegend": true,
                                    "type": "histogram",
                                    "x": [
                                        981
                                    ],
                                    "xaxis": "x",
                                    "y": [
                                        "Porcupine Tree"
                                    ],
                                    "yaxis": "y"
                                },
                                {
                                    "alignmentgroup": "True",
                                    "bingroup": "y",
                                    "histfunc": "sum",
                                    "hovertemplate": "Artist=%{y}<br>Year=2021<br>sum of Count=%{x}<extra></extra>",
                                    "legendgroup": "Steven Wilson",
                                    "marker": {
                                        "color": "#19d3f3",
                                        "pattern": {
                                            "shape": ""
                                        }
                                    },
                                    "name": "Steven Wilson",
                                    "offsetgroup": "Steven Wilson",
                                    "orientation": "h",
                                    "showlegend": true,
                                    "type": "histogram",
                                    "x": [
                                        1004
                                    ],
                                    "xaxis": "x",
                                    "y": [
                                        "Steven Wilson"
                                    ],
                                    "yaxis": "y"
                                }
                            ],
                            "frames": [
                                {
                                    "data": [
                                        {
                                            "alignmentgroup": "True",
                                            "bingroup": "y",
                                            "histfunc": "sum",
                                            "hovertemplate": "Artist=%{y}<br>Year=2009<br>sum of Count=%{x}<extra></extra>",
                                            "legendgroup": "Iron Maiden",
                                            "marker": {
                                                "color": "#636efa",
                                                "pattern": {
                                                    "shape": ""
                                                }
                                            },
                                            "name": "Iron Maiden",
                                            "offsetgroup": "Iron Maiden",
                                            "orientation": "h",
                                            "showlegend": true,
                                            "type": "histogram",
                                            "x": [
                                                1172
                                            ],
                                            "xaxis": "x",
                                            "y": [
                                                "Iron Maiden"
                                            ],
                                            "yaxis": "y"
                                        },
                                        {
                                            "alignmentgroup": "True",
                                            "bingroup": "y",
                                            "histfunc": "sum",
                                            "hovertemplate": "Artist=%{y}<br>Year=2009<br>sum of Count=%{x}<extra></extra>",
                                            "legendgroup": "Joe Satriani",
                                            "marker": {
                                                "color": "#EF553B",
                                                "pattern": {
                                                    "shape": ""
                                                }
                                            },
                                            "name": "Joe Satriani",
                                            "offsetgroup": "Joe Satriani",
                                            "orientation": "h",
                                            "showlegend": true,
                                            "type": "histogram",
                                            "x": [
                                                762
                                            ],
                                            "xaxis": "x",
                                            "y": [
                                                "Joe Satriani"
                                            ],
                                            "yaxis": "y"
                                        },
                                        {
                                            "alignmentgroup": "True",
                                            "bingroup": "y",
                                            "histfunc": "sum",
                                            "hovertemplate": "Artist=%{y}<br>Year=2009<br>sum of Count=%{x}<extra></extra>",
                                            "legendgroup": "Saxon",
                                            "marker": {
                                                "color": "#00cc96",
                                                "pattern": {
                                                    "shape": ""
                                                }
                                            },
                                            "name": "Saxon",
                                            "offsetgroup": "Saxon",
                                            "orientation": "h",
                                            "showlegend": true,
                                            "type": "histogram",
                                            "x": [
                                                544
                                            ],
                                            "xaxis": "x",
                                            "y": [
                                                "Saxon"
                                            ],
                                            "yaxis": "y"
                                        },
                                        {
                                            "alignmentgroup": "True",
                                            "bingroup": "y",
                                            "histfunc": "sum",
                                            "hovertemplate": "Artist=%{y}<br>Year=2009<br>sum of Count=%{x}<extra></extra>",
                                            "legendgroup": "Motörhead",
                                            "marker": {
                                                "color": "#ab63fa",
                                                "pattern": {
                                                    "shape": ""
                                                }
                                            },
                                            "name": "Motörhead",
                                            "offsetgroup": "Motörhead",
                                            "orientation": "h",
                                            "showlegend": true,
                                            "type": "histogram",
                                            "x": [
                                                489
                                            ],
                                            "xaxis": "x",
                                            "y": [
                                                "Motörhead"
                                            ],
                                            "yaxis": "y"
                                        },
                                        {
                                            "alignmentgroup": "True",
                                            "bingroup": "y",
                                            "histfunc": "sum",
                                            "hovertemplate": "Artist=%{y}<br>Year=2009<br>sum of Count=%{x}<extra></extra>",
                                            "legendgroup": "Helloween",
                                            "marker": {
                                                "color": "#FFA15A",
                                                "pattern": {
                                                    "shape": ""
                                                }
                                            },
                                            "name": "Helloween",
                                            "offsetgroup": "Helloween",
                                            "orientation": "h",
                                            "showlegend": true,
                                            "type": "histogram",
                                            "x": [
                                                359
                                            ],
                                            "xaxis": "x",
                                            "y": [
                                                "Helloween"
                                            ],
                                            "yaxis": "y"
                                        }
                                    ],
                                    "name": "2009"
                                },
                                {
                                    "data": [
                                        {
                                            "alignmentgroup": "True",
                                            "bingroup": "y",
                                            "histfunc": "sum",
                                            "hovertemplate": "Artist=%{y}<br>Year=2010<br>sum of Count=%{x}<extra></extra>",
                                            "legendgroup": "Iron Maiden",
                                            "marker": {
                                                "color": "#636efa",
                                                "pattern": {
                                                    "shape": ""
                                                }
                                            },
                                            "name": "Iron Maiden",
                                            "offsetgroup": "Iron Maiden",
                                            "orientation": "h",
                                            "showlegend": true,
                                            "type": "histogram",
                                            "x": [
                                                2225
                                            ],
                                            "xaxis": "x",
                                            "y": [
                                                "Iron Maiden"
                                            ],
                                            "yaxis": "y"
                                        },
                                        {
                                            "alignmentgroup": "True",
                                            "bingroup": "y",
                                            "histfunc": "sum",
                                            "hovertemplate": "Artist=%{y}<br>Year=2010<br>sum of Count=%{x}<extra></extra>",
                                            "legendgroup": "Joe Satriani",
                                            "marker": {
                                                "color": "#EF553B",
                                                "pattern": {
                                                    "shape": ""
                                                }
                                            },
                                            "name": "Joe Satriani",
                                            "offsetgroup": "Joe Satriani",
                                            "orientation": "h",
                                            "showlegend": true,
                                            "type": "histogram",
                                            "x": [
                                                721
                                            ],
                                            "xaxis": "x",
                                            "y": [
                                                "Joe Satriani"
                                            ],
                                            "yaxis": "y"
                                        },
                                        {
                                            "alignmentgroup": "True",
                                            "bingroup": "y",
                                            "histfunc": "sum",
                                            "hovertemplate": "Artist=%{y}<br>Year=2010<br>sum of Count=%{x}<extra></extra>",
                                            "legendgroup": "Saxon",
                                            "marker": {
                                                "color": "#00cc96",
                                                "pattern": {
                                                    "shape": ""
                                                }
                                            },
                                            "name": "Saxon",
                                            "offsetgroup": "Saxon",
                                            "orientation": "h",
                                            "showlegend": true,
                                            "type": "histogram",
                                            "x": [
                                                1181
                                            ],
                                            "xaxis": "x",
                                            "y": [
                                                "Saxon"
                                            ],
                                            "yaxis": "y"
                                        },
                                        {
                                            "alignmentgroup": "True",
                                            "bingroup": "y",
                                            "histfunc": "sum",
                                            "hovertemplate": "Artist=%{y}<br>Year=2010<br>sum of Count=%{x}<extra></extra>",
                                            "legendgroup": "Motörhead",
                                            "marker": {
                                                "color": "#ab63fa",
                                                "pattern": {
                                                    "shape": ""
                                                }
                                            },
                                            "name": "Motörhead",
                                            "offsetgroup": "Motörhead",
                                            "orientation": "h",
                                            "showlegend": true,
                                            "type": "histogram",
                                            "x": [
                                                1047
                                            ],
                                            "xaxis": "x",
                                            "y": [
                                                "Motörhead"
                                            ],
                                            "yaxis": "y"
                                        },
                                        {
                                            "alignmentgroup": "True",
                                            "bingroup": "y",
                                            "histfunc": "sum",
                                            "hovertemplate": "Artist=%{y}<br>Year=2010<br>sum of Count=%{x}<extra></extra>",
                                            "legendgroup": "Dream Theater",
                                            "marker": {
                                                "color": "#19d3f3",
                                                "pattern": {
                                                    "shape": ""
                                                }
                                            },
                                            "name": "Dream Theater",
                                            "offsetgroup": "Dream Theater",
                                            "orientation": "h",
                                            "showlegend": true,
                                            "type": "histogram",
                                            "x": [
                                                741
                                            ],
                                            "xaxis": "x",
                                            "y": [
                                                "Dream Theater"
                                            ],
                                            "yaxis": "y"
                                        }
                                    ],
                                    "name": "2010"
                                },
                                {
                                    "data": [
                                        {
                                            "alignmentgroup": "True",
                                            "bingroup": "y",
                                            "histfunc": "sum",
                                            "hovertemplate": "Artist=%{y}<br>Year=2011<br>sum of Count=%{x}<extra></extra>",
                                            "legendgroup": "Iron Maiden",
                                            "marker": {
                                                "color": "#636efa",
                                                "pattern": {
                                                    "shape": ""
                                                }
                                            },
                                            "name": "Iron Maiden",
                                            "offsetgroup": "Iron Maiden",
                                            "orientation": "h",
                                            "showlegend": true,
                                            "type": "histogram",
                                            "x": [
                                                2083
                                            ],
                                            "xaxis": "x",
                                            "y": [
                                                "Iron Maiden"
                                            ],
                                            "yaxis": "y"
                                        },
                                        {
                                            "alignmentgroup": "True",
                                            "bingroup": "y",
                                            "histfunc": "sum",
                                            "hovertemplate": "Artist=%{y}<br>Year=2011<br>sum of Count=%{x}<extra></extra>",
                                            "legendgroup": "Joe Satriani",
                                            "marker": {
                                                "color": "#EF553B",
                                                "pattern": {
                                                    "shape": ""
                                                }
                                            },
                                            "name": "Joe Satriani",
                                            "offsetgroup": "Joe Satriani",
                                            "orientation": "h",
                                            "showlegend": true,
                                            "type": "histogram",
                                            "x": [
                                                477
                                            ],
                                            "xaxis": "x",
                                            "y": [
                                                "Joe Satriani"
                                            ],
                                            "yaxis": "y"
                                        },
                                        {
                                            "alignmentgroup": "True",
                                            "bingroup": "y",
                                            "histfunc": "sum",
                                            "hovertemplate": "Artist=%{y}<br>Year=2011<br>sum of Count=%{x}<extra></extra>",
                                            "legendgroup": "Motörhead",
                                            "marker": {
                                                "color": "#ab63fa",
                                                "pattern": {
                                                    "shape": ""
                                                }
                                            },
                                            "name": "Motörhead",
                                            "offsetgroup": "Motörhead",
                                            "orientation": "h",
                                            "showlegend": true,
                                            "type": "histogram",
                                            "x": [
                                                542
                                            ],
                                            "xaxis": "x",
                                            "y": [
                                                "Motörhead"
                                            ],
                                            "yaxis": "y"
                                        },
                                        {
                                            "alignmentgroup": "True",
                                            "bingroup": "y",
                                            "histfunc": "sum",
                                            "hovertemplate": "Artist=%{y}<br>Year=2011<br>sum of Count=%{x}<extra></extra>",
                                            "legendgroup": "Dream Theater",
                                            "marker": {
                                                "color": "#19d3f3",
                                                "pattern": {
                                                    "shape": ""
                                                }
                                            },
                                            "name": "Dream Theater",
                                            "offsetgroup": "Dream Theater",
                                            "orientation": "h",
                                            "showlegend": true,
                                            "type": "histogram",
                                            "x": [
                                                811
                                            ],
                                            "xaxis": "x",
                                            "y": [
                                                "Dream Theater"
                                            ],
                                            "yaxis": "y"
                                        },
                                        {
                                            "alignmentgroup": "True",
                                            "bingroup": "y",
                                            "histfunc": "sum",
                                            "hovertemplate": "Artist=%{y}<br>Year=2011<br>sum of Count=%{x}<extra></extra>",
                                            "legendgroup": "Slayer",
                                            "marker": {
                                                "color": "#FF6692",
                                                "pattern": {
                                                    "shape": ""
                                                }
                                            },
                                            "name": "Slayer",
                                            "offsetgroup": "Slayer",
                                            "orientation": "h",
                                            "showlegend": true,
                                            "type": "histogram",
                                            "x": [
                                                421
                                            ],
                                            "xaxis": "x",
                                            "y": [
                                                "Slayer"
                                            ],
                                            "yaxis": "y"
                                        }
                                    ],
                                    "name": "2011"
                                },
                                {
                                    "data": [
                                        {
                                            "alignmentgroup": "True",
                                            "bingroup": "y",
                                            "histfunc": "sum",
                                            "hovertemplate": "Artist=%{y}<br>Year=2012<br>sum of Count=%{x}<extra></extra>",
                                            "legendgroup": "Iron Maiden",
                                            "marker": {
                                                "color": "#636efa",
                                                "pattern": {
                                                    "shape": ""
                                                }
                                            },
                                            "name": "Iron Maiden",
                                            "offsetgroup": "Iron Maiden",
                                            "orientation": "h",
                                            "showlegend": true,
                                            "type": "histogram",
                                            "x": [
                                                2380
                                            ],
                                            "xaxis": "x",
                                            "y": [
                                                "Iron Maiden"
                                            ],
                                            "yaxis": "y"
                                        },
                                        {
                                            "alignmentgroup": "True",
                                            "bingroup": "y",
                                            "histfunc": "sum",
                                            "hovertemplate": "Artist=%{y}<br>Year=2012<br>sum of Count=%{x}<extra></extra>",
                                            "legendgroup": "Joe Satriani",
                                            "marker": {
                                                "color": "#EF553B",
                                                "pattern": {
                                                    "shape": ""
                                                }
                                            },
                                            "name": "Joe Satriani",
                                            "offsetgroup": "Joe Satriani",
                                            "orientation": "h",
                                            "showlegend": true,
                                            "type": "histogram",
                                            "x": [
                                                328
                                            ],
                                            "xaxis": "x",
                                            "y": [
                                                "Joe Satriani"
                                            ],
                                            "yaxis": "y"
                                        },
                                        {
                                            "alignmentgroup": "True",
                                            "bingroup": "y",
                                            "histfunc": "sum",
                                            "hovertemplate": "Artist=%{y}<br>Year=2012<br>sum of Count=%{x}<extra></extra>",
                                            "legendgroup": "Saxon",
                                            "marker": {
                                                "color": "#00cc96",
                                                "pattern": {
                                                    "shape": ""
                                                }
                                            },
                                            "name": "Saxon",
                                            "offsetgroup": "Saxon",
                                            "orientation": "h",
                                            "showlegend": true,
                                            "type": "histogram",
                                            "x": [
                                                297
                                            ],
                                            "xaxis": "x",
                                            "y": [
                                                "Saxon"
                                            ],
                                            "yaxis": "y"
                                        },
                                        {
                                            "alignmentgroup": "True",
                                            "bingroup": "y",
                                            "histfunc": "sum",
                                            "hovertemplate": "Artist=%{y}<br>Year=2012<br>sum of Count=%{x}<extra></extra>",
                                            "legendgroup": "Dream Theater",
                                            "marker": {
                                                "color": "#19d3f3",
                                                "pattern": {
                                                    "shape": ""
                                                }
                                            },
                                            "name": "Dream Theater",
                                            "offsetgroup": "Dream Theater",
                                            "orientation": "h",
                                            "showlegend": true,
                                            "type": "histogram",
                                            "x": [
                                                754
                                            ],
                                            "xaxis": "x",
                                            "y": [
                                                "Dream Theater"
                                            ],
                                            "yaxis": "y"
                                        },
                                        {
                                            "alignmentgroup": "True",
                                            "bingroup": "y",
                                            "histfunc": "sum",
                                            "hovertemplate": "Artist=%{y}<br>Year=2012<br>sum of Count=%{x}<extra></extra>",
                                            "legendgroup": "Rush",
                                            "marker": {
                                                "color": "#B6E880",
                                                "pattern": {
                                                    "shape": ""
                                                }
                                            },
                                            "name": "Rush",
                                            "offsetgroup": "Rush",
                                            "orientation": "h",
                                            "showlegend": true,
                                            "type": "histogram",
                                            "x": [
                                                1446
                                            ],
                                            "xaxis": "x",
                                            "y": [
                                                "Rush"
                                            ],
                                            "yaxis": "y"
                                        }
                                    ],
                                    "name": "2012"
                                },
                                {
                                    "data": [
                                        {
                                            "alignmentgroup": "True",
                                            "bingroup": "y",
                                            "histfunc": "sum",
                                            "hovertemplate": "Artist=%{y}<br>Year=2013<br>sum of Count=%{x}<extra></extra>",
                                            "legendgroup": "Iron Maiden",
                                            "marker": {
                                                "color": "#636efa",
                                                "pattern": {
                                                    "shape": ""
                                                }
                                            },
                                            "name": "Iron Maiden",
                                            "offsetgroup": "Iron Maiden",
                                            "orientation": "h",
                                            "showlegend": true,
                                            "type": "histogram",
                                            "x": [
                                                3598
                                            ],
                                            "xaxis": "x",
                                            "y": [
                                                "Iron Maiden"
                                            ],
                                            "yaxis": "y"
                                        },
                                        {
                                            "alignmentgroup": "True",
                                            "bingroup": "y",
                                            "histfunc": "sum",
                                            "hovertemplate": "Artist=%{y}<br>Year=2013<br>sum of Count=%{x}<extra></extra>",
                                            "legendgroup": "Dream Theater",
                                            "marker": {
                                                "color": "#19d3f3",
                                                "pattern": {
                                                    "shape": ""
                                                }
                                            },
                                            "name": "Dream Theater",
                                            "offsetgroup": "Dream Theater",
                                            "orientation": "h",
                                            "showlegend": true,
                                            "type": "histogram",
                                            "x": [
                                                1922
                                            ],
                                            "xaxis": "x",
                                            "y": [
                                                "Dream Theater"
                                            ],
                                            "yaxis": "y"
                                        },
                                        {
                                            "alignmentgroup": "True",
                                            "bingroup": "y",
                                            "histfunc": "sum",
                                            "hovertemplate": "Artist=%{y}<br>Year=2013<br>sum of Count=%{x}<extra></extra>",
                                            "legendgroup": "Rush",
                                            "marker": {
                                                "color": "#B6E880",
                                                "pattern": {
                                                    "shape": ""
                                                }
                                            },
                                            "name": "Rush",
                                            "offsetgroup": "Rush",
                                            "orientation": "h",
                                            "showlegend": true,
                                            "type": "histogram",
                                            "x": [
                                                3018
                                            ],
                                            "xaxis": "x",
                                            "y": [
                                                "Rush"
                                            ],
                                            "yaxis": "y"
                                        },
                                        {
                                            "alignmentgroup": "True",
                                            "bingroup": "y",
                                            "histfunc": "sum",
                                            "hovertemplate": "Artist=%{y}<br>Year=2013<br>sum of Count=%{x}<extra></extra>",
                                            "legendgroup": "Two Door Cinema Club",
                                            "marker": {
                                                "color": "#FF97FF",
                                                "pattern": {
                                                    "shape": ""
                                                }
                                            },
                                            "name": "Two Door Cinema Club",
                                            "offsetgroup": "Two Door Cinema Club",
                                            "orientation": "h",
                                            "showlegend": true,
                                            "type": "histogram",
                                            "x": [
                                                660
                                            ],
                                            "xaxis": "x",
                                            "y": [
                                                "Two Door Cinema Club"
                                            ],
                                            "yaxis": "y"
                                        },
                                        {
                                            "alignmentgroup": "True",
                                            "bingroup": "y",
                                            "histfunc": "sum",
                                            "hovertemplate": "Artist=%{y}<br>Year=2013<br>sum of Count=%{x}<extra></extra>",
                                            "legendgroup": "Metallica",
                                            "marker": {
                                                "color": "#FECB52",
                                                "pattern": {
                                                    "shape": ""
                                                }
                                            },
                                            "name": "Metallica",
                                            "offsetgroup": "Metallica",
                                            "orientation": "h",
                                            "showlegend": true,
                                            "type": "histogram",
                                            "x": [
                                                582
                                            ],
                                            "xaxis": "x",
                                            "y": [
                                                "Metallica"
                                            ],
                                            "yaxis": "y"
                                        }
                                    ],
                                    "name": "2013"
                                },
                                {
                                    "data": [
                                        {
                                            "alignmentgroup": "True",
                                            "bingroup": "y",
                                            "histfunc": "sum",
                                            "hovertemplate": "Artist=%{y}<br>Year=2014<br>sum of Count=%{x}<extra></extra>",
                                            "legendgroup": "Iron Maiden",
                                            "marker": {
                                                "color": "#636efa",
                                                "pattern": {
                                                    "shape": ""
                                                }
                                            },
                                            "name": "Iron Maiden",
                                            "offsetgroup": "Iron Maiden",
                                            "orientation": "h",
                                            "showlegend": true,
                                            "type": "histogram",
                                            "x": [
                                                3668
                                            ],
                                            "xaxis": "x",
                                            "y": [
                                                "Iron Maiden"
                                            ],
                                            "yaxis": "y"
                                        },
                                        {
                                            "alignmentgroup": "True",
                                            "bingroup": "y",
                                            "histfunc": "sum",
                                            "hovertemplate": "Artist=%{y}<br>Year=2014<br>sum of Count=%{x}<extra></extra>",
                                            "legendgroup": "Dream Theater",
                                            "marker": {
                                                "color": "#19d3f3",
                                                "pattern": {
                                                    "shape": ""
                                                }
                                            },
                                            "name": "Dream Theater",
                                            "offsetgroup": "Dream Theater",
                                            "orientation": "h",
                                            "showlegend": true,
                                            "type": "histogram",
                                            "x": [
                                                2008
                                            ],
                                            "xaxis": "x",
                                            "y": [
                                                "Dream Theater"
                                            ],
                                            "yaxis": "y"
                                        },
                                        {
                                            "alignmentgroup": "True",
                                            "bingroup": "y",
                                            "histfunc": "sum",
                                            "hovertemplate": "Artist=%{y}<br>Year=2014<br>sum of Count=%{x}<extra></extra>",
                                            "legendgroup": "Rush",
                                            "marker": {
                                                "color": "#B6E880",
                                                "pattern": {
                                                    "shape": ""
                                                }
                                            },
                                            "name": "Rush",
                                            "offsetgroup": "Rush",
                                            "orientation": "h",
                                            "showlegend": true,
                                            "type": "histogram",
                                            "x": [
                                                4022
                                            ],
                                            "xaxis": "x",
                                            "y": [
                                                "Rush"
                                            ],
                                            "yaxis": "y"
                                        },
                                        {
                                            "alignmentgroup": "True",
                                            "bingroup": "y",
                                            "histfunc": "sum",
                                            "hovertemplate": "Artist=%{y}<br>Year=2014<br>sum of Count=%{x}<extra></extra>",
                                            "legendgroup": "Metallica",
                                            "marker": {
                                                "color": "#FECB52",
                                                "pattern": {
                                                    "shape": ""
                                                }
                                            },
                                            "name": "Metallica",
                                            "offsetgroup": "Metallica",
                                            "orientation": "h",
                                            "showlegend": true,
                                            "type": "histogram",
                                            "x": [
                                                516
                                            ],
                                            "xaxis": "x",
                                            "y": [
                                                "Metallica"
                                            ],
                                            "yaxis": "y"
                                        },
                                        {
                                            "alignmentgroup": "True",
                                            "bingroup": "y",
                                            "histfunc": "sum",
                                            "hovertemplate": "Artist=%{y}<br>Year=2014<br>sum of Count=%{x}<extra></extra>",
                                            "legendgroup": "Pink Floyd",
                                            "marker": {
                                                "color": "#636efa",
                                                "pattern": {
                                                    "shape": ""
                                                }
                                            },
                                            "name": "Pink Floyd",
                                            "offsetgroup": "Pink Floyd",
                                            "orientation": "h",
                                            "showlegend": true,
                                            "type": "histogram",
                                            "x": [
                                                530
                                            ],
                                            "xaxis": "x",
                                            "y": [
                                                "Pink Floyd"
                                            ],
                                            "yaxis": "y"
                                        }
                                    ],
                                    "name": "2014"
                                },
                                {
                                    "data": [
                                        {
                                            "alignmentgroup": "True",
                                            "bingroup": "y",
                                            "histfunc": "sum",
                                            "hovertemplate": "Artist=%{y}<br>Year=2015<br>sum of Count=%{x}<extra></extra>",
                                            "legendgroup": "Iron Maiden",
                                            "marker": {
                                                "color": "#636efa",
                                                "pattern": {
                                                    "shape": ""
                                                }
                                            },
                                            "name": "Iron Maiden",
                                            "offsetgroup": "Iron Maiden",
                                            "orientation": "h",
                                            "showlegend": true,
                                            "type": "histogram",
                                            "x": [
                                                1983
                                            ],
                                            "xaxis": "x",
                                            "y": [
                                                "Iron Maiden"
                                            ],
                                            "yaxis": "y"
                                        },
                                        {
                                            "alignmentgroup": "True",
                                            "bingroup": "y",
                                            "histfunc": "sum",
                                            "hovertemplate": "Artist=%{y}<br>Year=2015<br>sum of Count=%{x}<extra></extra>",
                                            "legendgroup": "Dream Theater",
                                            "marker": {
                                                "color": "#19d3f3",
                                                "pattern": {
                                                    "shape": ""
                                                }
                                            },
                                            "name": "Dream Theater",
                                            "offsetgroup": "Dream Theater",
                                            "orientation": "h",
                                            "showlegend": true,
                                            "type": "histogram",
                                            "x": [
                                                1206
                                            ],
                                            "xaxis": "x",
                                            "y": [
                                                "Dream Theater"
                                            ],
                                            "yaxis": "y"
                                        },
                                        {
                                            "alignmentgroup": "True",
                                            "bingroup": "y",
                                            "histfunc": "sum",
                                            "hovertemplate": "Artist=%{y}<br>Year=2015<br>sum of Count=%{x}<extra></extra>",
                                            "legendgroup": "Rush",
                                            "marker": {
                                                "color": "#B6E880",
                                                "pattern": {
                                                    "shape": ""
                                                }
                                            },
                                            "name": "Rush",
                                            "offsetgroup": "Rush",
                                            "orientation": "h",
                                            "showlegend": true,
                                            "type": "histogram",
                                            "x": [
                                                2180
                                            ],
                                            "xaxis": "x",
                                            "y": [
                                                "Rush"
                                            ],
                                            "yaxis": "y"
                                        },
                                        {
                                            "alignmentgroup": "True",
                                            "bingroup": "y",
                                            "histfunc": "sum",
                                            "hovertemplate": "Artist=%{y}<br>Year=2015<br>sum of Count=%{x}<extra></extra>",
                                            "legendgroup": "Courtney Barnett",
                                            "marker": {
                                                "color": "#EF553B",
                                                "pattern": {
                                                    "shape": ""
                                                }
                                            },
                                            "name": "Courtney Barnett",
                                            "offsetgroup": "Courtney Barnett",
                                            "orientation": "h",
                                            "showlegend": true,
                                            "type": "histogram",
                                            "x": [
                                                788
                                            ],
                                            "xaxis": "x",
                                            "y": [
                                                "Courtney Barnett"
                                            ],
                                            "yaxis": "y"
                                        },
                                        {
                                            "alignmentgroup": "True",
                                            "bingroup": "y",
                                            "histfunc": "sum",
                                            "hovertemplate": "Artist=%{y}<br>Year=2015<br>sum of Count=%{x}<extra></extra>",
                                            "legendgroup": "Mastodon",
                                            "marker": {
                                                "color": "#00cc96",
                                                "pattern": {
                                                    "shape": ""
                                                }
                                            },
                                            "name": "Mastodon",
                                            "offsetgroup": "Mastodon",
                                            "orientation": "h",
                                            "showlegend": true,
                                            "type": "histogram",
                                            "x": [
                                                491
                                            ],
                                            "xaxis": "x",
                                            "y": [
                                                "Mastodon"
                                            ],
                                            "yaxis": "y"
                                        }
                                    ],
                                    "name": "2015"
                                },
                                {
                                    "data": [
                                        {
                                            "alignmentgroup": "True",
                                            "bingroup": "y",
                                            "histfunc": "sum",
                                            "hovertemplate": "Artist=%{y}<br>Year=2016<br>sum of Count=%{x}<extra></extra>",
                                            "legendgroup": "Iron Maiden",
                                            "marker": {
                                                "color": "#636efa",
                                                "pattern": {
                                                    "shape": ""
                                                }
                                            },
                                            "name": "Iron Maiden",
                                            "offsetgroup": "Iron Maiden",
                                            "orientation": "h",
                                            "showlegend": true,
                                            "type": "histogram",
                                            "x": [
                                                1721
                                            ],
                                            "xaxis": "x",
                                            "y": [
                                                "Iron Maiden"
                                            ],
                                            "yaxis": "y"
                                        },
                                        {
                                            "alignmentgroup": "True",
                                            "bingroup": "y",
                                            "histfunc": "sum",
                                            "hovertemplate": "Artist=%{y}<br>Year=2016<br>sum of Count=%{x}<extra></extra>",
                                            "legendgroup": "Dream Theater",
                                            "marker": {
                                                "color": "#19d3f3",
                                                "pattern": {
                                                    "shape": ""
                                                }
                                            },
                                            "name": "Dream Theater",
                                            "offsetgroup": "Dream Theater",
                                            "orientation": "h",
                                            "showlegend": true,
                                            "type": "histogram",
                                            "x": [
                                                1053
                                            ],
                                            "xaxis": "x",
                                            "y": [
                                                "Dream Theater"
                                            ],
                                            "yaxis": "y"
                                        },
                                        {
                                            "alignmentgroup": "True",
                                            "bingroup": "y",
                                            "histfunc": "sum",
                                            "hovertemplate": "Artist=%{y}<br>Year=2016<br>sum of Count=%{x}<extra></extra>",
                                            "legendgroup": "Rush",
                                            "marker": {
                                                "color": "#B6E880",
                                                "pattern": {
                                                    "shape": ""
                                                }
                                            },
                                            "name": "Rush",
                                            "offsetgroup": "Rush",
                                            "orientation": "h",
                                            "showlegend": true,
                                            "type": "histogram",
                                            "x": [
                                                1350
                                            ],
                                            "xaxis": "x",
                                            "y": [
                                                "Rush"
                                            ],
                                            "yaxis": "y"
                                        },
                                        {
                                            "alignmentgroup": "True",
                                            "bingroup": "y",
                                            "histfunc": "sum",
                                            "hovertemplate": "Artist=%{y}<br>Year=2016<br>sum of Count=%{x}<extra></extra>",
                                            "legendgroup": "Mastodon",
                                            "marker": {
                                                "color": "#00cc96",
                                                "pattern": {
                                                    "shape": ""
                                                }
                                            },
                                            "name": "Mastodon",
                                            "offsetgroup": "Mastodon",
                                            "orientation": "h",
                                            "showlegend": true,
                                            "type": "histogram",
                                            "x": [
                                                316
                                            ],
                                            "xaxis": "x",
                                            "y": [
                                                "Mastodon"
                                            ],
                                            "yaxis": "y"
                                        },
                                        {
                                            "alignmentgroup": "True",
                                            "bingroup": "y",
                                            "histfunc": "sum",
                                            "hovertemplate": "Artist=%{y}<br>Year=2016<br>sum of Count=%{x}<extra></extra>",
                                            "legendgroup": "Porcupine Tree",
                                            "marker": {
                                                "color": "#ab63fa",
                                                "pattern": {
                                                    "shape": ""
                                                }
                                            },
                                            "name": "Porcupine Tree",
                                            "offsetgroup": "Porcupine Tree",
                                            "orientation": "h",
                                            "showlegend": true,
                                            "type": "histogram",
                                            "x": [
                                                619
                                            ],
                                            "xaxis": "x",
                                            "y": [
                                                "Porcupine Tree"
                                            ],
                                            "yaxis": "y"
                                        }
                                    ],
                                    "name": "2016"
                                },
                                {
                                    "data": [
                                        {
                                            "alignmentgroup": "True",
                                            "bingroup": "y",
                                            "histfunc": "sum",
                                            "hovertemplate": "Artist=%{y}<br>Year=2017<br>sum of Count=%{x}<extra></extra>",
                                            "legendgroup": "Iron Maiden",
                                            "marker": {
                                                "color": "#636efa",
                                                "pattern": {
                                                    "shape": ""
                                                }
                                            },
                                            "name": "Iron Maiden",
                                            "offsetgroup": "Iron Maiden",
                                            "orientation": "h",
                                            "showlegend": true,
                                            "type": "histogram",
                                            "x": [
                                                1818
                                            ],
                                            "xaxis": "x",
                                            "y": [
                                                "Iron Maiden"
                                            ],
                                            "yaxis": "y"
                                        },
                                        {
                                            "alignmentgroup": "True",
                                            "bingroup": "y",
                                            "histfunc": "sum",
                                            "hovertemplate": "Artist=%{y}<br>Year=2017<br>sum of Count=%{x}<extra></extra>",
                                            "legendgroup": "Dream Theater",
                                            "marker": {
                                                "color": "#19d3f3",
                                                "pattern": {
                                                    "shape": ""
                                                }
                                            },
                                            "name": "Dream Theater",
                                            "offsetgroup": "Dream Theater",
                                            "orientation": "h",
                                            "showlegend": true,
                                            "type": "histogram",
                                            "x": [
                                                1118
                                            ],
                                            "xaxis": "x",
                                            "y": [
                                                "Dream Theater"
                                            ],
                                            "yaxis": "y"
                                        },
                                        {
                                            "alignmentgroup": "True",
                                            "bingroup": "y",
                                            "histfunc": "sum",
                                            "hovertemplate": "Artist=%{y}<br>Year=2017<br>sum of Count=%{x}<extra></extra>",
                                            "legendgroup": "Rush",
                                            "marker": {
                                                "color": "#B6E880",
                                                "pattern": {
                                                    "shape": ""
                                                }
                                            },
                                            "name": "Rush",
                                            "offsetgroup": "Rush",
                                            "orientation": "h",
                                            "showlegend": true,
                                            "type": "histogram",
                                            "x": [
                                                1065
                                            ],
                                            "xaxis": "x",
                                            "y": [
                                                "Rush"
                                            ],
                                            "yaxis": "y"
                                        },
                                        {
                                            "alignmentgroup": "True",
                                            "bingroup": "y",
                                            "histfunc": "sum",
                                            "hovertemplate": "Artist=%{y}<br>Year=2017<br>sum of Count=%{x}<extra></extra>",
                                            "legendgroup": "Mastodon",
                                            "marker": {
                                                "color": "#00cc96",
                                                "pattern": {
                                                    "shape": ""
                                                }
                                            },
                                            "name": "Mastodon",
                                            "offsetgroup": "Mastodon",
                                            "orientation": "h",
                                            "showlegend": true,
                                            "type": "histogram",
                                            "x": [
                                                765
                                            ],
                                            "xaxis": "x",
                                            "y": [
                                                "Mastodon"
                                            ],
                                            "yaxis": "y"
                                        },
                                        {
                                            "alignmentgroup": "True",
                                            "bingroup": "y",
                                            "histfunc": "sum",
                                            "hovertemplate": "Artist=%{y}<br>Year=2017<br>sum of Count=%{x}<extra></extra>",
                                            "legendgroup": "Porcupine Tree",
                                            "marker": {
                                                "color": "#ab63fa",
                                                "pattern": {
                                                    "shape": ""
                                                }
                                            },
                                            "name": "Porcupine Tree",
                                            "offsetgroup": "Porcupine Tree",
                                            "orientation": "h",
                                            "showlegend": true,
                                            "type": "histogram",
                                            "x": [
                                                980
                                            ],
                                            "xaxis": "x",
                                            "y": [
                                                "Porcupine Tree"
                                            ],
                                            "yaxis": "y"
                                        }
                                    ],
                                    "name": "2017"
                                },
                                {
                                    "data": [
                                        {
                                            "alignmentgroup": "True",
                                            "bingroup": "y",
                                            "histfunc": "sum",
                                            "hovertemplate": "Artist=%{y}<br>Year=2018<br>sum of Count=%{x}<extra></extra>",
                                            "legendgroup": "Iron Maiden",
                                            "marker": {
                                                "color": "#636efa",
                                                "pattern": {
                                                    "shape": ""
                                                }
                                            },
                                            "name": "Iron Maiden",
                                            "offsetgroup": "Iron Maiden",
                                            "orientation": "h",
                                            "showlegend": true,
                                            "type": "histogram",
                                            "x": [
                                                2278
                                            ],
                                            "xaxis": "x",
                                            "y": [
                                                "Iron Maiden"
                                            ],
                                            "yaxis": "y"
                                        },
                                        {
                                            "alignmentgroup": "True",
                                            "bingroup": "y",
                                            "histfunc": "sum",
                                            "hovertemplate": "Artist=%{y}<br>Year=2018<br>sum of Count=%{x}<extra></extra>",
                                            "legendgroup": "Dream Theater",
                                            "marker": {
                                                "color": "#19d3f3",
                                                "pattern": {
                                                    "shape": ""
                                                }
                                            },
                                            "name": "Dream Theater",
                                            "offsetgroup": "Dream Theater",
                                            "orientation": "h",
                                            "showlegend": true,
                                            "type": "histogram",
                                            "x": [
                                                1684
                                            ],
                                            "xaxis": "x",
                                            "y": [
                                                "Dream Theater"
                                            ],
                                            "yaxis": "y"
                                        },
                                        {
                                            "alignmentgroup": "True",
                                            "bingroup": "y",
                                            "histfunc": "sum",
                                            "hovertemplate": "Artist=%{y}<br>Year=2018<br>sum of Count=%{x}<extra></extra>",
                                            "legendgroup": "Rush",
                                            "marker": {
                                                "color": "#B6E880",
                                                "pattern": {
                                                    "shape": ""
                                                }
                                            },
                                            "name": "Rush",
                                            "offsetgroup": "Rush",
                                            "orientation": "h",
                                            "showlegend": true,
                                            "type": "histogram",
                                            "x": [
                                                1679
                                            ],
                                            "xaxis": "x",
                                            "y": [
                                                "Rush"
                                            ],
                                            "yaxis": "y"
                                        },
                                        {
                                            "alignmentgroup": "True",
                                            "bingroup": "y",
                                            "histfunc": "sum",
                                            "hovertemplate": "Artist=%{y}<br>Year=2018<br>sum of Count=%{x}<extra></extra>",
                                            "legendgroup": "Mastodon",
                                            "marker": {
                                                "color": "#00cc96",
                                                "pattern": {
                                                    "shape": ""
                                                }
                                            },
                                            "name": "Mastodon",
                                            "offsetgroup": "Mastodon",
                                            "orientation": "h",
                                            "showlegend": true,
                                            "type": "histogram",
                                            "x": [
                                                945
                                            ],
                                            "xaxis": "x",
                                            "y": [
                                                "Mastodon"
                                            ],
                                            "yaxis": "y"
                                        },
                                        {
                                            "alignmentgroup": "True",
                                            "bingroup": "y",
                                            "histfunc": "sum",
                                            "hovertemplate": "Artist=%{y}<br>Year=2018<br>sum of Count=%{x}<extra></extra>",
                                            "legendgroup": "Porcupine Tree",
                                            "marker": {
                                                "color": "#ab63fa",
                                                "pattern": {
                                                    "shape": ""
                                                }
                                            },
                                            "name": "Porcupine Tree",
                                            "offsetgroup": "Porcupine Tree",
                                            "orientation": "h",
                                            "showlegend": true,
                                            "type": "histogram",
                                            "x": [
                                                1744
                                            ],
                                            "xaxis": "x",
                                            "y": [
                                                "Porcupine Tree"
                                            ],
                                            "yaxis": "y"
                                        }
                                    ],
                                    "name": "2018"
                                },
                                {
                                    "data": [
                                        {
                                            "alignmentgroup": "True",
                                            "bingroup": "y",
                                            "histfunc": "sum",
                                            "hovertemplate": "Artist=%{y}<br>Year=2019<br>sum of Count=%{x}<extra></extra>",
                                            "legendgroup": "Iron Maiden",
                                            "marker": {
                                                "color": "#636efa",
                                                "pattern": {
                                                    "shape": ""
                                                }
                                            },
                                            "name": "Iron Maiden",
                                            "offsetgroup": "Iron Maiden",
                                            "orientation": "h",
                                            "showlegend": true,
                                            "type": "histogram",
                                            "x": [
                                                2264
                                            ],
                                            "xaxis": "x",
                                            "y": [
                                                "Iron Maiden"
                                            ],
                                            "yaxis": "y"
                                        },
                                        {
                                            "alignmentgroup": "True",
                                            "bingroup": "y",
                                            "histfunc": "sum",
                                            "hovertemplate": "Artist=%{y}<br>Year=2019<br>sum of Count=%{x}<extra></extra>",
                                            "legendgroup": "Dream Theater",
                                            "marker": {
                                                "color": "#19d3f3",
                                                "pattern": {
                                                    "shape": ""
                                                }
                                            },
                                            "name": "Dream Theater",
                                            "offsetgroup": "Dream Theater",
                                            "orientation": "h",
                                            "showlegend": true,
                                            "type": "histogram",
                                            "x": [
                                                1490
                                            ],
                                            "xaxis": "x",
                                            "y": [
                                                "Dream Theater"
                                            ],
                                            "yaxis": "y"
                                        },
                                        {
                                            "alignmentgroup": "True",
                                            "bingroup": "y",
                                            "histfunc": "sum",
                                            "hovertemplate": "Artist=%{y}<br>Year=2019<br>sum of Count=%{x}<extra></extra>",
                                            "legendgroup": "Rush",
                                            "marker": {
                                                "color": "#B6E880",
                                                "pattern": {
                                                    "shape": ""
                                                }
                                            },
                                            "name": "Rush",
                                            "offsetgroup": "Rush",
                                            "orientation": "h",
                                            "showlegend": true,
                                            "type": "histogram",
                                            "x": [
                                                1207
                                            ],
                                            "xaxis": "x",
                                            "y": [
                                                "Rush"
                                            ],
                                            "yaxis": "y"
                                        },
                                        {
                                            "alignmentgroup": "True",
                                            "bingroup": "y",
                                            "histfunc": "sum",
                                            "hovertemplate": "Artist=%{y}<br>Year=2019<br>sum of Count=%{x}<extra></extra>",
                                            "legendgroup": "Porcupine Tree",
                                            "marker": {
                                                "color": "#ab63fa",
                                                "pattern": {
                                                    "shape": ""
                                                }
                                            },
                                            "name": "Porcupine Tree",
                                            "offsetgroup": "Porcupine Tree",
                                            "orientation": "h",
                                            "showlegend": true,
                                            "type": "histogram",
                                            "x": [
                                                1678
                                            ],
                                            "xaxis": "x",
                                            "y": [
                                                "Porcupine Tree"
                                            ],
                                            "yaxis": "y"
                                        },
                                        {
                                            "alignmentgroup": "True",
                                            "bingroup": "y",
                                            "histfunc": "sum",
                                            "hovertemplate": "Artist=%{y}<br>Year=2019<br>sum of Count=%{x}<extra></extra>",
                                            "legendgroup": "Opeth",
                                            "marker": {
                                                "color": "#FFA15A",
                                                "pattern": {
                                                    "shape": ""
                                                }
                                            },
                                            "name": "Opeth",
                                            "offsetgroup": "Opeth",
                                            "orientation": "h",
                                            "showlegend": true,
                                            "type": "histogram",
                                            "x": [
                                                1115
                                            ],
                                            "xaxis": "x",
                                            "y": [
                                                "Opeth"
                                            ],
                                            "yaxis": "y"
                                        }
                                    ],
                                    "name": "2019"
                                },
                                {
                                    "data": [
                                        {
                                            "alignmentgroup": "True",
                                            "bingroup": "y",
                                            "histfunc": "sum",
                                            "hovertemplate": "Artist=%{y}<br>Year=2020<br>sum of Count=%{x}<extra></extra>",
                                            "legendgroup": "Iron Maiden",
                                            "marker": {
                                                "color": "#636efa",
                                                "pattern": {
                                                    "shape": ""
                                                }
                                            },
                                            "name": "Iron Maiden",
                                            "offsetgroup": "Iron Maiden",
                                            "orientation": "h",
                                            "showlegend": true,
                                            "type": "histogram",
                                            "x": [
                                                1759
                                            ],
                                            "xaxis": "x",
                                            "y": [
                                                "Iron Maiden"
                                            ],
                                            "yaxis": "y"
                                        },
                                        {
                                            "alignmentgroup": "True",
                                            "bingroup": "y",
                                            "histfunc": "sum",
                                            "hovertemplate": "Artist=%{y}<br>Year=2020<br>sum of Count=%{x}<extra></extra>",
                                            "legendgroup": "Helloween",
                                            "marker": {
                                                "color": "#FFA15A",
                                                "pattern": {
                                                    "shape": ""
                                                }
                                            },
                                            "name": "Helloween",
                                            "offsetgroup": "Helloween",
                                            "orientation": "h",
                                            "showlegend": true,
                                            "type": "histogram",
                                            "x": [
                                                1032
                                            ],
                                            "xaxis": "x",
                                            "y": [
                                                "Helloween"
                                            ],
                                            "yaxis": "y"
                                        },
                                        {
                                            "alignmentgroup": "True",
                                            "bingroup": "y",
                                            "histfunc": "sum",
                                            "hovertemplate": "Artist=%{y}<br>Year=2020<br>sum of Count=%{x}<extra></extra>",
                                            "legendgroup": "Dream Theater",
                                            "marker": {
                                                "color": "#19d3f3",
                                                "pattern": {
                                                    "shape": ""
                                                }
                                            },
                                            "name": "Dream Theater",
                                            "offsetgroup": "Dream Theater",
                                            "orientation": "h",
                                            "showlegend": true,
                                            "type": "histogram",
                                            "x": [
                                                1144
                                            ],
                                            "xaxis": "x",
                                            "y": [
                                                "Dream Theater"
                                            ],
                                            "yaxis": "y"
                                        },
                                        {
                                            "alignmentgroup": "True",
                                            "bingroup": "y",
                                            "histfunc": "sum",
                                            "hovertemplate": "Artist=%{y}<br>Year=2020<br>sum of Count=%{x}<extra></extra>",
                                            "legendgroup": "Rush",
                                            "marker": {
                                                "color": "#B6E880",
                                                "pattern": {
                                                    "shape": ""
                                                }
                                            },
                                            "name": "Rush",
                                            "offsetgroup": "Rush",
                                            "orientation": "h",
                                            "showlegend": true,
                                            "type": "histogram",
                                            "x": [
                                                1414
                                            ],
                                            "xaxis": "x",
                                            "y": [
                                                "Rush"
                                            ],
                                            "yaxis": "y"
                                        },
                                        {
                                            "alignmentgroup": "True",
                                            "bingroup": "y",
                                            "histfunc": "sum",
                                            "hovertemplate": "Artist=%{y}<br>Year=2020<br>sum of Count=%{x}<extra></extra>",
                                            "legendgroup": "Porcupine Tree",
                                            "marker": {
                                                "color": "#ab63fa",
                                                "pattern": {
                                                    "shape": ""
                                                }
                                            },
                                            "name": "Porcupine Tree",
                                            "offsetgroup": "Porcupine Tree",
                                            "orientation": "h",
                                            "showlegend": true,
                                            "type": "histogram",
                                            "x": [
                                                1820
                                            ],
                                            "xaxis": "x",
                                            "y": [
                                                "Porcupine Tree"
                                            ],
                                            "yaxis": "y"
                                        }
                                    ],
                                    "name": "2020"
                                },
                                {
                                    "data": [
                                        {
                                            "alignmentgroup": "True",
                                            "bingroup": "y",
                                            "histfunc": "sum",
                                            "hovertemplate": "Artist=%{y}<br>Year=2021<br>sum of Count=%{x}<extra></extra>",
                                            "legendgroup": "Iron Maiden",
                                            "marker": {
                                                "color": "#636efa",
                                                "pattern": {
                                                    "shape": ""
                                                }
                                            },
                                            "name": "Iron Maiden",
                                            "offsetgroup": "Iron Maiden",
                                            "orientation": "h",
                                            "showlegend": true,
                                            "type": "histogram",
                                            "x": [
                                                515
                                            ],
                                            "xaxis": "x",
                                            "y": [
                                                "Iron Maiden"
                                            ],
                                            "yaxis": "y"
                                        },
                                        {
                                            "alignmentgroup": "True",
                                            "bingroup": "y",
                                            "histfunc": "sum",
                                            "hovertemplate": "Artist=%{y}<br>Year=2021<br>sum of Count=%{x}<extra></extra>",
                                            "legendgroup": "Dream Theater",
                                            "marker": {
                                                "color": "#19d3f3",
                                                "pattern": {
                                                    "shape": ""
                                                }
                                            },
                                            "name": "Dream Theater",
                                            "offsetgroup": "Dream Theater",
                                            "orientation": "h",
                                            "showlegend": true,
                                            "type": "histogram",
                                            "x": [
                                                705
                                            ],
                                            "xaxis": "x",
                                            "y": [
                                                "Dream Theater"
                                            ],
                                            "yaxis": "y"
                                        },
                                        {
                                            "alignmentgroup": "True",
                                            "bingroup": "y",
                                            "histfunc": "sum",
                                            "hovertemplate": "Artist=%{y}<br>Year=2021<br>sum of Count=%{x}<extra></extra>",
                                            "legendgroup": "Rush",
                                            "marker": {
                                                "color": "#B6E880",
                                                "pattern": {
                                                    "shape": ""
                                                }
                                            },
                                            "name": "Rush",
                                            "offsetgroup": "Rush",
                                            "orientation": "h",
                                            "showlegend": true,
                                            "type": "histogram",
                                            "x": [
                                                512
                                            ],
                                            "xaxis": "x",
                                            "y": [
                                                "Rush"
                                            ],
                                            "yaxis": "y"
                                        },
                                        {
                                            "alignmentgroup": "True",
                                            "bingroup": "y",
                                            "histfunc": "sum",
                                            "hovertemplate": "Artist=%{y}<br>Year=2021<br>sum of Count=%{x}<extra></extra>",
                                            "legendgroup": "Porcupine Tree",
                                            "marker": {
                                                "color": "#ab63fa",
                                                "pattern": {
                                                    "shape": ""
                                                }
                                            },
                                            "name": "Porcupine Tree",
                                            "offsetgroup": "Porcupine Tree",
                                            "orientation": "h",
                                            "showlegend": true,
                                            "type": "histogram",
                                            "x": [
                                                981
                                            ],
                                            "xaxis": "x",
                                            "y": [
                                                "Porcupine Tree"
                                            ],
                                            "yaxis": "y"
                                        },
                                        {
                                            "alignmentgroup": "True",
                                            "bingroup": "y",
                                            "histfunc": "sum",
                                            "hovertemplate": "Artist=%{y}<br>Year=2021<br>sum of Count=%{x}<extra></extra>",
                                            "legendgroup": "Steven Wilson",
                                            "marker": {
                                                "color": "#19d3f3",
                                                "pattern": {
                                                    "shape": ""
                                                }
                                            },
                                            "name": "Steven Wilson",
                                            "offsetgroup": "Steven Wilson",
                                            "orientation": "h",
                                            "showlegend": true,
                                            "type": "histogram",
                                            "x": [
                                                1004
                                            ],
                                            "xaxis": "x",
                                            "y": [
                                                "Steven Wilson"
                                            ],
                                            "yaxis": "y"
                                        }
                                    ],
                                    "name": "2021"
                                }
                            ],
                            "layout": {
                                "barmode": "relative",
                                "legend": {
                                    "title": {
                                        "text": "Artist"
                                    },
                                    "tracegroupgap": 0
                                },
                                "margin": {
                                    "t": 60
                                },
                                "sliders": [
                                    {
                                        "active": 12,
                                        "currentvalue": {
                                            "prefix": "Year="
                                        },
                                        "len": 0.9,
                                        "pad": {
                                            "b": 10,
                                            "t": 60
                                        },
                                        "steps": [
                                            {
                                                "args": [
                                                    [
                                                        "2009"
                                                    ],
                                                    {
                                                        "frame": {
                                                            "duration": 0,
                                                            "redraw": true
                                                        },
                                                        "fromcurrent": true,
                                                        "mode": "immediate",
                                                        "transition": {
                                                            "duration": 0,
                                                            "easing": "linear"
                                                        }
                                                    }
                                                ],
                                                "label": "2009",
                                                "method": "animate"
                                            },
                                            {
                                                "args": [
                                                    [
                                                        "2010"
                                                    ],
                                                    {
                                                        "frame": {
                                                            "duration": 0,
                                                            "redraw": true
                                                        },
                                                        "fromcurrent": true,
                                                        "mode": "immediate",
                                                        "transition": {
                                                            "duration": 0,
                                                            "easing": "linear"
                                                        }
                                                    }
                                                ],
                                                "label": "2010",
                                                "method": "animate"
                                            },
                                            {
                                                "args": [
                                                    [
                                                        "2011"
                                                    ],
                                                    {
                                                        "frame": {
                                                            "duration": 0,
                                                            "redraw": true
                                                        },
                                                        "fromcurrent": true,
                                                        "mode": "immediate",
                                                        "transition": {
                                                            "duration": 0,
                                                            "easing": "linear"
                                                        }
                                                    }
                                                ],
                                                "label": "2011",
                                                "method": "animate"
                                            },
                                            {
                                                "args": [
                                                    [
                                                        "2012"
                                                    ],
                                                    {
                                                        "frame": {
                                                            "duration": 0,
                                                            "redraw": true
                                                        },
                                                        "fromcurrent": true,
                                                        "mode": "immediate",
                                                        "transition": {
                                                            "duration": 0,
                                                            "easing": "linear"
                                                        }
                                                    }
                                                ],
                                                "label": "2012",
                                                "method": "animate"
                                            },
                                            {
                                                "args": [
                                                    [
                                                        "2013"
                                                    ],
                                                    {
                                                        "frame": {
                                                            "duration": 0,
                                                            "redraw": true
                                                        },
                                                        "fromcurrent": true,
                                                        "mode": "immediate",
                                                        "transition": {
                                                            "duration": 0,
                                                            "easing": "linear"
                                                        }
                                                    }
                                                ],
                                                "label": "2013",
                                                "method": "animate"
                                            },
                                            {
                                                "args": [
                                                    [
                                                        "2014"
                                                    ],
                                                    {
                                                        "frame": {
                                                            "duration": 0,
                                                            "redraw": true
                                                        },
                                                        "fromcurrent": true,
                                                        "mode": "immediate",
                                                        "transition": {
                                                            "duration": 0,
                                                            "easing": "linear"
                                                        }
                                                    }
                                                ],
                                                "label": "2014",
                                                "method": "animate"
                                            },
                                            {
                                                "args": [
                                                    [
                                                        "2015"
                                                    ],
                                                    {
                                                        "frame": {
                                                            "duration": 0,
                                                            "redraw": true
                                                        },
                                                        "fromcurrent": true,
                                                        "mode": "immediate",
                                                        "transition": {
                                                            "duration": 0,
                                                            "easing": "linear"
                                                        }
                                                    }
                                                ],
                                                "label": "2015",
                                                "method": "animate"
                                            },
                                            {
                                                "args": [
                                                    [
                                                        "2016"
                                                    ],
                                                    {
                                                        "frame": {
                                                            "duration": 0,
                                                            "redraw": true
                                                        },
                                                        "fromcurrent": true,
                                                        "mode": "immediate",
                                                        "transition": {
                                                            "duration": 0,
                                                            "easing": "linear"
                                                        }
                                                    }
                                                ],
                                                "label": "2016",
                                                "method": "animate"
                                            },
                                            {
                                                "args": [
                                                    [
                                                        "2017"
                                                    ],
                                                    {
                                                        "frame": {
                                                            "duration": 0,
                                                            "redraw": true
                                                        },
                                                        "fromcurrent": true,
                                                        "mode": "immediate",
                                                        "transition": {
                                                            "duration": 0,
                                                            "easing": "linear"
                                                        }
                                                    }
                                                ],
                                                "label": "2017",
                                                "method": "animate"
                                            },
                                            {
                                                "args": [
                                                    [
                                                        "2018"
                                                    ],
                                                    {
                                                        "frame": {
                                                            "duration": 0,
                                                            "redraw": true
                                                        },
                                                        "fromcurrent": true,
                                                        "mode": "immediate",
                                                        "transition": {
                                                            "duration": 0,
                                                            "easing": "linear"
                                                        }
                                                    }
                                                ],
                                                "label": "2018",
                                                "method": "animate"
                                            },
                                            {
                                                "args": [
                                                    [
                                                        "2019"
                                                    ],
                                                    {
                                                        "frame": {
                                                            "duration": 0,
                                                            "redraw": true
                                                        },
                                                        "fromcurrent": true,
                                                        "mode": "immediate",
                                                        "transition": {
                                                            "duration": 0,
                                                            "easing": "linear"
                                                        }
                                                    }
                                                ],
                                                "label": "2019",
                                                "method": "animate"
                                            },
                                            {
                                                "args": [
                                                    [
                                                        "2020"
                                                    ],
                                                    {
                                                        "frame": {
                                                            "duration": 0,
                                                            "redraw": true
                                                        },
                                                        "fromcurrent": true,
                                                        "mode": "immediate",
                                                        "transition": {
                                                            "duration": 0,
                                                            "easing": "linear"
                                                        }
                                                    }
                                                ],
                                                "label": "2020",
                                                "method": "animate"
                                            },
                                            {
                                                "args": [
                                                    [
                                                        "2021"
                                                    ],
                                                    {
                                                        "frame": {
                                                            "duration": 0,
                                                            "redraw": true
                                                        },
                                                        "fromcurrent": true,
                                                        "mode": "immediate",
                                                        "transition": {
                                                            "duration": 0,
                                                            "easing": "linear"
                                                        }
                                                    }
                                                ],
                                                "label": "2021",
                                                "method": "animate"
                                            }
                                        ],
                                        "x": 0.1,
                                        "xanchor": "left",
                                        "y": 0,
                                        "yanchor": "top"
                                    }
                                ],
                                "template": {
                                    "data": {
                                        "bar": [
                                            {
                                                "error_x": {
                                                    "color": "#2a3f5f"
                                                },
                                                "error_y": {
                                                    "color": "#2a3f5f"
                                                },
                                                "marker": {
                                                    "line": {
                                                        "color": "#E5ECF6",
                                                        "width": 0.5
                                                    },
                                                    "pattern": {
                                                        "fillmode": "overlay",
                                                        "size": 10,
                                                        "solidity": 0.2
                                                    }
                                                },
                                                "type": "bar"
                                            }
                                        ],
                                        "barpolar": [
                                            {
                                                "marker": {
                                                    "line": {
                                                        "color": "#E5ECF6",
                                                        "width": 0.5
                                                    },
                                                    "pattern": {
                                                        "fillmode": "overlay",
                                                        "size": 10,
                                                        "solidity": 0.2
                                                    }
                                                },
                                                "type": "barpolar"
                                            }
                                        ],
                                        "carpet": [
                                            {
                                                "aaxis": {
                                                    "endlinecolor": "#2a3f5f",
                                                    "gridcolor": "white",
                                                    "linecolor": "white",
                                                    "minorgridcolor": "white",
                                                    "startlinecolor": "#2a3f5f"
                                                },
                                                "baxis": {
                                                    "endlinecolor": "#2a3f5f",
                                                    "gridcolor": "white",
                                                    "linecolor": "white",
                                                    "minorgridcolor": "white",
                                                    "startlinecolor": "#2a3f5f"
                                                },
                                                "type": "carpet"
                                            }
                                        ],
                                        "choropleth": [
                                            {
                                                "colorbar": {
                                                    "outlinewidth": 0,
                                                    "ticks": ""
                                                },
                                                "type": "choropleth"
                                            }
                                        ],
                                        "contour": [
                                            {
                                                "colorbar": {
                                                    "outlinewidth": 0,
                                                    "ticks": ""
                                                },
                                                "colorscale": [
                                                    [
                                                        0,
                                                        "#0d0887"
                                                    ],
                                                    [
                                                        0.1111111111111111,
                                                        "#46039f"
                                                    ],
                                                    [
                                                        0.2222222222222222,
                                                        "#7201a8"
                                                    ],
                                                    [
                                                        0.3333333333333333,
                                                        "#9c179e"
                                                    ],
                                                    [
                                                        0.4444444444444444,
                                                        "#bd3786"
                                                    ],
                                                    [
                                                        0.5555555555555556,
                                                        "#d8576b"
                                                    ],
                                                    [
                                                        0.6666666666666666,
                                                        "#ed7953"
                                                    ],
                                                    [
                                                        0.7777777777777778,
                                                        "#fb9f3a"
                                                    ],
                                                    [
                                                        0.8888888888888888,
                                                        "#fdca26"
                                                    ],
                                                    [
                                                        1,
                                                        "#f0f921"
                                                    ]
                                                ],
                                                "type": "contour"
                                            }
                                        ],
                                        "contourcarpet": [
                                            {
                                                "colorbar": {
                                                    "outlinewidth": 0,
                                                    "ticks": ""
                                                },
                                                "type": "contourcarpet"
                                            }
                                        ],
                                        "heatmap": [
                                            {
                                                "colorbar": {
                                                    "outlinewidth": 0,
                                                    "ticks": ""
                                                },
                                                "colorscale": [
                                                    [
                                                        0,
                                                        "#0d0887"
                                                    ],
                                                    [
                                                        0.1111111111111111,
                                                        "#46039f"
                                                    ],
                                                    [
                                                        0.2222222222222222,
                                                        "#7201a8"
                                                    ],
                                                    [
                                                        0.3333333333333333,
                                                        "#9c179e"
                                                    ],
                                                    [
                                                        0.4444444444444444,
                                                        "#bd3786"
                                                    ],
                                                    [
                                                        0.5555555555555556,
                                                        "#d8576b"
                                                    ],
                                                    [
                                                        0.6666666666666666,
                                                        "#ed7953"
                                                    ],
                                                    [
                                                        0.7777777777777778,
                                                        "#fb9f3a"
                                                    ],
                                                    [
                                                        0.8888888888888888,
                                                        "#fdca26"
                                                    ],
                                                    [
                                                        1,
                                                        "#f0f921"
                                                    ]
                                                ],
                                                "type": "heatmap"
                                            }
                                        ],
                                        "heatmapgl": [
                                            {
                                                "colorbar": {
                                                    "outlinewidth": 0,
                                                    "ticks": ""
                                                },
                                                "colorscale": [
                                                    [
                                                        0,
                                                        "#0d0887"
                                                    ],
                                                    [
                                                        0.1111111111111111,
                                                        "#46039f"
                                                    ],
                                                    [
                                                        0.2222222222222222,
                                                        "#7201a8"
                                                    ],
                                                    [
                                                        0.3333333333333333,
                                                        "#9c179e"
                                                    ],
                                                    [
                                                        0.4444444444444444,
                                                        "#bd3786"
                                                    ],
                                                    [
                                                        0.5555555555555556,
                                                        "#d8576b"
                                                    ],
                                                    [
                                                        0.6666666666666666,
                                                        "#ed7953"
                                                    ],
                                                    [
                                                        0.7777777777777778,
                                                        "#fb9f3a"
                                                    ],
                                                    [
                                                        0.8888888888888888,
                                                        "#fdca26"
                                                    ],
                                                    [
                                                        1,
                                                        "#f0f921"
                                                    ]
                                                ],
                                                "type": "heatmapgl"
                                            }
                                        ],
                                        "histogram": [
                                            {
                                                "marker": {
                                                    "pattern": {
                                                        "fillmode": "overlay",
                                                        "size": 10,
                                                        "solidity": 0.2
                                                    }
                                                },
                                                "type": "histogram"
                                            }
                                        ],
                                        "histogram2d": [
                                            {
                                                "colorbar": {
                                                    "outlinewidth": 0,
                                                    "ticks": ""
                                                },
                                                "colorscale": [
                                                    [
                                                        0,
                                                        "#0d0887"
                                                    ],
                                                    [
                                                        0.1111111111111111,
                                                        "#46039f"
                                                    ],
                                                    [
                                                        0.2222222222222222,
                                                        "#7201a8"
                                                    ],
                                                    [
                                                        0.3333333333333333,
                                                        "#9c179e"
                                                    ],
                                                    [
                                                        0.4444444444444444,
                                                        "#bd3786"
                                                    ],
                                                    [
                                                        0.5555555555555556,
                                                        "#d8576b"
                                                    ],
                                                    [
                                                        0.6666666666666666,
                                                        "#ed7953"
                                                    ],
                                                    [
                                                        0.7777777777777778,
                                                        "#fb9f3a"
                                                    ],
                                                    [
                                                        0.8888888888888888,
                                                        "#fdca26"
                                                    ],
                                                    [
                                                        1,
                                                        "#f0f921"
                                                    ]
                                                ],
                                                "type": "histogram2d"
                                            }
                                        ],
                                        "histogram2dcontour": [
                                            {
                                                "colorbar": {
                                                    "outlinewidth": 0,
                                                    "ticks": ""
                                                },
                                                "colorscale": [
                                                    [
                                                        0,
                                                        "#0d0887"
                                                    ],
                                                    [
                                                        0.1111111111111111,
                                                        "#46039f"
                                                    ],
                                                    [
                                                        0.2222222222222222,
                                                        "#7201a8"
                                                    ],
                                                    [
                                                        0.3333333333333333,
                                                        "#9c179e"
                                                    ],
                                                    [
                                                        0.4444444444444444,
                                                        "#bd3786"
                                                    ],
                                                    [
                                                        0.5555555555555556,
                                                        "#d8576b"
                                                    ],
                                                    [
                                                        0.6666666666666666,
                                                        "#ed7953"
                                                    ],
                                                    [
                                                        0.7777777777777778,
                                                        "#fb9f3a"
                                                    ],
                                                    [
                                                        0.8888888888888888,
                                                        "#fdca26"
                                                    ],
                                                    [
                                                        1,
                                                        "#f0f921"
                                                    ]
                                                ],
                                                "type": "histogram2dcontour"
                                            }
                                        ],
                                        "mesh3d": [
                                            {
                                                "colorbar": {
                                                    "outlinewidth": 0,
                                                    "ticks": ""
                                                },
                                                "type": "mesh3d"
                                            }
                                        ],
                                        "parcoords": [
                                            {
                                                "line": {
                                                    "colorbar": {
                                                        "outlinewidth": 0,
                                                        "ticks": ""
                                                    }
                                                },
                                                "type": "parcoords"
                                            }
                                        ],
                                        "pie": [
                                            {
                                                "automargin": true,
                                                "type": "pie"
                                            }
                                        ],
                                        "scatter": [
                                            {
                                                "marker": {
                                                    "colorbar": {
                                                        "outlinewidth": 0,
                                                        "ticks": ""
                                                    }
                                                },
                                                "type": "scatter"
                                            }
                                        ],
                                        "scatter3d": [
                                            {
                                                "line": {
                                                    "colorbar": {
                                                        "outlinewidth": 0,
                                                        "ticks": ""
                                                    }
                                                },
                                                "marker": {
                                                    "colorbar": {
                                                        "outlinewidth": 0,
                                                        "ticks": ""
                                                    }
                                                },
                                                "type": "scatter3d"
                                            }
                                        ],
                                        "scattercarpet": [
                                            {
                                                "marker": {
                                                    "colorbar": {
                                                        "outlinewidth": 0,
                                                        "ticks": ""
                                                    }
                                                },
                                                "type": "scattercarpet"
                                            }
                                        ],
                                        "scattergeo": [
                                            {
                                                "marker": {
                                                    "colorbar": {
                                                        "outlinewidth": 0,
                                                        "ticks": ""
                                                    }
                                                },
                                                "type": "scattergeo"
                                            }
                                        ],
                                        "scattergl": [
                                            {
                                                "marker": {
                                                    "colorbar": {
                                                        "outlinewidth": 0,
                                                        "ticks": ""
                                                    }
                                                },
                                                "type": "scattergl"
                                            }
                                        ],
                                        "scattermapbox": [
                                            {
                                                "marker": {
                                                    "colorbar": {
                                                        "outlinewidth": 0,
                                                        "ticks": ""
                                                    }
                                                },
                                                "type": "scattermapbox"
                                            }
                                        ],
                                        "scatterpolar": [
                                            {
                                                "marker": {
                                                    "colorbar": {
                                                        "outlinewidth": 0,
                                                        "ticks": ""
                                                    }
                                                },
                                                "type": "scatterpolar"
                                            }
                                        ],
                                        "scatterpolargl": [
                                            {
                                                "marker": {
                                                    "colorbar": {
                                                        "outlinewidth": 0,
                                                        "ticks": ""
                                                    }
                                                },
                                                "type": "scatterpolargl"
                                            }
                                        ],
                                        "scatterternary": [
                                            {
                                                "marker": {
                                                    "colorbar": {
                                                        "outlinewidth": 0,
                                                        "ticks": ""
                                                    }
                                                },
                                                "type": "scatterternary"
                                            }
                                        ],
                                        "surface": [
                                            {
                                                "colorbar": {
                                                    "outlinewidth": 0,
                                                    "ticks": ""
                                                },
                                                "colorscale": [
                                                    [
                                                        0,
                                                        "#0d0887"
                                                    ],
                                                    [
                                                        0.1111111111111111,
                                                        "#46039f"
                                                    ],
                                                    [
                                                        0.2222222222222222,
                                                        "#7201a8"
                                                    ],
                                                    [
                                                        0.3333333333333333,
                                                        "#9c179e"
                                                    ],
                                                    [
                                                        0.4444444444444444,
                                                        "#bd3786"
                                                    ],
                                                    [
                                                        0.5555555555555556,
                                                        "#d8576b"
                                                    ],
                                                    [
                                                        0.6666666666666666,
                                                        "#ed7953"
                                                    ],
                                                    [
                                                        0.7777777777777778,
                                                        "#fb9f3a"
                                                    ],
                                                    [
                                                        0.8888888888888888,
                                                        "#fdca26"
                                                    ],
                                                    [
                                                        1,
                                                        "#f0f921"
                                                    ]
                                                ],
                                                "type": "surface"
                                            }
                                        ],
                                        "table": [
                                            {
                                                "cells": {
                                                    "fill": {
                                                        "color": "#EBF0F8"
                                                    },
                                                    "line": {
                                                        "color": "white"
                                                    }
                                                },
                                                "header": {
                                                    "fill": {
                                                        "color": "#C8D4E3"
                                                    },
                                                    "line": {
                                                        "color": "white"
                                                    }
                                                },
                                                "type": "table"
                                            }
                                        ]
                                    },
                                    "layout": {
                                        "annotationdefaults": {
                                            "arrowcolor": "#2a3f5f",
                                            "arrowhead": 0,
                                            "arrowwidth": 1
                                        },
                                        "autotypenumbers": "strict",
                                        "coloraxis": {
                                            "colorbar": {
                                                "outlinewidth": 0,
                                                "ticks": ""
                                            }
                                        },
                                        "colorscale": {
                                            "diverging": [
                                                [
                                                    0,
                                                    "#8e0152"
                                                ],
                                                [
                                                    0.1,
                                                    "#c51b7d"
                                                ],
                                                [
                                                    0.2,
                                                    "#de77ae"
                                                ],
                                                [
                                                    0.3,
                                                    "#f1b6da"
                                                ],
                                                [
                                                    0.4,
                                                    "#fde0ef"
                                                ],
                                                [
                                                    0.5,
                                                    "#f7f7f7"
                                                ],
                                                [
                                                    0.6,
                                                    "#e6f5d0"
                                                ],
                                                [
                                                    0.7,
                                                    "#b8e186"
                                                ],
                                                [
                                                    0.8,
                                                    "#7fbc41"
                                                ],
                                                [
                                                    0.9,
                                                    "#4d9221"
                                                ],
                                                [
                                                    1,
                                                    "#276419"
                                                ]
                                            ],
                                            "sequential": [
                                                [
                                                    0,
                                                    "#0d0887"
                                                ],
                                                [
                                                    0.1111111111111111,
                                                    "#46039f"
                                                ],
                                                [
                                                    0.2222222222222222,
                                                    "#7201a8"
                                                ],
                                                [
                                                    0.3333333333333333,
                                                    "#9c179e"
                                                ],
                                                [
                                                    0.4444444444444444,
                                                    "#bd3786"
                                                ],
                                                [
                                                    0.5555555555555556,
                                                    "#d8576b"
                                                ],
                                                [
                                                    0.6666666666666666,
                                                    "#ed7953"
                                                ],
                                                [
                                                    0.7777777777777778,
                                                    "#fb9f3a"
                                                ],
                                                [
                                                    0.8888888888888888,
                                                    "#fdca26"
                                                ],
                                                [
                                                    1,
                                                    "#f0f921"
                                                ]
                                            ],
                                            "sequentialminus": [
                                                [
                                                    0,
                                                    "#0d0887"
                                                ],
                                                [
                                                    0.1111111111111111,
                                                    "#46039f"
                                                ],
                                                [
                                                    0.2222222222222222,
                                                    "#7201a8"
                                                ],
                                                [
                                                    0.3333333333333333,
                                                    "#9c179e"
                                                ],
                                                [
                                                    0.4444444444444444,
                                                    "#bd3786"
                                                ],
                                                [
                                                    0.5555555555555556,
                                                    "#d8576b"
                                                ],
                                                [
                                                    0.6666666666666666,
                                                    "#ed7953"
                                                ],
                                                [
                                                    0.7777777777777778,
                                                    "#fb9f3a"
                                                ],
                                                [
                                                    0.8888888888888888,
                                                    "#fdca26"
                                                ],
                                                [
                                                    1,
                                                    "#f0f921"
                                                ]
                                            ]
                                        },
                                        "colorway": [
                                            "#636efa",
                                            "#EF553B",
                                            "#00cc96",
                                            "#ab63fa",
                                            "#FFA15A",
                                            "#19d3f3",
                                            "#FF6692",
                                            "#B6E880",
                                            "#FF97FF",
                                            "#FECB52"
                                        ],
                                        "font": {
                                            "color": "#2a3f5f"
                                        },
                                        "geo": {
                                            "bgcolor": "white",
                                            "lakecolor": "white",
                                            "landcolor": "#E5ECF6",
                                            "showlakes": true,
                                            "showland": true,
                                            "subunitcolor": "white"
                                        },
                                        "hoverlabel": {
                                            "align": "left"
                                        },
                                        "hovermode": "closest",
                                        "mapbox": {
                                            "style": "light"
                                        },
                                        "paper_bgcolor": "white",
                                        "plot_bgcolor": "#E5ECF6",
                                        "polar": {
                                            "angularaxis": {
                                                "gridcolor": "white",
                                                "linecolor": "white",
                                                "ticks": ""
                                            },
                                            "bgcolor": "#E5ECF6",
                                            "radialaxis": {
                                                "gridcolor": "white",
                                                "linecolor": "white",
                                                "ticks": ""
                                            }
                                        },
                                        "scene": {
                                            "xaxis": {
                                                "backgroundcolor": "#E5ECF6",
                                                "gridcolor": "white",
                                                "gridwidth": 2,
                                                "linecolor": "white",
                                                "showbackground": true,
                                                "ticks": "",
                                                "zerolinecolor": "white"
                                            },
                                            "yaxis": {
                                                "backgroundcolor": "#E5ECF6",
                                                "gridcolor": "white",
                                                "gridwidth": 2,
                                                "linecolor": "white",
                                                "showbackground": true,
                                                "ticks": "",
                                                "zerolinecolor": "white"
                                            },
                                            "zaxis": {
                                                "backgroundcolor": "#E5ECF6",
                                                "gridcolor": "white",
                                                "gridwidth": 2,
                                                "linecolor": "white",
                                                "showbackground": true,
                                                "ticks": "",
                                                "zerolinecolor": "white"
                                            }
                                        },
                                        "shapedefaults": {
                                            "line": {
                                                "color": "#2a3f5f"
                                            }
                                        },
                                        "ternary": {
                                            "aaxis": {
                                                "gridcolor": "white",
                                                "linecolor": "white",
                                                "ticks": ""
                                            },
                                            "baxis": {
                                                "gridcolor": "white",
                                                "linecolor": "white",
                                                "ticks": ""
                                            },
                                            "bgcolor": "#E5ECF6",
                                            "caxis": {
                                                "gridcolor": "white",
                                                "linecolor": "white",
                                                "ticks": ""
                                            }
                                        },
                                        "title": {
                                            "x": 0.05
                                        },
                                        "xaxis": {
                                            "automargin": true,
                                            "gridcolor": "white",
                                            "linecolor": "white",
                                            "ticks": "",
                                            "title": {
                                                "standoff": 15
                                            },
                                            "zerolinecolor": "white",
                                            "zerolinewidth": 2
                                        },
                                        "yaxis": {
                                            "automargin": true,
                                            "gridcolor": "white",
                                            "linecolor": "white",
                                            "ticks": "",
                                            "title": {
                                                "standoff": 15
                                            },
                                            "zerolinecolor": "white",
                                            "zerolinewidth": 2
                                        }
                                    }
                                },
                                "updatemenus": [
                                    {
                                        "buttons": [
                                            {
                                                "args": [
                                                    null,
                                                    {
                                                        "frame": {
                                                            "duration": 500,
                                                            "redraw": true
                                                        },
                                                        "fromcurrent": true,
                                                        "mode": "immediate",
                                                        "transition": {
                                                            "duration": 500,
                                                            "easing": "linear"
                                                        }
                                                    }
                                                ],
                                                "label": "&#9654;",
                                                "method": "animate"
                                            },
                                            {
                                                "args": [
                                                    [
                                                        null
                                                    ],
                                                    {
                                                        "frame": {
                                                            "duration": 0,
                                                            "redraw": true
                                                        },
                                                        "fromcurrent": true,
                                                        "mode": "immediate",
                                                        "transition": {
                                                            "duration": 0,
                                                            "easing": "linear"
                                                        }
                                                    }
                                                ],
                                                "label": "&#9724;",
                                                "method": "animate"
                                            }
                                        ],
                                        "direction": "left",
                                        "pad": {
                                            "r": 10,
                                            "t": 70
                                        },
                                        "showactive": false,
                                        "type": "buttons",
                                        "x": 0.1,
                                        "xanchor": "right",
                                        "y": 0,
                                        "yanchor": "top"
                                    }
                                ],
                                "xaxis": {
                                    "anchor": "y",
                                    "domain": [
                                        0,
                                        1
                                    ],
                                    "title": {
                                        "text": "sum of Count"
                                    }
                                },
                                "yaxis": {
                                    "anchor": "x",
                                    "categoryarray": [
                                        "Steven Wilson",
                                        "Opeth",
                                        "Porcupine Tree",
                                        "Mastodon",
                                        "Courtney Barnett",
                                        "Pink Floyd",
                                        "Metallica",
                                        "Two Door Cinema Club",
                                        "Rush",
                                        "Slayer",
                                        "Dream Theater",
                                        "Helloween",
                                        "Motörhead",
                                        "Saxon",
                                        "Joe Satriani",
                                        "Iron Maiden"
                                    ],
                                    "categoryorder": "array",
                                    "domain": [
                                        0,
                                        1
                                    ],
                                    "title": {
                                        "text": "Artist"
                                    }
                                }
                            }
                        }
                    },
                    "metadata": {}
                }
            ],
            "metadata": {}
        },
        {
            "cell_type": "code",
            "execution_count": 14,
            "source": [
                "x=2008\n",
                "dfs=[]\n",
                "while x<2022:\n",
                "    year_tmp=df_maria[df_maria['Year']==x]\n",
                "    year_tmp=year_tmp.groupby('Artist').Artist.count()\n",
                "    df_temp1=year_tmp.to_frame()\n",
                "    df_temp1.columns=['Count']\n",
                "    df_temp1['Artist']= year_tmp.index\n",
                "    df_temp1.reset_index(drop=True, inplace=True)\n",
                "    df_temp2=df_temp1.sort_values('Count', ascending=False).head(10)\n",
                "    df_temp2['Year']=x\n",
                "    df_temp2.reset_index(drop=True, inplace=True)\n",
                "    dfs.append(df_temp2)\n",
                "    x=x+1\n",
                "df_MariabyArtistYear=pd.concat(dfs, ignore_index=True)\n",
                "maria_fig=px.histogram(df_MariabyArtistYear,\n",
                "        x = 'Count',\n",
                "        y = 'Artist',\n",
                "        color='Artist',\n",
                "        animation_frame='Year')\n",
                "maria_fig2 = go.Figure()\n",
                "for tr in maria_fig.frames[-1].data:\n",
                "    maria_fig2.add_trace(tr)\n",
                "maria_fig2.layout = maria_fig.layout\n",
                "maria_fig2.frames = maria_fig.frames\n",
                "maria_fig2.layout['sliders'][0]['active'] = len(maria_fig.frames) - 1\n",
                "maria_fig2"
            ],
            "outputs": [
                {
                    "output_type": "display_data",
                    "data": {
                        "application/vnd.plotly.v1+json": {
                            "config": {
                                "plotlyServerURL": "https://plot.ly"
                            },
                            "data": [
                                {
                                    "alignmentgroup": "True",
                                    "bingroup": "y",
                                    "histfunc": "sum",
                                    "hovertemplate": "Artist=%{y}<br>Year=2021<br>sum of Count=%{x}<extra></extra>",
                                    "legendgroup": "Land of Talk",
                                    "marker": {
                                        "color": "#ab63fa",
                                        "pattern": {
                                            "shape": ""
                                        }
                                    },
                                    "name": "Land of Talk",
                                    "offsetgroup": "Land of Talk",
                                    "orientation": "h",
                                    "showlegend": true,
                                    "type": "histogram",
                                    "x": [
                                        138
                                    ],
                                    "xaxis": "x",
                                    "y": [
                                        "Land of Talk"
                                    ],
                                    "yaxis": "y"
                                },
                                {
                                    "alignmentgroup": "True",
                                    "bingroup": "y",
                                    "histfunc": "sum",
                                    "hovertemplate": "Artist=%{y}<br>Year=2021<br>sum of Count=%{x}<extra></extra>",
                                    "legendgroup": "Silversun Pickups",
                                    "marker": {
                                        "color": "#FFA15A",
                                        "pattern": {
                                            "shape": ""
                                        }
                                    },
                                    "name": "Silversun Pickups",
                                    "offsetgroup": "Silversun Pickups",
                                    "orientation": "h",
                                    "showlegend": true,
                                    "type": "histogram",
                                    "x": [
                                        97
                                    ],
                                    "xaxis": "x",
                                    "y": [
                                        "Silversun Pickups"
                                    ],
                                    "yaxis": "y"
                                },
                                {
                                    "alignmentgroup": "True",
                                    "bingroup": "y",
                                    "histfunc": "sum",
                                    "hovertemplate": "Artist=%{y}<br>Year=2021<br>sum of Count=%{x}<extra></extra>",
                                    "legendgroup": "Arcade Fire",
                                    "marker": {
                                        "color": "#FF6692",
                                        "pattern": {
                                            "shape": ""
                                        }
                                    },
                                    "name": "Arcade Fire",
                                    "offsetgroup": "Arcade Fire",
                                    "orientation": "h",
                                    "showlegend": true,
                                    "type": "histogram",
                                    "x": [
                                        114
                                    ],
                                    "xaxis": "x",
                                    "y": [
                                        "Arcade Fire"
                                    ],
                                    "yaxis": "y"
                                },
                                {
                                    "alignmentgroup": "True",
                                    "bingroup": "y",
                                    "histfunc": "sum",
                                    "hovertemplate": "Artist=%{y}<br>Year=2021<br>sum of Count=%{x}<extra></extra>",
                                    "legendgroup": "Local Natives",
                                    "marker": {
                                        "color": "#FF97FF",
                                        "pattern": {
                                            "shape": ""
                                        }
                                    },
                                    "name": "Local Natives",
                                    "offsetgroup": "Local Natives",
                                    "orientation": "h",
                                    "showlegend": true,
                                    "type": "histogram",
                                    "x": [
                                        74
                                    ],
                                    "xaxis": "x",
                                    "y": [
                                        "Local Natives"
                                    ],
                                    "yaxis": "y"
                                },
                                {
                                    "alignmentgroup": "True",
                                    "bingroup": "y",
                                    "histfunc": "sum",
                                    "hovertemplate": "Artist=%{y}<br>Year=2021<br>sum of Count=%{x}<extra></extra>",
                                    "legendgroup": "Death Cab for Cutie",
                                    "marker": {
                                        "color": "#ab63fa",
                                        "pattern": {
                                            "shape": ""
                                        }
                                    },
                                    "name": "Death Cab for Cutie",
                                    "offsetgroup": "Death Cab for Cutie",
                                    "orientation": "h",
                                    "showlegend": true,
                                    "type": "histogram",
                                    "x": [
                                        99
                                    ],
                                    "xaxis": "x",
                                    "y": [
                                        "Death Cab for Cutie"
                                    ],
                                    "yaxis": "y"
                                },
                                {
                                    "alignmentgroup": "True",
                                    "bingroup": "y",
                                    "histfunc": "sum",
                                    "hovertemplate": "Artist=%{y}<br>Year=2021<br>sum of Count=%{x}<extra></extra>",
                                    "legendgroup": "Nada Surf",
                                    "marker": {
                                        "color": "#B6E880",
                                        "pattern": {
                                            "shape": ""
                                        }
                                    },
                                    "name": "Nada Surf",
                                    "offsetgroup": "Nada Surf",
                                    "orientation": "h",
                                    "showlegend": true,
                                    "type": "histogram",
                                    "x": [
                                        209
                                    ],
                                    "xaxis": "x",
                                    "y": [
                                        "Nada Surf"
                                    ],
                                    "yaxis": "y"
                                },
                                {
                                    "alignmentgroup": "True",
                                    "bingroup": "y",
                                    "histfunc": "sum",
                                    "hovertemplate": "Artist=%{y}<br>Year=2021<br>sum of Count=%{x}<extra></extra>",
                                    "legendgroup": "alt-J",
                                    "marker": {
                                        "color": "#EF553B",
                                        "pattern": {
                                            "shape": ""
                                        }
                                    },
                                    "name": "alt-J",
                                    "offsetgroup": "alt-J",
                                    "orientation": "h",
                                    "showlegend": true,
                                    "type": "histogram",
                                    "x": [
                                        119
                                    ],
                                    "xaxis": "x",
                                    "y": [
                                        "alt-J"
                                    ],
                                    "yaxis": "y"
                                },
                                {
                                    "alignmentgroup": "True",
                                    "bingroup": "y",
                                    "histfunc": "sum",
                                    "hovertemplate": "Artist=%{y}<br>Year=2021<br>sum of Count=%{x}<extra></extra>",
                                    "legendgroup": "Daft Punk",
                                    "marker": {
                                        "color": "#B6E880",
                                        "pattern": {
                                            "shape": ""
                                        }
                                    },
                                    "name": "Daft Punk",
                                    "offsetgroup": "Daft Punk",
                                    "orientation": "h",
                                    "showlegend": true,
                                    "type": "histogram",
                                    "x": [
                                        117
                                    ],
                                    "xaxis": "x",
                                    "y": [
                                        "Daft Punk"
                                    ],
                                    "yaxis": "y"
                                },
                                {
                                    "alignmentgroup": "True",
                                    "bingroup": "y",
                                    "histfunc": "sum",
                                    "hovertemplate": "Artist=%{y}<br>Year=2021<br>sum of Count=%{x}<extra></extra>",
                                    "legendgroup": "MGMT",
                                    "marker": {
                                        "color": "#FF97FF",
                                        "pattern": {
                                            "shape": ""
                                        }
                                    },
                                    "name": "MGMT",
                                    "offsetgroup": "MGMT",
                                    "orientation": "h",
                                    "showlegend": true,
                                    "type": "histogram",
                                    "x": [
                                        97
                                    ],
                                    "xaxis": "x",
                                    "y": [
                                        "MGMT"
                                    ],
                                    "yaxis": "y"
                                },
                                {
                                    "alignmentgroup": "True",
                                    "bingroup": "y",
                                    "histfunc": "sum",
                                    "hovertemplate": "Artist=%{y}<br>Year=2021<br>sum of Count=%{x}<extra></extra>",
                                    "legendgroup": "Gorillaz",
                                    "marker": {
                                        "color": "#FECB52",
                                        "pattern": {
                                            "shape": ""
                                        }
                                    },
                                    "name": "Gorillaz",
                                    "offsetgroup": "Gorillaz",
                                    "orientation": "h",
                                    "showlegend": true,
                                    "type": "histogram",
                                    "x": [
                                        59
                                    ],
                                    "xaxis": "x",
                                    "y": [
                                        "Gorillaz"
                                    ],
                                    "yaxis": "y"
                                }
                            ],
                            "frames": [
                                {
                                    "data": [
                                        {
                                            "alignmentgroup": "True",
                                            "bingroup": "y",
                                            "histfunc": "sum",
                                            "hovertemplate": "Artist=%{y}<br>Year=2009<br>sum of Count=%{x}<extra></extra>",
                                            "legendgroup": "Lake Heartbeat",
                                            "marker": {
                                                "color": "#636efa",
                                                "pattern": {
                                                    "shape": ""
                                                }
                                            },
                                            "name": "Lake Heartbeat",
                                            "offsetgroup": "Lake Heartbeat",
                                            "orientation": "h",
                                            "showlegend": true,
                                            "type": "histogram",
                                            "x": [
                                                558
                                            ],
                                            "xaxis": "x",
                                            "y": [
                                                "Lake Heartbeat"
                                            ],
                                            "yaxis": "y"
                                        },
                                        {
                                            "alignmentgroup": "True",
                                            "bingroup": "y",
                                            "histfunc": "sum",
                                            "hovertemplate": "Artist=%{y}<br>Year=2009<br>sum of Count=%{x}<extra></extra>",
                                            "legendgroup": "The Killers",
                                            "marker": {
                                                "color": "#EF553B",
                                                "pattern": {
                                                    "shape": ""
                                                }
                                            },
                                            "name": "The Killers",
                                            "offsetgroup": "The Killers",
                                            "orientation": "h",
                                            "showlegend": true,
                                            "type": "histogram",
                                            "x": [
                                                410
                                            ],
                                            "xaxis": "x",
                                            "y": [
                                                "The Killers"
                                            ],
                                            "yaxis": "y"
                                        },
                                        {
                                            "alignmentgroup": "True",
                                            "bingroup": "y",
                                            "histfunc": "sum",
                                            "hovertemplate": "Artist=%{y}<br>Year=2009<br>sum of Count=%{x}<extra></extra>",
                                            "legendgroup": "Bosse",
                                            "marker": {
                                                "color": "#00cc96",
                                                "pattern": {
                                                    "shape": ""
                                                }
                                            },
                                            "name": "Bosse",
                                            "offsetgroup": "Bosse",
                                            "orientation": "h",
                                            "showlegend": true,
                                            "type": "histogram",
                                            "x": [
                                                177
                                            ],
                                            "xaxis": "x",
                                            "y": [
                                                "Bosse"
                                            ],
                                            "yaxis": "y"
                                        },
                                        {
                                            "alignmentgroup": "True",
                                            "bingroup": "y",
                                            "histfunc": "sum",
                                            "hovertemplate": "Artist=%{y}<br>Year=2009<br>sum of Count=%{x}<extra></extra>",
                                            "legendgroup": "Land of Talk",
                                            "marker": {
                                                "color": "#ab63fa",
                                                "pattern": {
                                                    "shape": ""
                                                }
                                            },
                                            "name": "Land of Talk",
                                            "offsetgroup": "Land of Talk",
                                            "orientation": "h",
                                            "showlegend": true,
                                            "type": "histogram",
                                            "x": [
                                                122
                                            ],
                                            "xaxis": "x",
                                            "y": [
                                                "Land of Talk"
                                            ],
                                            "yaxis": "y"
                                        },
                                        {
                                            "alignmentgroup": "True",
                                            "bingroup": "y",
                                            "histfunc": "sum",
                                            "hovertemplate": "Artist=%{y}<br>Year=2009<br>sum of Count=%{x}<extra></extra>",
                                            "legendgroup": "Silversun Pickups",
                                            "marker": {
                                                "color": "#FFA15A",
                                                "pattern": {
                                                    "shape": ""
                                                }
                                            },
                                            "name": "Silversun Pickups",
                                            "offsetgroup": "Silversun Pickups",
                                            "orientation": "h",
                                            "showlegend": true,
                                            "type": "histogram",
                                            "x": [
                                                34
                                            ],
                                            "xaxis": "x",
                                            "y": [
                                                "Silversun Pickups"
                                            ],
                                            "yaxis": "y"
                                        },
                                        {
                                            "alignmentgroup": "True",
                                            "bingroup": "y",
                                            "histfunc": "sum",
                                            "hovertemplate": "Artist=%{y}<br>Year=2009<br>sum of Count=%{x}<extra></extra>",
                                            "legendgroup": "Salem Al Fakir",
                                            "marker": {
                                                "color": "#19d3f3",
                                                "pattern": {
                                                    "shape": ""
                                                }
                                            },
                                            "name": "Salem Al Fakir",
                                            "offsetgroup": "Salem Al Fakir",
                                            "orientation": "h",
                                            "showlegend": true,
                                            "type": "histogram",
                                            "x": [
                                                32
                                            ],
                                            "xaxis": "x",
                                            "y": [
                                                "Salem Al Fakir"
                                            ],
                                            "yaxis": "y"
                                        },
                                        {
                                            "alignmentgroup": "True",
                                            "bingroup": "y",
                                            "histfunc": "sum",
                                            "hovertemplate": "Artist=%{y}<br>Year=2009<br>sum of Count=%{x}<extra></extra>",
                                            "legendgroup": "Within Temptation",
                                            "marker": {
                                                "color": "#FF6692",
                                                "pattern": {
                                                    "shape": ""
                                                }
                                            },
                                            "name": "Within Temptation",
                                            "offsetgroup": "Within Temptation",
                                            "orientation": "h",
                                            "showlegend": true,
                                            "type": "histogram",
                                            "x": [
                                                29
                                            ],
                                            "xaxis": "x",
                                            "y": [
                                                "Within Temptation"
                                            ],
                                            "yaxis": "y"
                                        },
                                        {
                                            "alignmentgroup": "True",
                                            "bingroup": "y",
                                            "histfunc": "sum",
                                            "hovertemplate": "Artist=%{y}<br>Year=2009<br>sum of Count=%{x}<extra></extra>",
                                            "legendgroup": "Underoath",
                                            "marker": {
                                                "color": "#B6E880",
                                                "pattern": {
                                                    "shape": ""
                                                }
                                            },
                                            "name": "Underoath",
                                            "offsetgroup": "Underoath",
                                            "orientation": "h",
                                            "showlegend": true,
                                            "type": "histogram",
                                            "x": [
                                                16
                                            ],
                                            "xaxis": "x",
                                            "y": [
                                                "Underoath"
                                            ],
                                            "yaxis": "y"
                                        },
                                        {
                                            "alignmentgroup": "True",
                                            "bingroup": "y",
                                            "histfunc": "sum",
                                            "hovertemplate": "Artist=%{y}<br>Year=2009<br>sum of Count=%{x}<extra></extra>",
                                            "legendgroup": "Yellowcard",
                                            "marker": {
                                                "color": "#FF97FF",
                                                "pattern": {
                                                    "shape": ""
                                                }
                                            },
                                            "name": "Yellowcard",
                                            "offsetgroup": "Yellowcard",
                                            "orientation": "h",
                                            "showlegend": true,
                                            "type": "histogram",
                                            "x": [
                                                16
                                            ],
                                            "xaxis": "x",
                                            "y": [
                                                "Yellowcard"
                                            ],
                                            "yaxis": "y"
                                        },
                                        {
                                            "alignmentgroup": "True",
                                            "bingroup": "y",
                                            "histfunc": "sum",
                                            "hovertemplate": "Artist=%{y}<br>Year=2009<br>sum of Count=%{x}<extra></extra>",
                                            "legendgroup": "Interpol",
                                            "marker": {
                                                "color": "#FECB52",
                                                "pattern": {
                                                    "shape": ""
                                                }
                                            },
                                            "name": "Interpol",
                                            "offsetgroup": "Interpol",
                                            "orientation": "h",
                                            "showlegend": true,
                                            "type": "histogram",
                                            "x": [
                                                12
                                            ],
                                            "xaxis": "x",
                                            "y": [
                                                "Interpol"
                                            ],
                                            "yaxis": "y"
                                        }
                                    ],
                                    "name": "2009"
                                },
                                {
                                    "data": [
                                        {
                                            "alignmentgroup": "True",
                                            "bingroup": "y",
                                            "histfunc": "sum",
                                            "hovertemplate": "Artist=%{y}<br>Year=2010<br>sum of Count=%{x}<extra></extra>",
                                            "legendgroup": "Lake Heartbeat",
                                            "marker": {
                                                "color": "#636efa",
                                                "pattern": {
                                                    "shape": ""
                                                }
                                            },
                                            "name": "Lake Heartbeat",
                                            "offsetgroup": "Lake Heartbeat",
                                            "orientation": "h",
                                            "showlegend": true,
                                            "type": "histogram",
                                            "x": [
                                                81
                                            ],
                                            "xaxis": "x",
                                            "y": [
                                                "Lake Heartbeat"
                                            ],
                                            "yaxis": "y"
                                        },
                                        {
                                            "alignmentgroup": "True",
                                            "bingroup": "y",
                                            "histfunc": "sum",
                                            "hovertemplate": "Artist=%{y}<br>Year=2010<br>sum of Count=%{x}<extra></extra>",
                                            "legendgroup": "The Killers",
                                            "marker": {
                                                "color": "#EF553B",
                                                "pattern": {
                                                    "shape": ""
                                                }
                                            },
                                            "name": "The Killers",
                                            "offsetgroup": "The Killers",
                                            "orientation": "h",
                                            "showlegend": true,
                                            "type": "histogram",
                                            "x": [
                                                41
                                            ],
                                            "xaxis": "x",
                                            "y": [
                                                "The Killers"
                                            ],
                                            "yaxis": "y"
                                        },
                                        {
                                            "alignmentgroup": "True",
                                            "bingroup": "y",
                                            "histfunc": "sum",
                                            "hovertemplate": "Artist=%{y}<br>Year=2010<br>sum of Count=%{x}<extra></extra>",
                                            "legendgroup": "Bosse",
                                            "marker": {
                                                "color": "#00cc96",
                                                "pattern": {
                                                    "shape": ""
                                                }
                                            },
                                            "name": "Bosse",
                                            "offsetgroup": "Bosse",
                                            "orientation": "h",
                                            "showlegend": true,
                                            "type": "histogram",
                                            "x": [
                                                40
                                            ],
                                            "xaxis": "x",
                                            "y": [
                                                "Bosse"
                                            ],
                                            "yaxis": "y"
                                        },
                                        {
                                            "alignmentgroup": "True",
                                            "bingroup": "y",
                                            "histfunc": "sum",
                                            "hovertemplate": "Artist=%{y}<br>Year=2010<br>sum of Count=%{x}<extra></extra>",
                                            "legendgroup": "Silversun Pickups",
                                            "marker": {
                                                "color": "#FFA15A",
                                                "pattern": {
                                                    "shape": ""
                                                }
                                            },
                                            "name": "Silversun Pickups",
                                            "offsetgroup": "Silversun Pickups",
                                            "orientation": "h",
                                            "showlegend": true,
                                            "type": "histogram",
                                            "x": [
                                                39
                                            ],
                                            "xaxis": "x",
                                            "y": [
                                                "Silversun Pickups"
                                            ],
                                            "yaxis": "y"
                                        },
                                        {
                                            "alignmentgroup": "True",
                                            "bingroup": "y",
                                            "histfunc": "sum",
                                            "hovertemplate": "Artist=%{y}<br>Year=2010<br>sum of Count=%{x}<extra></extra>",
                                            "legendgroup": "Salem Al Fakir",
                                            "marker": {
                                                "color": "#19d3f3",
                                                "pattern": {
                                                    "shape": ""
                                                }
                                            },
                                            "name": "Salem Al Fakir",
                                            "offsetgroup": "Salem Al Fakir",
                                            "orientation": "h",
                                            "showlegend": true,
                                            "type": "histogram",
                                            "x": [
                                                54
                                            ],
                                            "xaxis": "x",
                                            "y": [
                                                "Salem Al Fakir"
                                            ],
                                            "yaxis": "y"
                                        },
                                        {
                                            "alignmentgroup": "True",
                                            "bingroup": "y",
                                            "histfunc": "sum",
                                            "hovertemplate": "Artist=%{y}<br>Year=2010<br>sum of Count=%{x}<extra></extra>",
                                            "legendgroup": "Telekinesis",
                                            "marker": {
                                                "color": "#636efa",
                                                "pattern": {
                                                    "shape": ""
                                                }
                                            },
                                            "name": "Telekinesis",
                                            "offsetgroup": "Telekinesis",
                                            "orientation": "h",
                                            "showlegend": true,
                                            "type": "histogram",
                                            "x": [
                                                388
                                            ],
                                            "xaxis": "x",
                                            "y": [
                                                "Telekinesis"
                                            ],
                                            "yaxis": "y"
                                        },
                                        {
                                            "alignmentgroup": "True",
                                            "bingroup": "y",
                                            "histfunc": "sum",
                                            "hovertemplate": "Artist=%{y}<br>Year=2010<br>sum of Count=%{x}<extra></extra>",
                                            "legendgroup": "Sigur Rós",
                                            "marker": {
                                                "color": "#EF553B",
                                                "pattern": {
                                                    "shape": ""
                                                }
                                            },
                                            "name": "Sigur Rós",
                                            "offsetgroup": "Sigur Rós",
                                            "orientation": "h",
                                            "showlegend": true,
                                            "type": "histogram",
                                            "x": [
                                                140
                                            ],
                                            "xaxis": "x",
                                            "y": [
                                                "Sigur Rós"
                                            ],
                                            "yaxis": "y"
                                        },
                                        {
                                            "alignmentgroup": "True",
                                            "bingroup": "y",
                                            "histfunc": "sum",
                                            "hovertemplate": "Artist=%{y}<br>Year=2010<br>sum of Count=%{x}<extra></extra>",
                                            "legendgroup": "Brock McGuire Band",
                                            "marker": {
                                                "color": "#00cc96",
                                                "pattern": {
                                                    "shape": ""
                                                }
                                            },
                                            "name": "Brock McGuire Band",
                                            "offsetgroup": "Brock McGuire Band",
                                            "orientation": "h",
                                            "showlegend": true,
                                            "type": "histogram",
                                            "x": [
                                                111
                                            ],
                                            "xaxis": "x",
                                            "y": [
                                                "Brock McGuire Band"
                                            ],
                                            "yaxis": "y"
                                        },
                                        {
                                            "alignmentgroup": "True",
                                            "bingroup": "y",
                                            "histfunc": "sum",
                                            "hovertemplate": "Artist=%{y}<br>Year=2010<br>sum of Count=%{x}<extra></extra>",
                                            "legendgroup": "Deb Talan",
                                            "marker": {
                                                "color": "#ab63fa",
                                                "pattern": {
                                                    "shape": ""
                                                }
                                            },
                                            "name": "Deb Talan",
                                            "offsetgroup": "Deb Talan",
                                            "orientation": "h",
                                            "showlegend": true,
                                            "type": "histogram",
                                            "x": [
                                                68
                                            ],
                                            "xaxis": "x",
                                            "y": [
                                                "Deb Talan"
                                            ],
                                            "yaxis": "y"
                                        },
                                        {
                                            "alignmentgroup": "True",
                                            "bingroup": "y",
                                            "histfunc": "sum",
                                            "hovertemplate": "Artist=%{y}<br>Year=2010<br>sum of Count=%{x}<extra></extra>",
                                            "legendgroup": "Kate Nash",
                                            "marker": {
                                                "color": "#FFA15A",
                                                "pattern": {
                                                    "shape": ""
                                                }
                                            },
                                            "name": "Kate Nash",
                                            "offsetgroup": "Kate Nash",
                                            "orientation": "h",
                                            "showlegend": true,
                                            "type": "histogram",
                                            "x": [
                                                50
                                            ],
                                            "xaxis": "x",
                                            "y": [
                                                "Kate Nash"
                                            ],
                                            "yaxis": "y"
                                        }
                                    ],
                                    "name": "2010"
                                },
                                {
                                    "data": [
                                        {
                                            "alignmentgroup": "True",
                                            "bingroup": "y",
                                            "histfunc": "sum",
                                            "hovertemplate": "Artist=%{y}<br>Year=2011<br>sum of Count=%{x}<extra></extra>",
                                            "legendgroup": "Sigur Rós",
                                            "marker": {
                                                "color": "#EF553B",
                                                "pattern": {
                                                    "shape": ""
                                                }
                                            },
                                            "name": "Sigur Rós",
                                            "offsetgroup": "Sigur Rós",
                                            "orientation": "h",
                                            "showlegend": true,
                                            "type": "histogram",
                                            "x": [
                                                341
                                            ],
                                            "xaxis": "x",
                                            "y": [
                                                "Sigur Rós"
                                            ],
                                            "yaxis": "y"
                                        },
                                        {
                                            "alignmentgroup": "True",
                                            "bingroup": "y",
                                            "histfunc": "sum",
                                            "hovertemplate": "Artist=%{y}<br>Year=2011<br>sum of Count=%{x}<extra></extra>",
                                            "legendgroup": "Kate Nash",
                                            "marker": {
                                                "color": "#FFA15A",
                                                "pattern": {
                                                    "shape": ""
                                                }
                                            },
                                            "name": "Kate Nash",
                                            "offsetgroup": "Kate Nash",
                                            "orientation": "h",
                                            "showlegend": true,
                                            "type": "histogram",
                                            "x": [
                                                173
                                            ],
                                            "xaxis": "x",
                                            "y": [
                                                "Kate Nash"
                                            ],
                                            "yaxis": "y"
                                        },
                                        {
                                            "alignmentgroup": "True",
                                            "bingroup": "y",
                                            "histfunc": "sum",
                                            "hovertemplate": "Artist=%{y}<br>Year=2011<br>sum of Count=%{x}<extra></extra>",
                                            "legendgroup": "Björk",
                                            "marker": {
                                                "color": "#19d3f3",
                                                "pattern": {
                                                    "shape": ""
                                                }
                                            },
                                            "name": "Björk",
                                            "offsetgroup": "Björk",
                                            "orientation": "h",
                                            "showlegend": true,
                                            "type": "histogram",
                                            "x": [
                                                546
                                            ],
                                            "xaxis": "x",
                                            "y": [
                                                "Björk"
                                            ],
                                            "yaxis": "y"
                                        },
                                        {
                                            "alignmentgroup": "True",
                                            "bingroup": "y",
                                            "histfunc": "sum",
                                            "hovertemplate": "Artist=%{y}<br>Year=2011<br>sum of Count=%{x}<extra></extra>",
                                            "legendgroup": "Jónsi",
                                            "marker": {
                                                "color": "#FF6692",
                                                "pattern": {
                                                    "shape": ""
                                                }
                                            },
                                            "name": "Jónsi",
                                            "offsetgroup": "Jónsi",
                                            "orientation": "h",
                                            "showlegend": true,
                                            "type": "histogram",
                                            "x": [
                                                295
                                            ],
                                            "xaxis": "x",
                                            "y": [
                                                "Jónsi"
                                            ],
                                            "yaxis": "y"
                                        },
                                        {
                                            "alignmentgroup": "True",
                                            "bingroup": "y",
                                            "histfunc": "sum",
                                            "hovertemplate": "Artist=%{y}<br>Year=2011<br>sum of Count=%{x}<extra></extra>",
                                            "legendgroup": "Mogwai",
                                            "marker": {
                                                "color": "#B6E880",
                                                "pattern": {
                                                    "shape": ""
                                                }
                                            },
                                            "name": "Mogwai",
                                            "offsetgroup": "Mogwai",
                                            "orientation": "h",
                                            "showlegend": true,
                                            "type": "histogram",
                                            "x": [
                                                179
                                            ],
                                            "xaxis": "x",
                                            "y": [
                                                "Mogwai"
                                            ],
                                            "yaxis": "y"
                                        },
                                        {
                                            "alignmentgroup": "True",
                                            "bingroup": "y",
                                            "histfunc": "sum",
                                            "hovertemplate": "Artist=%{y}<br>Year=2011<br>sum of Count=%{x}<extra></extra>",
                                            "legendgroup": "Two Door Cinema Club",
                                            "marker": {
                                                "color": "#FF97FF",
                                                "pattern": {
                                                    "shape": ""
                                                }
                                            },
                                            "name": "Two Door Cinema Club",
                                            "offsetgroup": "Two Door Cinema Club",
                                            "orientation": "h",
                                            "showlegend": true,
                                            "type": "histogram",
                                            "x": [
                                                171
                                            ],
                                            "xaxis": "x",
                                            "y": [
                                                "Two Door Cinema Club"
                                            ],
                                            "yaxis": "y"
                                        },
                                        {
                                            "alignmentgroup": "True",
                                            "bingroup": "y",
                                            "histfunc": "sum",
                                            "hovertemplate": "Artist=%{y}<br>Year=2011<br>sum of Count=%{x}<extra></extra>",
                                            "legendgroup": "Foster the People",
                                            "marker": {
                                                "color": "#FECB52",
                                                "pattern": {
                                                    "shape": ""
                                                }
                                            },
                                            "name": "Foster the People",
                                            "offsetgroup": "Foster the People",
                                            "orientation": "h",
                                            "showlegend": true,
                                            "type": "histogram",
                                            "x": [
                                                142
                                            ],
                                            "xaxis": "x",
                                            "y": [
                                                "Foster the People"
                                            ],
                                            "yaxis": "y"
                                        },
                                        {
                                            "alignmentgroup": "True",
                                            "bingroup": "y",
                                            "histfunc": "sum",
                                            "hovertemplate": "Artist=%{y}<br>Year=2011<br>sum of Count=%{x}<extra></extra>",
                                            "legendgroup": "Chameleon Circuit",
                                            "marker": {
                                                "color": "#636efa",
                                                "pattern": {
                                                    "shape": ""
                                                }
                                            },
                                            "name": "Chameleon Circuit",
                                            "offsetgroup": "Chameleon Circuit",
                                            "orientation": "h",
                                            "showlegend": true,
                                            "type": "histogram",
                                            "x": [
                                                142
                                            ],
                                            "xaxis": "x",
                                            "y": [
                                                "Chameleon Circuit"
                                            ],
                                            "yaxis": "y"
                                        },
                                        {
                                            "alignmentgroup": "True",
                                            "bingroup": "y",
                                            "histfunc": "sum",
                                            "hovertemplate": "Artist=%{y}<br>Year=2011<br>sum of Count=%{x}<extra></extra>",
                                            "legendgroup": "Foals",
                                            "marker": {
                                                "color": "#EF553B",
                                                "pattern": {
                                                    "shape": ""
                                                }
                                            },
                                            "name": "Foals",
                                            "offsetgroup": "Foals",
                                            "orientation": "h",
                                            "showlegend": true,
                                            "type": "histogram",
                                            "x": [
                                                135
                                            ],
                                            "xaxis": "x",
                                            "y": [
                                                "Foals"
                                            ],
                                            "yaxis": "y"
                                        },
                                        {
                                            "alignmentgroup": "True",
                                            "bingroup": "y",
                                            "histfunc": "sum",
                                            "hovertemplate": "Artist=%{y}<br>Year=2011<br>sum of Count=%{x}<extra></extra>",
                                            "legendgroup": "Regina Spektor",
                                            "marker": {
                                                "color": "#00cc96",
                                                "pattern": {
                                                    "shape": ""
                                                }
                                            },
                                            "name": "Regina Spektor",
                                            "offsetgroup": "Regina Spektor",
                                            "orientation": "h",
                                            "showlegend": true,
                                            "type": "histogram",
                                            "x": [
                                                107
                                            ],
                                            "xaxis": "x",
                                            "y": [
                                                "Regina Spektor"
                                            ],
                                            "yaxis": "y"
                                        }
                                    ],
                                    "name": "2011"
                                },
                                {
                                    "data": [
                                        {
                                            "alignmentgroup": "True",
                                            "bingroup": "y",
                                            "histfunc": "sum",
                                            "hovertemplate": "Artist=%{y}<br>Year=2012<br>sum of Count=%{x}<extra></extra>",
                                            "legendgroup": "Björk",
                                            "marker": {
                                                "color": "#19d3f3",
                                                "pattern": {
                                                    "shape": ""
                                                }
                                            },
                                            "name": "Björk",
                                            "offsetgroup": "Björk",
                                            "orientation": "h",
                                            "showlegend": true,
                                            "type": "histogram",
                                            "x": [
                                                587
                                            ],
                                            "xaxis": "x",
                                            "y": [
                                                "Björk"
                                            ],
                                            "yaxis": "y"
                                        },
                                        {
                                            "alignmentgroup": "True",
                                            "bingroup": "y",
                                            "histfunc": "sum",
                                            "hovertemplate": "Artist=%{y}<br>Year=2012<br>sum of Count=%{x}<extra></extra>",
                                            "legendgroup": "Foster the People",
                                            "marker": {
                                                "color": "#FECB52",
                                                "pattern": {
                                                    "shape": ""
                                                }
                                            },
                                            "name": "Foster the People",
                                            "offsetgroup": "Foster the People",
                                            "orientation": "h",
                                            "showlegend": true,
                                            "type": "histogram",
                                            "x": [
                                                336
                                            ],
                                            "xaxis": "x",
                                            "y": [
                                                "Foster the People"
                                            ],
                                            "yaxis": "y"
                                        },
                                        {
                                            "alignmentgroup": "True",
                                            "bingroup": "y",
                                            "histfunc": "sum",
                                            "hovertemplate": "Artist=%{y}<br>Year=2012<br>sum of Count=%{x}<extra></extra>",
                                            "legendgroup": "Noah and the Whale",
                                            "marker": {
                                                "color": "#ab63fa",
                                                "pattern": {
                                                    "shape": ""
                                                }
                                            },
                                            "name": "Noah and the Whale",
                                            "offsetgroup": "Noah and the Whale",
                                            "orientation": "h",
                                            "showlegend": true,
                                            "type": "histogram",
                                            "x": [
                                                727
                                            ],
                                            "xaxis": "x",
                                            "y": [
                                                "Noah and the Whale"
                                            ],
                                            "yaxis": "y"
                                        },
                                        {
                                            "alignmentgroup": "True",
                                            "bingroup": "y",
                                            "histfunc": "sum",
                                            "hovertemplate": "Artist=%{y}<br>Year=2012<br>sum of Count=%{x}<extra></extra>",
                                            "legendgroup": "Mumford & Sons",
                                            "marker": {
                                                "color": "#FFA15A",
                                                "pattern": {
                                                    "shape": ""
                                                }
                                            },
                                            "name": "Mumford & Sons",
                                            "offsetgroup": "Mumford & Sons",
                                            "orientation": "h",
                                            "showlegend": true,
                                            "type": "histogram",
                                            "x": [
                                                601
                                            ],
                                            "xaxis": "x",
                                            "y": [
                                                "Mumford & Sons"
                                            ],
                                            "yaxis": "y"
                                        },
                                        {
                                            "alignmentgroup": "True",
                                            "bingroup": "y",
                                            "histfunc": "sum",
                                            "hovertemplate": "Artist=%{y}<br>Year=2012<br>sum of Count=%{x}<extra></extra>",
                                            "legendgroup": "The Bravery",
                                            "marker": {
                                                "color": "#19d3f3",
                                                "pattern": {
                                                    "shape": ""
                                                }
                                            },
                                            "name": "The Bravery",
                                            "offsetgroup": "The Bravery",
                                            "orientation": "h",
                                            "showlegend": true,
                                            "type": "histogram",
                                            "x": [
                                                387
                                            ],
                                            "xaxis": "x",
                                            "y": [
                                                "The Bravery"
                                            ],
                                            "yaxis": "y"
                                        },
                                        {
                                            "alignmentgroup": "True",
                                            "bingroup": "y",
                                            "histfunc": "sum",
                                            "hovertemplate": "Artist=%{y}<br>Year=2012<br>sum of Count=%{x}<extra></extra>",
                                            "legendgroup": "Arcade Fire",
                                            "marker": {
                                                "color": "#FF6692",
                                                "pattern": {
                                                    "shape": ""
                                                }
                                            },
                                            "name": "Arcade Fire",
                                            "offsetgroup": "Arcade Fire",
                                            "orientation": "h",
                                            "showlegend": true,
                                            "type": "histogram",
                                            "x": [
                                                370
                                            ],
                                            "xaxis": "x",
                                            "y": [
                                                "Arcade Fire"
                                            ],
                                            "yaxis": "y"
                                        },
                                        {
                                            "alignmentgroup": "True",
                                            "bingroup": "y",
                                            "histfunc": "sum",
                                            "hovertemplate": "Artist=%{y}<br>Year=2012<br>sum of Count=%{x}<extra></extra>",
                                            "legendgroup": "Amiina",
                                            "marker": {
                                                "color": "#B6E880",
                                                "pattern": {
                                                    "shape": ""
                                                }
                                            },
                                            "name": "Amiina",
                                            "offsetgroup": "Amiina",
                                            "orientation": "h",
                                            "showlegend": true,
                                            "type": "histogram",
                                            "x": [
                                                362
                                            ],
                                            "xaxis": "x",
                                            "y": [
                                                "Amiina"
                                            ],
                                            "yaxis": "y"
                                        },
                                        {
                                            "alignmentgroup": "True",
                                            "bingroup": "y",
                                            "histfunc": "sum",
                                            "hovertemplate": "Artist=%{y}<br>Year=2012<br>sum of Count=%{x}<extra></extra>",
                                            "legendgroup": "Local Natives",
                                            "marker": {
                                                "color": "#FF97FF",
                                                "pattern": {
                                                    "shape": ""
                                                }
                                            },
                                            "name": "Local Natives",
                                            "offsetgroup": "Local Natives",
                                            "orientation": "h",
                                            "showlegend": true,
                                            "type": "histogram",
                                            "x": [
                                                331
                                            ],
                                            "xaxis": "x",
                                            "y": [
                                                "Local Natives"
                                            ],
                                            "yaxis": "y"
                                        },
                                        {
                                            "alignmentgroup": "True",
                                            "bingroup": "y",
                                            "histfunc": "sum",
                                            "hovertemplate": "Artist=%{y}<br>Year=2012<br>sum of Count=%{x}<extra></extra>",
                                            "legendgroup": "M83",
                                            "marker": {
                                                "color": "#FECB52",
                                                "pattern": {
                                                    "shape": ""
                                                }
                                            },
                                            "name": "M83",
                                            "offsetgroup": "M83",
                                            "orientation": "h",
                                            "showlegend": true,
                                            "type": "histogram",
                                            "x": [
                                                328
                                            ],
                                            "xaxis": "x",
                                            "y": [
                                                "M83"
                                            ],
                                            "yaxis": "y"
                                        },
                                        {
                                            "alignmentgroup": "True",
                                            "bingroup": "y",
                                            "histfunc": "sum",
                                            "hovertemplate": "Artist=%{y}<br>Year=2012<br>sum of Count=%{x}<extra></extra>",
                                            "legendgroup": "Kate Bush",
                                            "marker": {
                                                "color": "#636efa",
                                                "pattern": {
                                                    "shape": ""
                                                }
                                            },
                                            "name": "Kate Bush",
                                            "offsetgroup": "Kate Bush",
                                            "orientation": "h",
                                            "showlegend": true,
                                            "type": "histogram",
                                            "x": [
                                                322
                                            ],
                                            "xaxis": "x",
                                            "y": [
                                                "Kate Bush"
                                            ],
                                            "yaxis": "y"
                                        }
                                    ],
                                    "name": "2012"
                                },
                                {
                                    "data": [
                                        {
                                            "alignmentgroup": "True",
                                            "bingroup": "y",
                                            "histfunc": "sum",
                                            "hovertemplate": "Artist=%{y}<br>Year=2013<br>sum of Count=%{x}<extra></extra>",
                                            "legendgroup": "The Killers",
                                            "marker": {
                                                "color": "#EF553B",
                                                "pattern": {
                                                    "shape": ""
                                                }
                                            },
                                            "name": "The Killers",
                                            "offsetgroup": "The Killers",
                                            "orientation": "h",
                                            "showlegend": true,
                                            "type": "histogram",
                                            "x": [
                                                634
                                            ],
                                            "xaxis": "x",
                                            "y": [
                                                "The Killers"
                                            ],
                                            "yaxis": "y"
                                        },
                                        {
                                            "alignmentgroup": "True",
                                            "bingroup": "y",
                                            "histfunc": "sum",
                                            "hovertemplate": "Artist=%{y}<br>Year=2013<br>sum of Count=%{x}<extra></extra>",
                                            "legendgroup": "Sigur Rós",
                                            "marker": {
                                                "color": "#EF553B",
                                                "pattern": {
                                                    "shape": ""
                                                }
                                            },
                                            "name": "Sigur Rós",
                                            "offsetgroup": "Sigur Rós",
                                            "orientation": "h",
                                            "showlegend": true,
                                            "type": "histogram",
                                            "x": [
                                                970
                                            ],
                                            "xaxis": "x",
                                            "y": [
                                                "Sigur Rós"
                                            ],
                                            "yaxis": "y"
                                        },
                                        {
                                            "alignmentgroup": "True",
                                            "bingroup": "y",
                                            "histfunc": "sum",
                                            "hovertemplate": "Artist=%{y}<br>Year=2013<br>sum of Count=%{x}<extra></extra>",
                                            "legendgroup": "Noah and the Whale",
                                            "marker": {
                                                "color": "#ab63fa",
                                                "pattern": {
                                                    "shape": ""
                                                }
                                            },
                                            "name": "Noah and the Whale",
                                            "offsetgroup": "Noah and the Whale",
                                            "orientation": "h",
                                            "showlegend": true,
                                            "type": "histogram",
                                            "x": [
                                                594
                                            ],
                                            "xaxis": "x",
                                            "y": [
                                                "Noah and the Whale"
                                            ],
                                            "yaxis": "y"
                                        },
                                        {
                                            "alignmentgroup": "True",
                                            "bingroup": "y",
                                            "histfunc": "sum",
                                            "hovertemplate": "Artist=%{y}<br>Year=2013<br>sum of Count=%{x}<extra></extra>",
                                            "legendgroup": "Mumford & Sons",
                                            "marker": {
                                                "color": "#FFA15A",
                                                "pattern": {
                                                    "shape": ""
                                                }
                                            },
                                            "name": "Mumford & Sons",
                                            "offsetgroup": "Mumford & Sons",
                                            "orientation": "h",
                                            "showlegend": true,
                                            "type": "histogram",
                                            "x": [
                                                579
                                            ],
                                            "xaxis": "x",
                                            "y": [
                                                "Mumford & Sons"
                                            ],
                                            "yaxis": "y"
                                        },
                                        {
                                            "alignmentgroup": "True",
                                            "bingroup": "y",
                                            "histfunc": "sum",
                                            "hovertemplate": "Artist=%{y}<br>Year=2013<br>sum of Count=%{x}<extra></extra>",
                                            "legendgroup": "Amiina",
                                            "marker": {
                                                "color": "#B6E880",
                                                "pattern": {
                                                    "shape": ""
                                                }
                                            },
                                            "name": "Amiina",
                                            "offsetgroup": "Amiina",
                                            "orientation": "h",
                                            "showlegend": true,
                                            "type": "histogram",
                                            "x": [
                                                513
                                            ],
                                            "xaxis": "x",
                                            "y": [
                                                "Amiina"
                                            ],
                                            "yaxis": "y"
                                        },
                                        {
                                            "alignmentgroup": "True",
                                            "bingroup": "y",
                                            "histfunc": "sum",
                                            "hovertemplate": "Artist=%{y}<br>Year=2013<br>sum of Count=%{x}<extra></extra>",
                                            "legendgroup": "Local Natives",
                                            "marker": {
                                                "color": "#FF97FF",
                                                "pattern": {
                                                    "shape": ""
                                                }
                                            },
                                            "name": "Local Natives",
                                            "offsetgroup": "Local Natives",
                                            "orientation": "h",
                                            "showlegend": true,
                                            "type": "histogram",
                                            "x": [
                                                525
                                            ],
                                            "xaxis": "x",
                                            "y": [
                                                "Local Natives"
                                            ],
                                            "yaxis": "y"
                                        },
                                        {
                                            "alignmentgroup": "True",
                                            "bingroup": "y",
                                            "histfunc": "sum",
                                            "hovertemplate": "Artist=%{y}<br>Year=2013<br>sum of Count=%{x}<extra></extra>",
                                            "legendgroup": "New Order",
                                            "marker": {
                                                "color": "#EF553B",
                                                "pattern": {
                                                    "shape": ""
                                                }
                                            },
                                            "name": "New Order",
                                            "offsetgroup": "New Order",
                                            "orientation": "h",
                                            "showlegend": true,
                                            "type": "histogram",
                                            "x": [
                                                1734
                                            ],
                                            "xaxis": "x",
                                            "y": [
                                                "New Order"
                                            ],
                                            "yaxis": "y"
                                        },
                                        {
                                            "alignmentgroup": "True",
                                            "bingroup": "y",
                                            "histfunc": "sum",
                                            "hovertemplate": "Artist=%{y}<br>Year=2013<br>sum of Count=%{x}<extra></extra>",
                                            "legendgroup": "The Cure",
                                            "marker": {
                                                "color": "#00cc96",
                                                "pattern": {
                                                    "shape": ""
                                                }
                                            },
                                            "name": "The Cure",
                                            "offsetgroup": "The Cure",
                                            "orientation": "h",
                                            "showlegend": true,
                                            "type": "histogram",
                                            "x": [
                                                1571
                                            ],
                                            "xaxis": "x",
                                            "y": [
                                                "The Cure"
                                            ],
                                            "yaxis": "y"
                                        },
                                        {
                                            "alignmentgroup": "True",
                                            "bingroup": "y",
                                            "histfunc": "sum",
                                            "hovertemplate": "Artist=%{y}<br>Year=2013<br>sum of Count=%{x}<extra></extra>",
                                            "legendgroup": "Death Cab for Cutie",
                                            "marker": {
                                                "color": "#ab63fa",
                                                "pattern": {
                                                    "shape": ""
                                                }
                                            },
                                            "name": "Death Cab for Cutie",
                                            "offsetgroup": "Death Cab for Cutie",
                                            "orientation": "h",
                                            "showlegend": true,
                                            "type": "histogram",
                                            "x": [
                                                1445
                                            ],
                                            "xaxis": "x",
                                            "y": [
                                                "Death Cab for Cutie"
                                            ],
                                            "yaxis": "y"
                                        },
                                        {
                                            "alignmentgroup": "True",
                                            "bingroup": "y",
                                            "histfunc": "sum",
                                            "hovertemplate": "Artist=%{y}<br>Year=2013<br>sum of Count=%{x}<extra></extra>",
                                            "legendgroup": "Travis",
                                            "marker": {
                                                "color": "#FFA15A",
                                                "pattern": {
                                                    "shape": ""
                                                }
                                            },
                                            "name": "Travis",
                                            "offsetgroup": "Travis",
                                            "orientation": "h",
                                            "showlegend": true,
                                            "type": "histogram",
                                            "x": [
                                                424
                                            ],
                                            "xaxis": "x",
                                            "y": [
                                                "Travis"
                                            ],
                                            "yaxis": "y"
                                        }
                                    ],
                                    "name": "2013"
                                },
                                {
                                    "data": [
                                        {
                                            "alignmentgroup": "True",
                                            "bingroup": "y",
                                            "histfunc": "sum",
                                            "hovertemplate": "Artist=%{y}<br>Year=2014<br>sum of Count=%{x}<extra></extra>",
                                            "legendgroup": "New Order",
                                            "marker": {
                                                "color": "#EF553B",
                                                "pattern": {
                                                    "shape": ""
                                                }
                                            },
                                            "name": "New Order",
                                            "offsetgroup": "New Order",
                                            "orientation": "h",
                                            "showlegend": true,
                                            "type": "histogram",
                                            "x": [
                                                1203
                                            ],
                                            "xaxis": "x",
                                            "y": [
                                                "New Order"
                                            ],
                                            "yaxis": "y"
                                        },
                                        {
                                            "alignmentgroup": "True",
                                            "bingroup": "y",
                                            "histfunc": "sum",
                                            "hovertemplate": "Artist=%{y}<br>Year=2014<br>sum of Count=%{x}<extra></extra>",
                                            "legendgroup": "Death Cab for Cutie",
                                            "marker": {
                                                "color": "#ab63fa",
                                                "pattern": {
                                                    "shape": ""
                                                }
                                            },
                                            "name": "Death Cab for Cutie",
                                            "offsetgroup": "Death Cab for Cutie",
                                            "orientation": "h",
                                            "showlegend": true,
                                            "type": "histogram",
                                            "x": [
                                                1211
                                            ],
                                            "xaxis": "x",
                                            "y": [
                                                "Death Cab for Cutie"
                                            ],
                                            "yaxis": "y"
                                        },
                                        {
                                            "alignmentgroup": "True",
                                            "bingroup": "y",
                                            "histfunc": "sum",
                                            "hovertemplate": "Artist=%{y}<br>Year=2014<br>sum of Count=%{x}<extra></extra>",
                                            "legendgroup": "Freelance Whales",
                                            "marker": {
                                                "color": "#19d3f3",
                                                "pattern": {
                                                    "shape": ""
                                                }
                                            },
                                            "name": "Freelance Whales",
                                            "offsetgroup": "Freelance Whales",
                                            "orientation": "h",
                                            "showlegend": true,
                                            "type": "histogram",
                                            "x": [
                                                3442
                                            ],
                                            "xaxis": "x",
                                            "y": [
                                                "Freelance Whales"
                                            ],
                                            "yaxis": "y"
                                        },
                                        {
                                            "alignmentgroup": "True",
                                            "bingroup": "y",
                                            "histfunc": "sum",
                                            "hovertemplate": "Artist=%{y}<br>Year=2014<br>sum of Count=%{x}<extra></extra>",
                                            "legendgroup": "Franz Ferdinand",
                                            "marker": {
                                                "color": "#FF6692",
                                                "pattern": {
                                                    "shape": ""
                                                }
                                            },
                                            "name": "Franz Ferdinand",
                                            "offsetgroup": "Franz Ferdinand",
                                            "orientation": "h",
                                            "showlegend": true,
                                            "type": "histogram",
                                            "x": [
                                                2655
                                            ],
                                            "xaxis": "x",
                                            "y": [
                                                "Franz Ferdinand"
                                            ],
                                            "yaxis": "y"
                                        },
                                        {
                                            "alignmentgroup": "True",
                                            "bingroup": "y",
                                            "histfunc": "sum",
                                            "hovertemplate": "Artist=%{y}<br>Year=2014<br>sum of Count=%{x}<extra></extra>",
                                            "legendgroup": "Nada Surf",
                                            "marker": {
                                                "color": "#B6E880",
                                                "pattern": {
                                                    "shape": ""
                                                }
                                            },
                                            "name": "Nada Surf",
                                            "offsetgroup": "Nada Surf",
                                            "orientation": "h",
                                            "showlegend": true,
                                            "type": "histogram",
                                            "x": [
                                                579
                                            ],
                                            "xaxis": "x",
                                            "y": [
                                                "Nada Surf"
                                            ],
                                            "yaxis": "y"
                                        },
                                        {
                                            "alignmentgroup": "True",
                                            "bingroup": "y",
                                            "histfunc": "sum",
                                            "hovertemplate": "Artist=%{y}<br>Year=2014<br>sum of Count=%{x}<extra></extra>",
                                            "legendgroup": "Kent",
                                            "marker": {
                                                "color": "#FF97FF",
                                                "pattern": {
                                                    "shape": ""
                                                }
                                            },
                                            "name": "Kent",
                                            "offsetgroup": "Kent",
                                            "orientation": "h",
                                            "showlegend": true,
                                            "type": "histogram",
                                            "x": [
                                                415
                                            ],
                                            "xaxis": "x",
                                            "y": [
                                                "Kent"
                                            ],
                                            "yaxis": "y"
                                        },
                                        {
                                            "alignmentgroup": "True",
                                            "bingroup": "y",
                                            "histfunc": "sum",
                                            "hovertemplate": "Artist=%{y}<br>Year=2014<br>sum of Count=%{x}<extra></extra>",
                                            "legendgroup": "Frightened Rabbit",
                                            "marker": {
                                                "color": "#FECB52",
                                                "pattern": {
                                                    "shape": ""
                                                }
                                            },
                                            "name": "Frightened Rabbit",
                                            "offsetgroup": "Frightened Rabbit",
                                            "orientation": "h",
                                            "showlegend": true,
                                            "type": "histogram",
                                            "x": [
                                                285
                                            ],
                                            "xaxis": "x",
                                            "y": [
                                                "Frightened Rabbit"
                                            ],
                                            "yaxis": "y"
                                        },
                                        {
                                            "alignmentgroup": "True",
                                            "bingroup": "y",
                                            "histfunc": "sum",
                                            "hovertemplate": "Artist=%{y}<br>Year=2014<br>sum of Count=%{x}<extra></extra>",
                                            "legendgroup": "Jon Henrik Fjällgren",
                                            "marker": {
                                                "color": "#636efa",
                                                "pattern": {
                                                    "shape": ""
                                                }
                                            },
                                            "name": "Jon Henrik Fjällgren",
                                            "offsetgroup": "Jon Henrik Fjällgren",
                                            "orientation": "h",
                                            "showlegend": true,
                                            "type": "histogram",
                                            "x": [
                                                219
                                            ],
                                            "xaxis": "x",
                                            "y": [
                                                "Jon Henrik Fjällgren"
                                            ],
                                            "yaxis": "y"
                                        },
                                        {
                                            "alignmentgroup": "True",
                                            "bingroup": "y",
                                            "histfunc": "sum",
                                            "hovertemplate": "Artist=%{y}<br>Year=2014<br>sum of Count=%{x}<extra></extra>",
                                            "legendgroup": "Bon Iver",
                                            "marker": {
                                                "color": "#EF553B",
                                                "pattern": {
                                                    "shape": ""
                                                }
                                            },
                                            "name": "Bon Iver",
                                            "offsetgroup": "Bon Iver",
                                            "orientation": "h",
                                            "showlegend": true,
                                            "type": "histogram",
                                            "x": [
                                                219
                                            ],
                                            "xaxis": "x",
                                            "y": [
                                                "Bon Iver"
                                            ],
                                            "yaxis": "y"
                                        },
                                        {
                                            "alignmentgroup": "True",
                                            "bingroup": "y",
                                            "histfunc": "sum",
                                            "hovertemplate": "Artist=%{y}<br>Year=2014<br>sum of Count=%{x}<extra></extra>",
                                            "legendgroup": "The Black Atlantic",
                                            "marker": {
                                                "color": "#00cc96",
                                                "pattern": {
                                                    "shape": ""
                                                }
                                            },
                                            "name": "The Black Atlantic",
                                            "offsetgroup": "The Black Atlantic",
                                            "orientation": "h",
                                            "showlegend": true,
                                            "type": "histogram",
                                            "x": [
                                                195
                                            ],
                                            "xaxis": "x",
                                            "y": [
                                                "The Black Atlantic"
                                            ],
                                            "yaxis": "y"
                                        }
                                    ],
                                    "name": "2014"
                                },
                                {
                                    "data": [
                                        {
                                            "alignmentgroup": "True",
                                            "bingroup": "y",
                                            "histfunc": "sum",
                                            "hovertemplate": "Artist=%{y}<br>Year=2015<br>sum of Count=%{x}<extra></extra>",
                                            "legendgroup": "Bosse",
                                            "marker": {
                                                "color": "#00cc96",
                                                "pattern": {
                                                    "shape": ""
                                                }
                                            },
                                            "name": "Bosse",
                                            "offsetgroup": "Bosse",
                                            "orientation": "h",
                                            "showlegend": true,
                                            "type": "histogram",
                                            "x": [
                                                649
                                            ],
                                            "xaxis": "x",
                                            "y": [
                                                "Bosse"
                                            ],
                                            "yaxis": "y"
                                        },
                                        {
                                            "alignmentgroup": "True",
                                            "bingroup": "y",
                                            "histfunc": "sum",
                                            "hovertemplate": "Artist=%{y}<br>Year=2015<br>sum of Count=%{x}<extra></extra>",
                                            "legendgroup": "Interpol",
                                            "marker": {
                                                "color": "#FECB52",
                                                "pattern": {
                                                    "shape": ""
                                                }
                                            },
                                            "name": "Interpol",
                                            "offsetgroup": "Interpol",
                                            "orientation": "h",
                                            "showlegend": true,
                                            "type": "histogram",
                                            "x": [
                                                656
                                            ],
                                            "xaxis": "x",
                                            "y": [
                                                "Interpol"
                                            ],
                                            "yaxis": "y"
                                        },
                                        {
                                            "alignmentgroup": "True",
                                            "bingroup": "y",
                                            "histfunc": "sum",
                                            "hovertemplate": "Artist=%{y}<br>Year=2015<br>sum of Count=%{x}<extra></extra>",
                                            "legendgroup": "The Bravery",
                                            "marker": {
                                                "color": "#19d3f3",
                                                "pattern": {
                                                    "shape": ""
                                                }
                                            },
                                            "name": "The Bravery",
                                            "offsetgroup": "The Bravery",
                                            "orientation": "h",
                                            "showlegend": true,
                                            "type": "histogram",
                                            "x": [
                                                528
                                            ],
                                            "xaxis": "x",
                                            "y": [
                                                "The Bravery"
                                            ],
                                            "yaxis": "y"
                                        },
                                        {
                                            "alignmentgroup": "True",
                                            "bingroup": "y",
                                            "histfunc": "sum",
                                            "hovertemplate": "Artist=%{y}<br>Year=2015<br>sum of Count=%{x}<extra></extra>",
                                            "legendgroup": "M83",
                                            "marker": {
                                                "color": "#FECB52",
                                                "pattern": {
                                                    "shape": ""
                                                }
                                            },
                                            "name": "M83",
                                            "offsetgroup": "M83",
                                            "orientation": "h",
                                            "showlegend": true,
                                            "type": "histogram",
                                            "x": [
                                                207
                                            ],
                                            "xaxis": "x",
                                            "y": [
                                                "M83"
                                            ],
                                            "yaxis": "y"
                                        },
                                        {
                                            "alignmentgroup": "True",
                                            "bingroup": "y",
                                            "histfunc": "sum",
                                            "hovertemplate": "Artist=%{y}<br>Year=2015<br>sum of Count=%{x}<extra></extra>",
                                            "legendgroup": "New Order",
                                            "marker": {
                                                "color": "#EF553B",
                                                "pattern": {
                                                    "shape": ""
                                                }
                                            },
                                            "name": "New Order",
                                            "offsetgroup": "New Order",
                                            "orientation": "h",
                                            "showlegend": true,
                                            "type": "histogram",
                                            "x": [
                                                736
                                            ],
                                            "xaxis": "x",
                                            "y": [
                                                "New Order"
                                            ],
                                            "yaxis": "y"
                                        },
                                        {
                                            "alignmentgroup": "True",
                                            "bingroup": "y",
                                            "histfunc": "sum",
                                            "hovertemplate": "Artist=%{y}<br>Year=2015<br>sum of Count=%{x}<extra></extra>",
                                            "legendgroup": "Death Cab for Cutie",
                                            "marker": {
                                                "color": "#ab63fa",
                                                "pattern": {
                                                    "shape": ""
                                                }
                                            },
                                            "name": "Death Cab for Cutie",
                                            "offsetgroup": "Death Cab for Cutie",
                                            "orientation": "h",
                                            "showlegend": true,
                                            "type": "histogram",
                                            "x": [
                                                917
                                            ],
                                            "xaxis": "x",
                                            "y": [
                                                "Death Cab for Cutie"
                                            ],
                                            "yaxis": "y"
                                        },
                                        {
                                            "alignmentgroup": "True",
                                            "bingroup": "y",
                                            "histfunc": "sum",
                                            "hovertemplate": "Artist=%{y}<br>Year=2015<br>sum of Count=%{x}<extra></extra>",
                                            "legendgroup": "Travis",
                                            "marker": {
                                                "color": "#FFA15A",
                                                "pattern": {
                                                    "shape": ""
                                                }
                                            },
                                            "name": "Travis",
                                            "offsetgroup": "Travis",
                                            "orientation": "h",
                                            "showlegend": true,
                                            "type": "histogram",
                                            "x": [
                                                266
                                            ],
                                            "xaxis": "x",
                                            "y": [
                                                "Travis"
                                            ],
                                            "yaxis": "y"
                                        },
                                        {
                                            "alignmentgroup": "True",
                                            "bingroup": "y",
                                            "histfunc": "sum",
                                            "hovertemplate": "Artist=%{y}<br>Year=2015<br>sum of Count=%{x}<extra></extra>",
                                            "legendgroup": "Freelance Whales",
                                            "marker": {
                                                "color": "#19d3f3",
                                                "pattern": {
                                                    "shape": ""
                                                }
                                            },
                                            "name": "Freelance Whales",
                                            "offsetgroup": "Freelance Whales",
                                            "orientation": "h",
                                            "showlegend": true,
                                            "type": "histogram",
                                            "x": [
                                                439
                                            ],
                                            "xaxis": "x",
                                            "y": [
                                                "Freelance Whales"
                                            ],
                                            "yaxis": "y"
                                        },
                                        {
                                            "alignmentgroup": "True",
                                            "bingroup": "y",
                                            "histfunc": "sum",
                                            "hovertemplate": "Artist=%{y}<br>Year=2015<br>sum of Count=%{x}<extra></extra>",
                                            "legendgroup": "Enno Bunger",
                                            "marker": {
                                                "color": "#ab63fa",
                                                "pattern": {
                                                    "shape": ""
                                                }
                                            },
                                            "name": "Enno Bunger",
                                            "offsetgroup": "Enno Bunger",
                                            "orientation": "h",
                                            "showlegend": true,
                                            "type": "histogram",
                                            "x": [
                                                574
                                            ],
                                            "xaxis": "x",
                                            "y": [
                                                "Enno Bunger"
                                            ],
                                            "yaxis": "y"
                                        },
                                        {
                                            "alignmentgroup": "True",
                                            "bingroup": "y",
                                            "histfunc": "sum",
                                            "hovertemplate": "Artist=%{y}<br>Year=2015<br>sum of Count=%{x}<extra></extra>",
                                            "legendgroup": "Washed Out",
                                            "marker": {
                                                "color": "#FFA15A",
                                                "pattern": {
                                                    "shape": ""
                                                }
                                            },
                                            "name": "Washed Out",
                                            "offsetgroup": "Washed Out",
                                            "orientation": "h",
                                            "showlegend": true,
                                            "type": "histogram",
                                            "x": [
                                                380
                                            ],
                                            "xaxis": "x",
                                            "y": [
                                                "Washed Out"
                                            ],
                                            "yaxis": "y"
                                        }
                                    ],
                                    "name": "2015"
                                },
                                {
                                    "data": [
                                        {
                                            "alignmentgroup": "True",
                                            "bingroup": "y",
                                            "histfunc": "sum",
                                            "hovertemplate": "Artist=%{y}<br>Year=2016<br>sum of Count=%{x}<extra></extra>",
                                            "legendgroup": "Bosse",
                                            "marker": {
                                                "color": "#00cc96",
                                                "pattern": {
                                                    "shape": ""
                                                }
                                            },
                                            "name": "Bosse",
                                            "offsetgroup": "Bosse",
                                            "orientation": "h",
                                            "showlegend": true,
                                            "type": "histogram",
                                            "x": [
                                                575
                                            ],
                                            "xaxis": "x",
                                            "y": [
                                                "Bosse"
                                            ],
                                            "yaxis": "y"
                                        },
                                        {
                                            "alignmentgroup": "True",
                                            "bingroup": "y",
                                            "histfunc": "sum",
                                            "hovertemplate": "Artist=%{y}<br>Year=2016<br>sum of Count=%{x}<extra></extra>",
                                            "legendgroup": "Silversun Pickups",
                                            "marker": {
                                                "color": "#FFA15A",
                                                "pattern": {
                                                    "shape": ""
                                                }
                                            },
                                            "name": "Silversun Pickups",
                                            "offsetgroup": "Silversun Pickups",
                                            "orientation": "h",
                                            "showlegend": true,
                                            "type": "histogram",
                                            "x": [
                                                317
                                            ],
                                            "xaxis": "x",
                                            "y": [
                                                "Silversun Pickups"
                                            ],
                                            "yaxis": "y"
                                        },
                                        {
                                            "alignmentgroup": "True",
                                            "bingroup": "y",
                                            "histfunc": "sum",
                                            "hovertemplate": "Artist=%{y}<br>Year=2016<br>sum of Count=%{x}<extra></extra>",
                                            "legendgroup": "Interpol",
                                            "marker": {
                                                "color": "#FECB52",
                                                "pattern": {
                                                    "shape": ""
                                                }
                                            },
                                            "name": "Interpol",
                                            "offsetgroup": "Interpol",
                                            "orientation": "h",
                                            "showlegend": true,
                                            "type": "histogram",
                                            "x": [
                                                129
                                            ],
                                            "xaxis": "x",
                                            "y": [
                                                "Interpol"
                                            ],
                                            "yaxis": "y"
                                        },
                                        {
                                            "alignmentgroup": "True",
                                            "bingroup": "y",
                                            "histfunc": "sum",
                                            "hovertemplate": "Artist=%{y}<br>Year=2016<br>sum of Count=%{x}<extra></extra>",
                                            "legendgroup": "New Order",
                                            "marker": {
                                                "color": "#EF553B",
                                                "pattern": {
                                                    "shape": ""
                                                }
                                            },
                                            "name": "New Order",
                                            "offsetgroup": "New Order",
                                            "orientation": "h",
                                            "showlegend": true,
                                            "type": "histogram",
                                            "x": [
                                                1738
                                            ],
                                            "xaxis": "x",
                                            "y": [
                                                "New Order"
                                            ],
                                            "yaxis": "y"
                                        },
                                        {
                                            "alignmentgroup": "True",
                                            "bingroup": "y",
                                            "histfunc": "sum",
                                            "hovertemplate": "Artist=%{y}<br>Year=2016<br>sum of Count=%{x}<extra></extra>",
                                            "legendgroup": "Death Cab for Cutie",
                                            "marker": {
                                                "color": "#ab63fa",
                                                "pattern": {
                                                    "shape": ""
                                                }
                                            },
                                            "name": "Death Cab for Cutie",
                                            "offsetgroup": "Death Cab for Cutie",
                                            "orientation": "h",
                                            "showlegend": true,
                                            "type": "histogram",
                                            "x": [
                                                151
                                            ],
                                            "xaxis": "x",
                                            "y": [
                                                "Death Cab for Cutie"
                                            ],
                                            "yaxis": "y"
                                        },
                                        {
                                            "alignmentgroup": "True",
                                            "bingroup": "y",
                                            "histfunc": "sum",
                                            "hovertemplate": "Artist=%{y}<br>Year=2016<br>sum of Count=%{x}<extra></extra>",
                                            "legendgroup": "Nada Surf",
                                            "marker": {
                                                "color": "#B6E880",
                                                "pattern": {
                                                    "shape": ""
                                                }
                                            },
                                            "name": "Nada Surf",
                                            "offsetgroup": "Nada Surf",
                                            "orientation": "h",
                                            "showlegend": true,
                                            "type": "histogram",
                                            "x": [
                                                504
                                            ],
                                            "xaxis": "x",
                                            "y": [
                                                "Nada Surf"
                                            ],
                                            "yaxis": "y"
                                        },
                                        {
                                            "alignmentgroup": "True",
                                            "bingroup": "y",
                                            "histfunc": "sum",
                                            "hovertemplate": "Artist=%{y}<br>Year=2016<br>sum of Count=%{x}<extra></extra>",
                                            "legendgroup": "Mike Posner",
                                            "marker": {
                                                "color": "#19d3f3",
                                                "pattern": {
                                                    "shape": ""
                                                }
                                            },
                                            "name": "Mike Posner",
                                            "offsetgroup": "Mike Posner",
                                            "orientation": "h",
                                            "showlegend": true,
                                            "type": "histogram",
                                            "x": [
                                                205
                                            ],
                                            "xaxis": "x",
                                            "y": [
                                                "Mike Posner"
                                            ],
                                            "yaxis": "y"
                                        },
                                        {
                                            "alignmentgroup": "True",
                                            "bingroup": "y",
                                            "histfunc": "sum",
                                            "hovertemplate": "Artist=%{y}<br>Year=2016<br>sum of Count=%{x}<extra></extra>",
                                            "legendgroup": "Cigarettes After Sex",
                                            "marker": {
                                                "color": "#FF6692",
                                                "pattern": {
                                                    "shape": ""
                                                }
                                            },
                                            "name": "Cigarettes After Sex",
                                            "offsetgroup": "Cigarettes After Sex",
                                            "orientation": "h",
                                            "showlegend": true,
                                            "type": "histogram",
                                            "x": [
                                                144
                                            ],
                                            "xaxis": "x",
                                            "y": [
                                                "Cigarettes After Sex"
                                            ],
                                            "yaxis": "y"
                                        },
                                        {
                                            "alignmentgroup": "True",
                                            "bingroup": "y",
                                            "histfunc": "sum",
                                            "hovertemplate": "Artist=%{y}<br>Year=2016<br>sum of Count=%{x}<extra></extra>",
                                            "legendgroup": "blink-182",
                                            "marker": {
                                                "color": "#B6E880",
                                                "pattern": {
                                                    "shape": ""
                                                }
                                            },
                                            "name": "blink-182",
                                            "offsetgroup": "blink-182",
                                            "orientation": "h",
                                            "showlegend": true,
                                            "type": "histogram",
                                            "x": [
                                                94
                                            ],
                                            "xaxis": "x",
                                            "y": [
                                                "blink-182"
                                            ],
                                            "yaxis": "y"
                                        },
                                        {
                                            "alignmentgroup": "True",
                                            "bingroup": "y",
                                            "histfunc": "sum",
                                            "hovertemplate": "Artist=%{y}<br>Year=2016<br>sum of Count=%{x}<extra></extra>",
                                            "legendgroup": "Owl City",
                                            "marker": {
                                                "color": "#FF97FF",
                                                "pattern": {
                                                    "shape": ""
                                                }
                                            },
                                            "name": "Owl City",
                                            "offsetgroup": "Owl City",
                                            "orientation": "h",
                                            "showlegend": true,
                                            "type": "histogram",
                                            "x": [
                                                81
                                            ],
                                            "xaxis": "x",
                                            "y": [
                                                "Owl City"
                                            ],
                                            "yaxis": "y"
                                        }
                                    ],
                                    "name": "2016"
                                },
                                {
                                    "data": [
                                        {
                                            "alignmentgroup": "True",
                                            "bingroup": "y",
                                            "histfunc": "sum",
                                            "hovertemplate": "Artist=%{y}<br>Year=2017<br>sum of Count=%{x}<extra></extra>",
                                            "legendgroup": "Interpol",
                                            "marker": {
                                                "color": "#FECB52",
                                                "pattern": {
                                                    "shape": ""
                                                }
                                            },
                                            "name": "Interpol",
                                            "offsetgroup": "Interpol",
                                            "orientation": "h",
                                            "showlegend": true,
                                            "type": "histogram",
                                            "x": [
                                                392
                                            ],
                                            "xaxis": "x",
                                            "y": [
                                                "Interpol"
                                            ],
                                            "yaxis": "y"
                                        },
                                        {
                                            "alignmentgroup": "True",
                                            "bingroup": "y",
                                            "histfunc": "sum",
                                            "hovertemplate": "Artist=%{y}<br>Year=2017<br>sum of Count=%{x}<extra></extra>",
                                            "legendgroup": "Sigur Rós",
                                            "marker": {
                                                "color": "#EF553B",
                                                "pattern": {
                                                    "shape": ""
                                                }
                                            },
                                            "name": "Sigur Rós",
                                            "offsetgroup": "Sigur Rós",
                                            "orientation": "h",
                                            "showlegend": true,
                                            "type": "histogram",
                                            "x": [
                                                1021
                                            ],
                                            "xaxis": "x",
                                            "y": [
                                                "Sigur Rós"
                                            ],
                                            "yaxis": "y"
                                        },
                                        {
                                            "alignmentgroup": "True",
                                            "bingroup": "y",
                                            "histfunc": "sum",
                                            "hovertemplate": "Artist=%{y}<br>Year=2017<br>sum of Count=%{x}<extra></extra>",
                                            "legendgroup": "New Order",
                                            "marker": {
                                                "color": "#EF553B",
                                                "pattern": {
                                                    "shape": ""
                                                }
                                            },
                                            "name": "New Order",
                                            "offsetgroup": "New Order",
                                            "orientation": "h",
                                            "showlegend": true,
                                            "type": "histogram",
                                            "x": [
                                                381
                                            ],
                                            "xaxis": "x",
                                            "y": [
                                                "New Order"
                                            ],
                                            "yaxis": "y"
                                        },
                                        {
                                            "alignmentgroup": "True",
                                            "bingroup": "y",
                                            "histfunc": "sum",
                                            "hovertemplate": "Artist=%{y}<br>Year=2017<br>sum of Count=%{x}<extra></extra>",
                                            "legendgroup": "Travis",
                                            "marker": {
                                                "color": "#FFA15A",
                                                "pattern": {
                                                    "shape": ""
                                                }
                                            },
                                            "name": "Travis",
                                            "offsetgroup": "Travis",
                                            "orientation": "h",
                                            "showlegend": true,
                                            "type": "histogram",
                                            "x": [
                                                196
                                            ],
                                            "xaxis": "x",
                                            "y": [
                                                "Travis"
                                            ],
                                            "yaxis": "y"
                                        },
                                        {
                                            "alignmentgroup": "True",
                                            "bingroup": "y",
                                            "histfunc": "sum",
                                            "hovertemplate": "Artist=%{y}<br>Year=2017<br>sum of Count=%{x}<extra></extra>",
                                            "legendgroup": "Nada Surf",
                                            "marker": {
                                                "color": "#B6E880",
                                                "pattern": {
                                                    "shape": ""
                                                }
                                            },
                                            "name": "Nada Surf",
                                            "offsetgroup": "Nada Surf",
                                            "orientation": "h",
                                            "showlegend": true,
                                            "type": "histogram",
                                            "x": [
                                                979
                                            ],
                                            "xaxis": "x",
                                            "y": [
                                                "Nada Surf"
                                            ],
                                            "yaxis": "y"
                                        },
                                        {
                                            "alignmentgroup": "True",
                                            "bingroup": "y",
                                            "histfunc": "sum",
                                            "hovertemplate": "Artist=%{y}<br>Year=2017<br>sum of Count=%{x}<extra></extra>",
                                            "legendgroup": "The Black Atlantic",
                                            "marker": {
                                                "color": "#00cc96",
                                                "pattern": {
                                                    "shape": ""
                                                }
                                            },
                                            "name": "The Black Atlantic",
                                            "offsetgroup": "The Black Atlantic",
                                            "orientation": "h",
                                            "showlegend": true,
                                            "type": "histogram",
                                            "x": [
                                                188
                                            ],
                                            "xaxis": "x",
                                            "y": [
                                                "The Black Atlantic"
                                            ],
                                            "yaxis": "y"
                                        },
                                        {
                                            "alignmentgroup": "True",
                                            "bingroup": "y",
                                            "histfunc": "sum",
                                            "hovertemplate": "Artist=%{y}<br>Year=2017<br>sum of Count=%{x}<extra></extra>",
                                            "legendgroup": "System of a Down",
                                            "marker": {
                                                "color": "#FECB52",
                                                "pattern": {
                                                    "shape": ""
                                                }
                                            },
                                            "name": "System of a Down",
                                            "offsetgroup": "System of a Down",
                                            "orientation": "h",
                                            "showlegend": true,
                                            "type": "histogram",
                                            "x": [
                                                569
                                            ],
                                            "xaxis": "x",
                                            "y": [
                                                "System of a Down"
                                            ],
                                            "yaxis": "y"
                                        },
                                        {
                                            "alignmentgroup": "True",
                                            "bingroup": "y",
                                            "histfunc": "sum",
                                            "hovertemplate": "Artist=%{y}<br>Year=2017<br>sum of Count=%{x}<extra></extra>",
                                            "legendgroup": "Tokyo Police Club",
                                            "marker": {
                                                "color": "#636efa",
                                                "pattern": {
                                                    "shape": ""
                                                }
                                            },
                                            "name": "Tokyo Police Club",
                                            "offsetgroup": "Tokyo Police Club",
                                            "orientation": "h",
                                            "showlegend": true,
                                            "type": "histogram",
                                            "x": [
                                                322
                                            ],
                                            "xaxis": "x",
                                            "y": [
                                                "Tokyo Police Club"
                                            ],
                                            "yaxis": "y"
                                        },
                                        {
                                            "alignmentgroup": "True",
                                            "bingroup": "y",
                                            "histfunc": "sum",
                                            "hovertemplate": "Artist=%{y}<br>Year=2017<br>sum of Count=%{x}<extra></extra>",
                                            "legendgroup": "alt-J",
                                            "marker": {
                                                "color": "#EF553B",
                                                "pattern": {
                                                    "shape": ""
                                                }
                                            },
                                            "name": "alt-J",
                                            "offsetgroup": "alt-J",
                                            "orientation": "h",
                                            "showlegend": true,
                                            "type": "histogram",
                                            "x": [
                                                241
                                            ],
                                            "xaxis": "x",
                                            "y": [
                                                "alt-J"
                                            ],
                                            "yaxis": "y"
                                        },
                                        {
                                            "alignmentgroup": "True",
                                            "bingroup": "y",
                                            "histfunc": "sum",
                                            "hovertemplate": "Artist=%{y}<br>Year=2017<br>sum of Count=%{x}<extra></extra>",
                                            "legendgroup": "Years & Years",
                                            "marker": {
                                                "color": "#00cc96",
                                                "pattern": {
                                                    "shape": ""
                                                }
                                            },
                                            "name": "Years & Years",
                                            "offsetgroup": "Years & Years",
                                            "orientation": "h",
                                            "showlegend": true,
                                            "type": "histogram",
                                            "x": [
                                                197
                                            ],
                                            "xaxis": "x",
                                            "y": [
                                                "Years & Years"
                                            ],
                                            "yaxis": "y"
                                        }
                                    ],
                                    "name": "2017"
                                },
                                {
                                    "data": [
                                        {
                                            "alignmentgroup": "True",
                                            "bingroup": "y",
                                            "histfunc": "sum",
                                            "hovertemplate": "Artist=%{y}<br>Year=2018<br>sum of Count=%{x}<extra></extra>",
                                            "legendgroup": "Within Temptation",
                                            "marker": {
                                                "color": "#FF6692",
                                                "pattern": {
                                                    "shape": ""
                                                }
                                            },
                                            "name": "Within Temptation",
                                            "offsetgroup": "Within Temptation",
                                            "orientation": "h",
                                            "showlegend": true,
                                            "type": "histogram",
                                            "x": [
                                                134
                                            ],
                                            "xaxis": "x",
                                            "y": [
                                                "Within Temptation"
                                            ],
                                            "yaxis": "y"
                                        },
                                        {
                                            "alignmentgroup": "True",
                                            "bingroup": "y",
                                            "histfunc": "sum",
                                            "hovertemplate": "Artist=%{y}<br>Year=2018<br>sum of Count=%{x}<extra></extra>",
                                            "legendgroup": "Interpol",
                                            "marker": {
                                                "color": "#FECB52",
                                                "pattern": {
                                                    "shape": ""
                                                }
                                            },
                                            "name": "Interpol",
                                            "offsetgroup": "Interpol",
                                            "orientation": "h",
                                            "showlegend": true,
                                            "type": "histogram",
                                            "x": [
                                                308
                                            ],
                                            "xaxis": "x",
                                            "y": [
                                                "Interpol"
                                            ],
                                            "yaxis": "y"
                                        },
                                        {
                                            "alignmentgroup": "True",
                                            "bingroup": "y",
                                            "histfunc": "sum",
                                            "hovertemplate": "Artist=%{y}<br>Year=2018<br>sum of Count=%{x}<extra></extra>",
                                            "legendgroup": "Sigur Rós",
                                            "marker": {
                                                "color": "#EF553B",
                                                "pattern": {
                                                    "shape": ""
                                                }
                                            },
                                            "name": "Sigur Rós",
                                            "offsetgroup": "Sigur Rós",
                                            "orientation": "h",
                                            "showlegend": true,
                                            "type": "histogram",
                                            "x": [
                                                340
                                            ],
                                            "xaxis": "x",
                                            "y": [
                                                "Sigur Rós"
                                            ],
                                            "yaxis": "y"
                                        },
                                        {
                                            "alignmentgroup": "True",
                                            "bingroup": "y",
                                            "histfunc": "sum",
                                            "hovertemplate": "Artist=%{y}<br>Year=2018<br>sum of Count=%{x}<extra></extra>",
                                            "legendgroup": "Arcade Fire",
                                            "marker": {
                                                "color": "#FF6692",
                                                "pattern": {
                                                    "shape": ""
                                                }
                                            },
                                            "name": "Arcade Fire",
                                            "offsetgroup": "Arcade Fire",
                                            "orientation": "h",
                                            "showlegend": true,
                                            "type": "histogram",
                                            "x": [
                                                985
                                            ],
                                            "xaxis": "x",
                                            "y": [
                                                "Arcade Fire"
                                            ],
                                            "yaxis": "y"
                                        },
                                        {
                                            "alignmentgroup": "True",
                                            "bingroup": "y",
                                            "histfunc": "sum",
                                            "hovertemplate": "Artist=%{y}<br>Year=2018<br>sum of Count=%{x}<extra></extra>",
                                            "legendgroup": "New Order",
                                            "marker": {
                                                "color": "#EF553B",
                                                "pattern": {
                                                    "shape": ""
                                                }
                                            },
                                            "name": "New Order",
                                            "offsetgroup": "New Order",
                                            "orientation": "h",
                                            "showlegend": true,
                                            "type": "histogram",
                                            "x": [
                                                671
                                            ],
                                            "xaxis": "x",
                                            "y": [
                                                "New Order"
                                            ],
                                            "yaxis": "y"
                                        },
                                        {
                                            "alignmentgroup": "True",
                                            "bingroup": "y",
                                            "histfunc": "sum",
                                            "hovertemplate": "Artist=%{y}<br>Year=2018<br>sum of Count=%{x}<extra></extra>",
                                            "legendgroup": "Death Cab for Cutie",
                                            "marker": {
                                                "color": "#ab63fa",
                                                "pattern": {
                                                    "shape": ""
                                                }
                                            },
                                            "name": "Death Cab for Cutie",
                                            "offsetgroup": "Death Cab for Cutie",
                                            "orientation": "h",
                                            "showlegend": true,
                                            "type": "histogram",
                                            "x": [
                                                507
                                            ],
                                            "xaxis": "x",
                                            "y": [
                                                "Death Cab for Cutie"
                                            ],
                                            "yaxis": "y"
                                        },
                                        {
                                            "alignmentgroup": "True",
                                            "bingroup": "y",
                                            "histfunc": "sum",
                                            "hovertemplate": "Artist=%{y}<br>Year=2018<br>sum of Count=%{x}<extra></extra>",
                                            "legendgroup": "Travis",
                                            "marker": {
                                                "color": "#FFA15A",
                                                "pattern": {
                                                    "shape": ""
                                                }
                                            },
                                            "name": "Travis",
                                            "offsetgroup": "Travis",
                                            "orientation": "h",
                                            "showlegend": true,
                                            "type": "histogram",
                                            "x": [
                                                300
                                            ],
                                            "xaxis": "x",
                                            "y": [
                                                "Travis"
                                            ],
                                            "yaxis": "y"
                                        },
                                        {
                                            "alignmentgroup": "True",
                                            "bingroup": "y",
                                            "histfunc": "sum",
                                            "hovertemplate": "Artist=%{y}<br>Year=2018<br>sum of Count=%{x}<extra></extra>",
                                            "legendgroup": "Freelance Whales",
                                            "marker": {
                                                "color": "#19d3f3",
                                                "pattern": {
                                                    "shape": ""
                                                }
                                            },
                                            "name": "Freelance Whales",
                                            "offsetgroup": "Freelance Whales",
                                            "orientation": "h",
                                            "showlegend": true,
                                            "type": "histogram",
                                            "x": [
                                                220
                                            ],
                                            "xaxis": "x",
                                            "y": [
                                                "Freelance Whales"
                                            ],
                                            "yaxis": "y"
                                        },
                                        {
                                            "alignmentgroup": "True",
                                            "bingroup": "y",
                                            "histfunc": "sum",
                                            "hovertemplate": "Artist=%{y}<br>Year=2018<br>sum of Count=%{x}<extra></extra>",
                                            "legendgroup": "Nada Surf",
                                            "marker": {
                                                "color": "#B6E880",
                                                "pattern": {
                                                    "shape": ""
                                                }
                                            },
                                            "name": "Nada Surf",
                                            "offsetgroup": "Nada Surf",
                                            "orientation": "h",
                                            "showlegend": true,
                                            "type": "histogram",
                                            "x": [
                                                1995
                                            ],
                                            "xaxis": "x",
                                            "y": [
                                                "Nada Surf"
                                            ],
                                            "yaxis": "y"
                                        },
                                        {
                                            "alignmentgroup": "True",
                                            "bingroup": "y",
                                            "histfunc": "sum",
                                            "hovertemplate": "Artist=%{y}<br>Year=2018<br>sum of Count=%{x}<extra></extra>",
                                            "legendgroup": "Weezer",
                                            "marker": {
                                                "color": "#ab63fa",
                                                "pattern": {
                                                    "shape": ""
                                                }
                                            },
                                            "name": "Weezer",
                                            "offsetgroup": "Weezer",
                                            "orientation": "h",
                                            "showlegend": true,
                                            "type": "histogram",
                                            "x": [
                                                203
                                            ],
                                            "xaxis": "x",
                                            "y": [
                                                "Weezer"
                                            ],
                                            "yaxis": "y"
                                        }
                                    ],
                                    "name": "2018"
                                },
                                {
                                    "data": [
                                        {
                                            "alignmentgroup": "True",
                                            "bingroup": "y",
                                            "histfunc": "sum",
                                            "hovertemplate": "Artist=%{y}<br>Year=2019<br>sum of Count=%{x}<extra></extra>",
                                            "legendgroup": "Interpol",
                                            "marker": {
                                                "color": "#FECB52",
                                                "pattern": {
                                                    "shape": ""
                                                }
                                            },
                                            "name": "Interpol",
                                            "offsetgroup": "Interpol",
                                            "orientation": "h",
                                            "showlegend": true,
                                            "type": "histogram",
                                            "x": [
                                                13
                                            ],
                                            "xaxis": "x",
                                            "y": [
                                                "Interpol"
                                            ],
                                            "yaxis": "y"
                                        },
                                        {
                                            "alignmentgroup": "True",
                                            "bingroup": "y",
                                            "histfunc": "sum",
                                            "hovertemplate": "Artist=%{y}<br>Year=2019<br>sum of Count=%{x}<extra></extra>",
                                            "legendgroup": "Sigur Rós",
                                            "marker": {
                                                "color": "#EF553B",
                                                "pattern": {
                                                    "shape": ""
                                                }
                                            },
                                            "name": "Sigur Rós",
                                            "offsetgroup": "Sigur Rós",
                                            "orientation": "h",
                                            "showlegend": true,
                                            "type": "histogram",
                                            "x": [
                                                16
                                            ],
                                            "xaxis": "x",
                                            "y": [
                                                "Sigur Rós"
                                            ],
                                            "yaxis": "y"
                                        },
                                        {
                                            "alignmentgroup": "True",
                                            "bingroup": "y",
                                            "histfunc": "sum",
                                            "hovertemplate": "Artist=%{y}<br>Year=2019<br>sum of Count=%{x}<extra></extra>",
                                            "legendgroup": "Local Natives",
                                            "marker": {
                                                "color": "#FF97FF",
                                                "pattern": {
                                                    "shape": ""
                                                }
                                            },
                                            "name": "Local Natives",
                                            "offsetgroup": "Local Natives",
                                            "orientation": "h",
                                            "showlegend": true,
                                            "type": "histogram",
                                            "x": [
                                                79
                                            ],
                                            "xaxis": "x",
                                            "y": [
                                                "Local Natives"
                                            ],
                                            "yaxis": "y"
                                        },
                                        {
                                            "alignmentgroup": "True",
                                            "bingroup": "y",
                                            "histfunc": "sum",
                                            "hovertemplate": "Artist=%{y}<br>Year=2019<br>sum of Count=%{x}<extra></extra>",
                                            "legendgroup": "New Order",
                                            "marker": {
                                                "color": "#EF553B",
                                                "pattern": {
                                                    "shape": ""
                                                }
                                            },
                                            "name": "New Order",
                                            "offsetgroup": "New Order",
                                            "orientation": "h",
                                            "showlegend": true,
                                            "type": "histogram",
                                            "x": [
                                                29
                                            ],
                                            "xaxis": "x",
                                            "y": [
                                                "New Order"
                                            ],
                                            "yaxis": "y"
                                        },
                                        {
                                            "alignmentgroup": "True",
                                            "bingroup": "y",
                                            "histfunc": "sum",
                                            "hovertemplate": "Artist=%{y}<br>Year=2019<br>sum of Count=%{x}<extra></extra>",
                                            "legendgroup": "Death Cab for Cutie",
                                            "marker": {
                                                "color": "#ab63fa",
                                                "pattern": {
                                                    "shape": ""
                                                }
                                            },
                                            "name": "Death Cab for Cutie",
                                            "offsetgroup": "Death Cab for Cutie",
                                            "orientation": "h",
                                            "showlegend": true,
                                            "type": "histogram",
                                            "x": [
                                                68
                                            ],
                                            "xaxis": "x",
                                            "y": [
                                                "Death Cab for Cutie"
                                            ],
                                            "yaxis": "y"
                                        },
                                        {
                                            "alignmentgroup": "True",
                                            "bingroup": "y",
                                            "histfunc": "sum",
                                            "hovertemplate": "Artist=%{y}<br>Year=2019<br>sum of Count=%{x}<extra></extra>",
                                            "legendgroup": "Travis",
                                            "marker": {
                                                "color": "#FFA15A",
                                                "pattern": {
                                                    "shape": ""
                                                }
                                            },
                                            "name": "Travis",
                                            "offsetgroup": "Travis",
                                            "orientation": "h",
                                            "showlegend": true,
                                            "type": "histogram",
                                            "x": [
                                                6
                                            ],
                                            "xaxis": "x",
                                            "y": [
                                                "Travis"
                                            ],
                                            "yaxis": "y"
                                        },
                                        {
                                            "alignmentgroup": "True",
                                            "bingroup": "y",
                                            "histfunc": "sum",
                                            "hovertemplate": "Artist=%{y}<br>Year=2019<br>sum of Count=%{x}<extra></extra>",
                                            "legendgroup": "Freelance Whales",
                                            "marker": {
                                                "color": "#19d3f3",
                                                "pattern": {
                                                    "shape": ""
                                                }
                                            },
                                            "name": "Freelance Whales",
                                            "offsetgroup": "Freelance Whales",
                                            "orientation": "h",
                                            "showlegend": true,
                                            "type": "histogram",
                                            "x": [
                                                6
                                            ],
                                            "xaxis": "x",
                                            "y": [
                                                "Freelance Whales"
                                            ],
                                            "yaxis": "y"
                                        },
                                        {
                                            "alignmentgroup": "True",
                                            "bingroup": "y",
                                            "histfunc": "sum",
                                            "hovertemplate": "Artist=%{y}<br>Year=2019<br>sum of Count=%{x}<extra></extra>",
                                            "legendgroup": "The Black Atlantic",
                                            "marker": {
                                                "color": "#00cc96",
                                                "pattern": {
                                                    "shape": ""
                                                }
                                            },
                                            "name": "The Black Atlantic",
                                            "offsetgroup": "The Black Atlantic",
                                            "orientation": "h",
                                            "showlegend": true,
                                            "type": "histogram",
                                            "x": [
                                                57
                                            ],
                                            "xaxis": "x",
                                            "y": [
                                                "The Black Atlantic"
                                            ],
                                            "yaxis": "y"
                                        },
                                        {
                                            "alignmentgroup": "True",
                                            "bingroup": "y",
                                            "histfunc": "sum",
                                            "hovertemplate": "Artist=%{y}<br>Year=2019<br>sum of Count=%{x}<extra></extra>",
                                            "legendgroup": "Weezer",
                                            "marker": {
                                                "color": "#ab63fa",
                                                "pattern": {
                                                    "shape": ""
                                                }
                                            },
                                            "name": "Weezer",
                                            "offsetgroup": "Weezer",
                                            "orientation": "h",
                                            "showlegend": true,
                                            "type": "histogram",
                                            "x": [
                                                183
                                            ],
                                            "xaxis": "x",
                                            "y": [
                                                "Weezer"
                                            ],
                                            "yaxis": "y"
                                        },
                                        {
                                            "alignmentgroup": "True",
                                            "bingroup": "y",
                                            "histfunc": "sum",
                                            "hovertemplate": "Artist=%{y}<br>Year=2019<br>sum of Count=%{x}<extra></extra>",
                                            "legendgroup": "Depeche Mode",
                                            "marker": {
                                                "color": "#FFA15A",
                                                "pattern": {
                                                    "shape": ""
                                                }
                                            },
                                            "name": "Depeche Mode",
                                            "offsetgroup": "Depeche Mode",
                                            "orientation": "h",
                                            "showlegend": true,
                                            "type": "histogram",
                                            "x": [
                                                10
                                            ],
                                            "xaxis": "x",
                                            "y": [
                                                "Depeche Mode"
                                            ],
                                            "yaxis": "y"
                                        }
                                    ],
                                    "name": "2019"
                                },
                                {
                                    "data": [
                                        {
                                            "alignmentgroup": "True",
                                            "bingroup": "y",
                                            "histfunc": "sum",
                                            "hovertemplate": "Artist=%{y}<br>Year=2020<br>sum of Count=%{x}<extra></extra>",
                                            "legendgroup": "Silversun Pickups",
                                            "marker": {
                                                "color": "#FFA15A",
                                                "pattern": {
                                                    "shape": ""
                                                }
                                            },
                                            "name": "Silversun Pickups",
                                            "offsetgroup": "Silversun Pickups",
                                            "orientation": "h",
                                            "showlegend": true,
                                            "type": "histogram",
                                            "x": [
                                                46
                                            ],
                                            "xaxis": "x",
                                            "y": [
                                                "Silversun Pickups"
                                            ],
                                            "yaxis": "y"
                                        },
                                        {
                                            "alignmentgroup": "True",
                                            "bingroup": "y",
                                            "histfunc": "sum",
                                            "hovertemplate": "Artist=%{y}<br>Year=2020<br>sum of Count=%{x}<extra></extra>",
                                            "legendgroup": "Arcade Fire",
                                            "marker": {
                                                "color": "#FF6692",
                                                "pattern": {
                                                    "shape": ""
                                                }
                                            },
                                            "name": "Arcade Fire",
                                            "offsetgroup": "Arcade Fire",
                                            "orientation": "h",
                                            "showlegend": true,
                                            "type": "histogram",
                                            "x": [
                                                40
                                            ],
                                            "xaxis": "x",
                                            "y": [
                                                "Arcade Fire"
                                            ],
                                            "yaxis": "y"
                                        },
                                        {
                                            "alignmentgroup": "True",
                                            "bingroup": "y",
                                            "histfunc": "sum",
                                            "hovertemplate": "Artist=%{y}<br>Year=2020<br>sum of Count=%{x}<extra></extra>",
                                            "legendgroup": "Local Natives",
                                            "marker": {
                                                "color": "#FF97FF",
                                                "pattern": {
                                                    "shape": ""
                                                }
                                            },
                                            "name": "Local Natives",
                                            "offsetgroup": "Local Natives",
                                            "orientation": "h",
                                            "showlegend": true,
                                            "type": "histogram",
                                            "x": [
                                                111
                                            ],
                                            "xaxis": "x",
                                            "y": [
                                                "Local Natives"
                                            ],
                                            "yaxis": "y"
                                        },
                                        {
                                            "alignmentgroup": "True",
                                            "bingroup": "y",
                                            "histfunc": "sum",
                                            "hovertemplate": "Artist=%{y}<br>Year=2020<br>sum of Count=%{x}<extra></extra>",
                                            "legendgroup": "Death Cab for Cutie",
                                            "marker": {
                                                "color": "#ab63fa",
                                                "pattern": {
                                                    "shape": ""
                                                }
                                            },
                                            "name": "Death Cab for Cutie",
                                            "offsetgroup": "Death Cab for Cutie",
                                            "orientation": "h",
                                            "showlegend": true,
                                            "type": "histogram",
                                            "x": [
                                                79
                                            ],
                                            "xaxis": "x",
                                            "y": [
                                                "Death Cab for Cutie"
                                            ],
                                            "yaxis": "y"
                                        },
                                        {
                                            "alignmentgroup": "True",
                                            "bingroup": "y",
                                            "histfunc": "sum",
                                            "hovertemplate": "Artist=%{y}<br>Year=2020<br>sum of Count=%{x}<extra></extra>",
                                            "legendgroup": "Travis",
                                            "marker": {
                                                "color": "#FFA15A",
                                                "pattern": {
                                                    "shape": ""
                                                }
                                            },
                                            "name": "Travis",
                                            "offsetgroup": "Travis",
                                            "orientation": "h",
                                            "showlegend": true,
                                            "type": "histogram",
                                            "x": [
                                                15
                                            ],
                                            "xaxis": "x",
                                            "y": [
                                                "Travis"
                                            ],
                                            "yaxis": "y"
                                        },
                                        {
                                            "alignmentgroup": "True",
                                            "bingroup": "y",
                                            "histfunc": "sum",
                                            "hovertemplate": "Artist=%{y}<br>Year=2020<br>sum of Count=%{x}<extra></extra>",
                                            "legendgroup": "Nada Surf",
                                            "marker": {
                                                "color": "#B6E880",
                                                "pattern": {
                                                    "shape": ""
                                                }
                                            },
                                            "name": "Nada Surf",
                                            "offsetgroup": "Nada Surf",
                                            "orientation": "h",
                                            "showlegend": true,
                                            "type": "histogram",
                                            "x": [
                                                64
                                            ],
                                            "xaxis": "x",
                                            "y": [
                                                "Nada Surf"
                                            ],
                                            "yaxis": "y"
                                        },
                                        {
                                            "alignmentgroup": "True",
                                            "bingroup": "y",
                                            "histfunc": "sum",
                                            "hovertemplate": "Artist=%{y}<br>Year=2020<br>sum of Count=%{x}<extra></extra>",
                                            "legendgroup": "Tokyo Police Club",
                                            "marker": {
                                                "color": "#636efa",
                                                "pattern": {
                                                    "shape": ""
                                                }
                                            },
                                            "name": "Tokyo Police Club",
                                            "offsetgroup": "Tokyo Police Club",
                                            "orientation": "h",
                                            "showlegend": true,
                                            "type": "histogram",
                                            "x": [
                                                17
                                            ],
                                            "xaxis": "x",
                                            "y": [
                                                "Tokyo Police Club"
                                            ],
                                            "yaxis": "y"
                                        },
                                        {
                                            "alignmentgroup": "True",
                                            "bingroup": "y",
                                            "histfunc": "sum",
                                            "hovertemplate": "Artist=%{y}<br>Year=2020<br>sum of Count=%{x}<extra></extra>",
                                            "legendgroup": "alt-J",
                                            "marker": {
                                                "color": "#EF553B",
                                                "pattern": {
                                                    "shape": ""
                                                }
                                            },
                                            "name": "alt-J",
                                            "offsetgroup": "alt-J",
                                            "orientation": "h",
                                            "showlegend": true,
                                            "type": "histogram",
                                            "x": [
                                                177
                                            ],
                                            "xaxis": "x",
                                            "y": [
                                                "alt-J"
                                            ],
                                            "yaxis": "y"
                                        },
                                        {
                                            "alignmentgroup": "True",
                                            "bingroup": "y",
                                            "histfunc": "sum",
                                            "hovertemplate": "Artist=%{y}<br>Year=2020<br>sum of Count=%{x}<extra></extra>",
                                            "legendgroup": "The Shins",
                                            "marker": {
                                                "color": "#19d3f3",
                                                "pattern": {
                                                    "shape": ""
                                                }
                                            },
                                            "name": "The Shins",
                                            "offsetgroup": "The Shins",
                                            "orientation": "h",
                                            "showlegend": true,
                                            "type": "histogram",
                                            "x": [
                                                17
                                            ],
                                            "xaxis": "x",
                                            "y": [
                                                "The Shins"
                                            ],
                                            "yaxis": "y"
                                        },
                                        {
                                            "alignmentgroup": "True",
                                            "bingroup": "y",
                                            "histfunc": "sum",
                                            "hovertemplate": "Artist=%{y}<br>Year=2020<br>sum of Count=%{x}<extra></extra>",
                                            "legendgroup": "Coconut Records",
                                            "marker": {
                                                "color": "#FF6692",
                                                "pattern": {
                                                    "shape": ""
                                                }
                                            },
                                            "name": "Coconut Records",
                                            "offsetgroup": "Coconut Records",
                                            "orientation": "h",
                                            "showlegend": true,
                                            "type": "histogram",
                                            "x": [
                                                14
                                            ],
                                            "xaxis": "x",
                                            "y": [
                                                "Coconut Records"
                                            ],
                                            "yaxis": "y"
                                        }
                                    ],
                                    "name": "2020"
                                },
                                {
                                    "data": [
                                        {
                                            "alignmentgroup": "True",
                                            "bingroup": "y",
                                            "histfunc": "sum",
                                            "hovertemplate": "Artist=%{y}<br>Year=2021<br>sum of Count=%{x}<extra></extra>",
                                            "legendgroup": "Land of Talk",
                                            "marker": {
                                                "color": "#ab63fa",
                                                "pattern": {
                                                    "shape": ""
                                                }
                                            },
                                            "name": "Land of Talk",
                                            "offsetgroup": "Land of Talk",
                                            "orientation": "h",
                                            "showlegend": true,
                                            "type": "histogram",
                                            "x": [
                                                138
                                            ],
                                            "xaxis": "x",
                                            "y": [
                                                "Land of Talk"
                                            ],
                                            "yaxis": "y"
                                        },
                                        {
                                            "alignmentgroup": "True",
                                            "bingroup": "y",
                                            "histfunc": "sum",
                                            "hovertemplate": "Artist=%{y}<br>Year=2021<br>sum of Count=%{x}<extra></extra>",
                                            "legendgroup": "Silversun Pickups",
                                            "marker": {
                                                "color": "#FFA15A",
                                                "pattern": {
                                                    "shape": ""
                                                }
                                            },
                                            "name": "Silversun Pickups",
                                            "offsetgroup": "Silversun Pickups",
                                            "orientation": "h",
                                            "showlegend": true,
                                            "type": "histogram",
                                            "x": [
                                                97
                                            ],
                                            "xaxis": "x",
                                            "y": [
                                                "Silversun Pickups"
                                            ],
                                            "yaxis": "y"
                                        },
                                        {
                                            "alignmentgroup": "True",
                                            "bingroup": "y",
                                            "histfunc": "sum",
                                            "hovertemplate": "Artist=%{y}<br>Year=2021<br>sum of Count=%{x}<extra></extra>",
                                            "legendgroup": "Arcade Fire",
                                            "marker": {
                                                "color": "#FF6692",
                                                "pattern": {
                                                    "shape": ""
                                                }
                                            },
                                            "name": "Arcade Fire",
                                            "offsetgroup": "Arcade Fire",
                                            "orientation": "h",
                                            "showlegend": true,
                                            "type": "histogram",
                                            "x": [
                                                114
                                            ],
                                            "xaxis": "x",
                                            "y": [
                                                "Arcade Fire"
                                            ],
                                            "yaxis": "y"
                                        },
                                        {
                                            "alignmentgroup": "True",
                                            "bingroup": "y",
                                            "histfunc": "sum",
                                            "hovertemplate": "Artist=%{y}<br>Year=2021<br>sum of Count=%{x}<extra></extra>",
                                            "legendgroup": "Local Natives",
                                            "marker": {
                                                "color": "#FF97FF",
                                                "pattern": {
                                                    "shape": ""
                                                }
                                            },
                                            "name": "Local Natives",
                                            "offsetgroup": "Local Natives",
                                            "orientation": "h",
                                            "showlegend": true,
                                            "type": "histogram",
                                            "x": [
                                                74
                                            ],
                                            "xaxis": "x",
                                            "y": [
                                                "Local Natives"
                                            ],
                                            "yaxis": "y"
                                        },
                                        {
                                            "alignmentgroup": "True",
                                            "bingroup": "y",
                                            "histfunc": "sum",
                                            "hovertemplate": "Artist=%{y}<br>Year=2021<br>sum of Count=%{x}<extra></extra>",
                                            "legendgroup": "Death Cab for Cutie",
                                            "marker": {
                                                "color": "#ab63fa",
                                                "pattern": {
                                                    "shape": ""
                                                }
                                            },
                                            "name": "Death Cab for Cutie",
                                            "offsetgroup": "Death Cab for Cutie",
                                            "orientation": "h",
                                            "showlegend": true,
                                            "type": "histogram",
                                            "x": [
                                                99
                                            ],
                                            "xaxis": "x",
                                            "y": [
                                                "Death Cab for Cutie"
                                            ],
                                            "yaxis": "y"
                                        },
                                        {
                                            "alignmentgroup": "True",
                                            "bingroup": "y",
                                            "histfunc": "sum",
                                            "hovertemplate": "Artist=%{y}<br>Year=2021<br>sum of Count=%{x}<extra></extra>",
                                            "legendgroup": "Nada Surf",
                                            "marker": {
                                                "color": "#B6E880",
                                                "pattern": {
                                                    "shape": ""
                                                }
                                            },
                                            "name": "Nada Surf",
                                            "offsetgroup": "Nada Surf",
                                            "orientation": "h",
                                            "showlegend": true,
                                            "type": "histogram",
                                            "x": [
                                                209
                                            ],
                                            "xaxis": "x",
                                            "y": [
                                                "Nada Surf"
                                            ],
                                            "yaxis": "y"
                                        },
                                        {
                                            "alignmentgroup": "True",
                                            "bingroup": "y",
                                            "histfunc": "sum",
                                            "hovertemplate": "Artist=%{y}<br>Year=2021<br>sum of Count=%{x}<extra></extra>",
                                            "legendgroup": "alt-J",
                                            "marker": {
                                                "color": "#EF553B",
                                                "pattern": {
                                                    "shape": ""
                                                }
                                            },
                                            "name": "alt-J",
                                            "offsetgroup": "alt-J",
                                            "orientation": "h",
                                            "showlegend": true,
                                            "type": "histogram",
                                            "x": [
                                                119
                                            ],
                                            "xaxis": "x",
                                            "y": [
                                                "alt-J"
                                            ],
                                            "yaxis": "y"
                                        },
                                        {
                                            "alignmentgroup": "True",
                                            "bingroup": "y",
                                            "histfunc": "sum",
                                            "hovertemplate": "Artist=%{y}<br>Year=2021<br>sum of Count=%{x}<extra></extra>",
                                            "legendgroup": "Daft Punk",
                                            "marker": {
                                                "color": "#B6E880",
                                                "pattern": {
                                                    "shape": ""
                                                }
                                            },
                                            "name": "Daft Punk",
                                            "offsetgroup": "Daft Punk",
                                            "orientation": "h",
                                            "showlegend": true,
                                            "type": "histogram",
                                            "x": [
                                                117
                                            ],
                                            "xaxis": "x",
                                            "y": [
                                                "Daft Punk"
                                            ],
                                            "yaxis": "y"
                                        },
                                        {
                                            "alignmentgroup": "True",
                                            "bingroup": "y",
                                            "histfunc": "sum",
                                            "hovertemplate": "Artist=%{y}<br>Year=2021<br>sum of Count=%{x}<extra></extra>",
                                            "legendgroup": "MGMT",
                                            "marker": {
                                                "color": "#FF97FF",
                                                "pattern": {
                                                    "shape": ""
                                                }
                                            },
                                            "name": "MGMT",
                                            "offsetgroup": "MGMT",
                                            "orientation": "h",
                                            "showlegend": true,
                                            "type": "histogram",
                                            "x": [
                                                97
                                            ],
                                            "xaxis": "x",
                                            "y": [
                                                "MGMT"
                                            ],
                                            "yaxis": "y"
                                        },
                                        {
                                            "alignmentgroup": "True",
                                            "bingroup": "y",
                                            "histfunc": "sum",
                                            "hovertemplate": "Artist=%{y}<br>Year=2021<br>sum of Count=%{x}<extra></extra>",
                                            "legendgroup": "Gorillaz",
                                            "marker": {
                                                "color": "#FECB52",
                                                "pattern": {
                                                    "shape": ""
                                                }
                                            },
                                            "name": "Gorillaz",
                                            "offsetgroup": "Gorillaz",
                                            "orientation": "h",
                                            "showlegend": true,
                                            "type": "histogram",
                                            "x": [
                                                59
                                            ],
                                            "xaxis": "x",
                                            "y": [
                                                "Gorillaz"
                                            ],
                                            "yaxis": "y"
                                        }
                                    ],
                                    "name": "2021"
                                }
                            ],
                            "layout": {
                                "barmode": "relative",
                                "legend": {
                                    "title": {
                                        "text": "Artist"
                                    },
                                    "tracegroupgap": 0
                                },
                                "margin": {
                                    "t": 60
                                },
                                "sliders": [
                                    {
                                        "active": 12,
                                        "currentvalue": {
                                            "prefix": "Year="
                                        },
                                        "len": 0.9,
                                        "pad": {
                                            "b": 10,
                                            "t": 60
                                        },
                                        "steps": [
                                            {
                                                "args": [
                                                    [
                                                        "2009"
                                                    ],
                                                    {
                                                        "frame": {
                                                            "duration": 0,
                                                            "redraw": true
                                                        },
                                                        "fromcurrent": true,
                                                        "mode": "immediate",
                                                        "transition": {
                                                            "duration": 0,
                                                            "easing": "linear"
                                                        }
                                                    }
                                                ],
                                                "label": "2009",
                                                "method": "animate"
                                            },
                                            {
                                                "args": [
                                                    [
                                                        "2010"
                                                    ],
                                                    {
                                                        "frame": {
                                                            "duration": 0,
                                                            "redraw": true
                                                        },
                                                        "fromcurrent": true,
                                                        "mode": "immediate",
                                                        "transition": {
                                                            "duration": 0,
                                                            "easing": "linear"
                                                        }
                                                    }
                                                ],
                                                "label": "2010",
                                                "method": "animate"
                                            },
                                            {
                                                "args": [
                                                    [
                                                        "2011"
                                                    ],
                                                    {
                                                        "frame": {
                                                            "duration": 0,
                                                            "redraw": true
                                                        },
                                                        "fromcurrent": true,
                                                        "mode": "immediate",
                                                        "transition": {
                                                            "duration": 0,
                                                            "easing": "linear"
                                                        }
                                                    }
                                                ],
                                                "label": "2011",
                                                "method": "animate"
                                            },
                                            {
                                                "args": [
                                                    [
                                                        "2012"
                                                    ],
                                                    {
                                                        "frame": {
                                                            "duration": 0,
                                                            "redraw": true
                                                        },
                                                        "fromcurrent": true,
                                                        "mode": "immediate",
                                                        "transition": {
                                                            "duration": 0,
                                                            "easing": "linear"
                                                        }
                                                    }
                                                ],
                                                "label": "2012",
                                                "method": "animate"
                                            },
                                            {
                                                "args": [
                                                    [
                                                        "2013"
                                                    ],
                                                    {
                                                        "frame": {
                                                            "duration": 0,
                                                            "redraw": true
                                                        },
                                                        "fromcurrent": true,
                                                        "mode": "immediate",
                                                        "transition": {
                                                            "duration": 0,
                                                            "easing": "linear"
                                                        }
                                                    }
                                                ],
                                                "label": "2013",
                                                "method": "animate"
                                            },
                                            {
                                                "args": [
                                                    [
                                                        "2014"
                                                    ],
                                                    {
                                                        "frame": {
                                                            "duration": 0,
                                                            "redraw": true
                                                        },
                                                        "fromcurrent": true,
                                                        "mode": "immediate",
                                                        "transition": {
                                                            "duration": 0,
                                                            "easing": "linear"
                                                        }
                                                    }
                                                ],
                                                "label": "2014",
                                                "method": "animate"
                                            },
                                            {
                                                "args": [
                                                    [
                                                        "2015"
                                                    ],
                                                    {
                                                        "frame": {
                                                            "duration": 0,
                                                            "redraw": true
                                                        },
                                                        "fromcurrent": true,
                                                        "mode": "immediate",
                                                        "transition": {
                                                            "duration": 0,
                                                            "easing": "linear"
                                                        }
                                                    }
                                                ],
                                                "label": "2015",
                                                "method": "animate"
                                            },
                                            {
                                                "args": [
                                                    [
                                                        "2016"
                                                    ],
                                                    {
                                                        "frame": {
                                                            "duration": 0,
                                                            "redraw": true
                                                        },
                                                        "fromcurrent": true,
                                                        "mode": "immediate",
                                                        "transition": {
                                                            "duration": 0,
                                                            "easing": "linear"
                                                        }
                                                    }
                                                ],
                                                "label": "2016",
                                                "method": "animate"
                                            },
                                            {
                                                "args": [
                                                    [
                                                        "2017"
                                                    ],
                                                    {
                                                        "frame": {
                                                            "duration": 0,
                                                            "redraw": true
                                                        },
                                                        "fromcurrent": true,
                                                        "mode": "immediate",
                                                        "transition": {
                                                            "duration": 0,
                                                            "easing": "linear"
                                                        }
                                                    }
                                                ],
                                                "label": "2017",
                                                "method": "animate"
                                            },
                                            {
                                                "args": [
                                                    [
                                                        "2018"
                                                    ],
                                                    {
                                                        "frame": {
                                                            "duration": 0,
                                                            "redraw": true
                                                        },
                                                        "fromcurrent": true,
                                                        "mode": "immediate",
                                                        "transition": {
                                                            "duration": 0,
                                                            "easing": "linear"
                                                        }
                                                    }
                                                ],
                                                "label": "2018",
                                                "method": "animate"
                                            },
                                            {
                                                "args": [
                                                    [
                                                        "2019"
                                                    ],
                                                    {
                                                        "frame": {
                                                            "duration": 0,
                                                            "redraw": true
                                                        },
                                                        "fromcurrent": true,
                                                        "mode": "immediate",
                                                        "transition": {
                                                            "duration": 0,
                                                            "easing": "linear"
                                                        }
                                                    }
                                                ],
                                                "label": "2019",
                                                "method": "animate"
                                            },
                                            {
                                                "args": [
                                                    [
                                                        "2020"
                                                    ],
                                                    {
                                                        "frame": {
                                                            "duration": 0,
                                                            "redraw": true
                                                        },
                                                        "fromcurrent": true,
                                                        "mode": "immediate",
                                                        "transition": {
                                                            "duration": 0,
                                                            "easing": "linear"
                                                        }
                                                    }
                                                ],
                                                "label": "2020",
                                                "method": "animate"
                                            },
                                            {
                                                "args": [
                                                    [
                                                        "2021"
                                                    ],
                                                    {
                                                        "frame": {
                                                            "duration": 0,
                                                            "redraw": true
                                                        },
                                                        "fromcurrent": true,
                                                        "mode": "immediate",
                                                        "transition": {
                                                            "duration": 0,
                                                            "easing": "linear"
                                                        }
                                                    }
                                                ],
                                                "label": "2021",
                                                "method": "animate"
                                            }
                                        ],
                                        "x": 0.1,
                                        "xanchor": "left",
                                        "y": 0,
                                        "yanchor": "top"
                                    }
                                ],
                                "template": {
                                    "data": {
                                        "bar": [
                                            {
                                                "error_x": {
                                                    "color": "#2a3f5f"
                                                },
                                                "error_y": {
                                                    "color": "#2a3f5f"
                                                },
                                                "marker": {
                                                    "line": {
                                                        "color": "#E5ECF6",
                                                        "width": 0.5
                                                    },
                                                    "pattern": {
                                                        "fillmode": "overlay",
                                                        "size": 10,
                                                        "solidity": 0.2
                                                    }
                                                },
                                                "type": "bar"
                                            }
                                        ],
                                        "barpolar": [
                                            {
                                                "marker": {
                                                    "line": {
                                                        "color": "#E5ECF6",
                                                        "width": 0.5
                                                    },
                                                    "pattern": {
                                                        "fillmode": "overlay",
                                                        "size": 10,
                                                        "solidity": 0.2
                                                    }
                                                },
                                                "type": "barpolar"
                                            }
                                        ],
                                        "carpet": [
                                            {
                                                "aaxis": {
                                                    "endlinecolor": "#2a3f5f",
                                                    "gridcolor": "white",
                                                    "linecolor": "white",
                                                    "minorgridcolor": "white",
                                                    "startlinecolor": "#2a3f5f"
                                                },
                                                "baxis": {
                                                    "endlinecolor": "#2a3f5f",
                                                    "gridcolor": "white",
                                                    "linecolor": "white",
                                                    "minorgridcolor": "white",
                                                    "startlinecolor": "#2a3f5f"
                                                },
                                                "type": "carpet"
                                            }
                                        ],
                                        "choropleth": [
                                            {
                                                "colorbar": {
                                                    "outlinewidth": 0,
                                                    "ticks": ""
                                                },
                                                "type": "choropleth"
                                            }
                                        ],
                                        "contour": [
                                            {
                                                "colorbar": {
                                                    "outlinewidth": 0,
                                                    "ticks": ""
                                                },
                                                "colorscale": [
                                                    [
                                                        0,
                                                        "#0d0887"
                                                    ],
                                                    [
                                                        0.1111111111111111,
                                                        "#46039f"
                                                    ],
                                                    [
                                                        0.2222222222222222,
                                                        "#7201a8"
                                                    ],
                                                    [
                                                        0.3333333333333333,
                                                        "#9c179e"
                                                    ],
                                                    [
                                                        0.4444444444444444,
                                                        "#bd3786"
                                                    ],
                                                    [
                                                        0.5555555555555556,
                                                        "#d8576b"
                                                    ],
                                                    [
                                                        0.6666666666666666,
                                                        "#ed7953"
                                                    ],
                                                    [
                                                        0.7777777777777778,
                                                        "#fb9f3a"
                                                    ],
                                                    [
                                                        0.8888888888888888,
                                                        "#fdca26"
                                                    ],
                                                    [
                                                        1,
                                                        "#f0f921"
                                                    ]
                                                ],
                                                "type": "contour"
                                            }
                                        ],
                                        "contourcarpet": [
                                            {
                                                "colorbar": {
                                                    "outlinewidth": 0,
                                                    "ticks": ""
                                                },
                                                "type": "contourcarpet"
                                            }
                                        ],
                                        "heatmap": [
                                            {
                                                "colorbar": {
                                                    "outlinewidth": 0,
                                                    "ticks": ""
                                                },
                                                "colorscale": [
                                                    [
                                                        0,
                                                        "#0d0887"
                                                    ],
                                                    [
                                                        0.1111111111111111,
                                                        "#46039f"
                                                    ],
                                                    [
                                                        0.2222222222222222,
                                                        "#7201a8"
                                                    ],
                                                    [
                                                        0.3333333333333333,
                                                        "#9c179e"
                                                    ],
                                                    [
                                                        0.4444444444444444,
                                                        "#bd3786"
                                                    ],
                                                    [
                                                        0.5555555555555556,
                                                        "#d8576b"
                                                    ],
                                                    [
                                                        0.6666666666666666,
                                                        "#ed7953"
                                                    ],
                                                    [
                                                        0.7777777777777778,
                                                        "#fb9f3a"
                                                    ],
                                                    [
                                                        0.8888888888888888,
                                                        "#fdca26"
                                                    ],
                                                    [
                                                        1,
                                                        "#f0f921"
                                                    ]
                                                ],
                                                "type": "heatmap"
                                            }
                                        ],
                                        "heatmapgl": [
                                            {
                                                "colorbar": {
                                                    "outlinewidth": 0,
                                                    "ticks": ""
                                                },
                                                "colorscale": [
                                                    [
                                                        0,
                                                        "#0d0887"
                                                    ],
                                                    [
                                                        0.1111111111111111,
                                                        "#46039f"
                                                    ],
                                                    [
                                                        0.2222222222222222,
                                                        "#7201a8"
                                                    ],
                                                    [
                                                        0.3333333333333333,
                                                        "#9c179e"
                                                    ],
                                                    [
                                                        0.4444444444444444,
                                                        "#bd3786"
                                                    ],
                                                    [
                                                        0.5555555555555556,
                                                        "#d8576b"
                                                    ],
                                                    [
                                                        0.6666666666666666,
                                                        "#ed7953"
                                                    ],
                                                    [
                                                        0.7777777777777778,
                                                        "#fb9f3a"
                                                    ],
                                                    [
                                                        0.8888888888888888,
                                                        "#fdca26"
                                                    ],
                                                    [
                                                        1,
                                                        "#f0f921"
                                                    ]
                                                ],
                                                "type": "heatmapgl"
                                            }
                                        ],
                                        "histogram": [
                                            {
                                                "marker": {
                                                    "pattern": {
                                                        "fillmode": "overlay",
                                                        "size": 10,
                                                        "solidity": 0.2
                                                    }
                                                },
                                                "type": "histogram"
                                            }
                                        ],
                                        "histogram2d": [
                                            {
                                                "colorbar": {
                                                    "outlinewidth": 0,
                                                    "ticks": ""
                                                },
                                                "colorscale": [
                                                    [
                                                        0,
                                                        "#0d0887"
                                                    ],
                                                    [
                                                        0.1111111111111111,
                                                        "#46039f"
                                                    ],
                                                    [
                                                        0.2222222222222222,
                                                        "#7201a8"
                                                    ],
                                                    [
                                                        0.3333333333333333,
                                                        "#9c179e"
                                                    ],
                                                    [
                                                        0.4444444444444444,
                                                        "#bd3786"
                                                    ],
                                                    [
                                                        0.5555555555555556,
                                                        "#d8576b"
                                                    ],
                                                    [
                                                        0.6666666666666666,
                                                        "#ed7953"
                                                    ],
                                                    [
                                                        0.7777777777777778,
                                                        "#fb9f3a"
                                                    ],
                                                    [
                                                        0.8888888888888888,
                                                        "#fdca26"
                                                    ],
                                                    [
                                                        1,
                                                        "#f0f921"
                                                    ]
                                                ],
                                                "type": "histogram2d"
                                            }
                                        ],
                                        "histogram2dcontour": [
                                            {
                                                "colorbar": {
                                                    "outlinewidth": 0,
                                                    "ticks": ""
                                                },
                                                "colorscale": [
                                                    [
                                                        0,
                                                        "#0d0887"
                                                    ],
                                                    [
                                                        0.1111111111111111,
                                                        "#46039f"
                                                    ],
                                                    [
                                                        0.2222222222222222,
                                                        "#7201a8"
                                                    ],
                                                    [
                                                        0.3333333333333333,
                                                        "#9c179e"
                                                    ],
                                                    [
                                                        0.4444444444444444,
                                                        "#bd3786"
                                                    ],
                                                    [
                                                        0.5555555555555556,
                                                        "#d8576b"
                                                    ],
                                                    [
                                                        0.6666666666666666,
                                                        "#ed7953"
                                                    ],
                                                    [
                                                        0.7777777777777778,
                                                        "#fb9f3a"
                                                    ],
                                                    [
                                                        0.8888888888888888,
                                                        "#fdca26"
                                                    ],
                                                    [
                                                        1,
                                                        "#f0f921"
                                                    ]
                                                ],
                                                "type": "histogram2dcontour"
                                            }
                                        ],
                                        "mesh3d": [
                                            {
                                                "colorbar": {
                                                    "outlinewidth": 0,
                                                    "ticks": ""
                                                },
                                                "type": "mesh3d"
                                            }
                                        ],
                                        "parcoords": [
                                            {
                                                "line": {
                                                    "colorbar": {
                                                        "outlinewidth": 0,
                                                        "ticks": ""
                                                    }
                                                },
                                                "type": "parcoords"
                                            }
                                        ],
                                        "pie": [
                                            {
                                                "automargin": true,
                                                "type": "pie"
                                            }
                                        ],
                                        "scatter": [
                                            {
                                                "marker": {
                                                    "colorbar": {
                                                        "outlinewidth": 0,
                                                        "ticks": ""
                                                    }
                                                },
                                                "type": "scatter"
                                            }
                                        ],
                                        "scatter3d": [
                                            {
                                                "line": {
                                                    "colorbar": {
                                                        "outlinewidth": 0,
                                                        "ticks": ""
                                                    }
                                                },
                                                "marker": {
                                                    "colorbar": {
                                                        "outlinewidth": 0,
                                                        "ticks": ""
                                                    }
                                                },
                                                "type": "scatter3d"
                                            }
                                        ],
                                        "scattercarpet": [
                                            {
                                                "marker": {
                                                    "colorbar": {
                                                        "outlinewidth": 0,
                                                        "ticks": ""
                                                    }
                                                },
                                                "type": "scattercarpet"
                                            }
                                        ],
                                        "scattergeo": [
                                            {
                                                "marker": {
                                                    "colorbar": {
                                                        "outlinewidth": 0,
                                                        "ticks": ""
                                                    }
                                                },
                                                "type": "scattergeo"
                                            }
                                        ],
                                        "scattergl": [
                                            {
                                                "marker": {
                                                    "colorbar": {
                                                        "outlinewidth": 0,
                                                        "ticks": ""
                                                    }
                                                },
                                                "type": "scattergl"
                                            }
                                        ],
                                        "scattermapbox": [
                                            {
                                                "marker": {
                                                    "colorbar": {
                                                        "outlinewidth": 0,
                                                        "ticks": ""
                                                    }
                                                },
                                                "type": "scattermapbox"
                                            }
                                        ],
                                        "scatterpolar": [
                                            {
                                                "marker": {
                                                    "colorbar": {
                                                        "outlinewidth": 0,
                                                        "ticks": ""
                                                    }
                                                },
                                                "type": "scatterpolar"
                                            }
                                        ],
                                        "scatterpolargl": [
                                            {
                                                "marker": {
                                                    "colorbar": {
                                                        "outlinewidth": 0,
                                                        "ticks": ""
                                                    }
                                                },
                                                "type": "scatterpolargl"
                                            }
                                        ],
                                        "scatterternary": [
                                            {
                                                "marker": {
                                                    "colorbar": {
                                                        "outlinewidth": 0,
                                                        "ticks": ""
                                                    }
                                                },
                                                "type": "scatterternary"
                                            }
                                        ],
                                        "surface": [
                                            {
                                                "colorbar": {
                                                    "outlinewidth": 0,
                                                    "ticks": ""
                                                },
                                                "colorscale": [
                                                    [
                                                        0,
                                                        "#0d0887"
                                                    ],
                                                    [
                                                        0.1111111111111111,
                                                        "#46039f"
                                                    ],
                                                    [
                                                        0.2222222222222222,
                                                        "#7201a8"
                                                    ],
                                                    [
                                                        0.3333333333333333,
                                                        "#9c179e"
                                                    ],
                                                    [
                                                        0.4444444444444444,
                                                        "#bd3786"
                                                    ],
                                                    [
                                                        0.5555555555555556,
                                                        "#d8576b"
                                                    ],
                                                    [
                                                        0.6666666666666666,
                                                        "#ed7953"
                                                    ],
                                                    [
                                                        0.7777777777777778,
                                                        "#fb9f3a"
                                                    ],
                                                    [
                                                        0.8888888888888888,
                                                        "#fdca26"
                                                    ],
                                                    [
                                                        1,
                                                        "#f0f921"
                                                    ]
                                                ],
                                                "type": "surface"
                                            }
                                        ],
                                        "table": [
                                            {
                                                "cells": {
                                                    "fill": {
                                                        "color": "#EBF0F8"
                                                    },
                                                    "line": {
                                                        "color": "white"
                                                    }
                                                },
                                                "header": {
                                                    "fill": {
                                                        "color": "#C8D4E3"
                                                    },
                                                    "line": {
                                                        "color": "white"
                                                    }
                                                },
                                                "type": "table"
                                            }
                                        ]
                                    },
                                    "layout": {
                                        "annotationdefaults": {
                                            "arrowcolor": "#2a3f5f",
                                            "arrowhead": 0,
                                            "arrowwidth": 1
                                        },
                                        "autotypenumbers": "strict",
                                        "coloraxis": {
                                            "colorbar": {
                                                "outlinewidth": 0,
                                                "ticks": ""
                                            }
                                        },
                                        "colorscale": {
                                            "diverging": [
                                                [
                                                    0,
                                                    "#8e0152"
                                                ],
                                                [
                                                    0.1,
                                                    "#c51b7d"
                                                ],
                                                [
                                                    0.2,
                                                    "#de77ae"
                                                ],
                                                [
                                                    0.3,
                                                    "#f1b6da"
                                                ],
                                                [
                                                    0.4,
                                                    "#fde0ef"
                                                ],
                                                [
                                                    0.5,
                                                    "#f7f7f7"
                                                ],
                                                [
                                                    0.6,
                                                    "#e6f5d0"
                                                ],
                                                [
                                                    0.7,
                                                    "#b8e186"
                                                ],
                                                [
                                                    0.8,
                                                    "#7fbc41"
                                                ],
                                                [
                                                    0.9,
                                                    "#4d9221"
                                                ],
                                                [
                                                    1,
                                                    "#276419"
                                                ]
                                            ],
                                            "sequential": [
                                                [
                                                    0,
                                                    "#0d0887"
                                                ],
                                                [
                                                    0.1111111111111111,
                                                    "#46039f"
                                                ],
                                                [
                                                    0.2222222222222222,
                                                    "#7201a8"
                                                ],
                                                [
                                                    0.3333333333333333,
                                                    "#9c179e"
                                                ],
                                                [
                                                    0.4444444444444444,
                                                    "#bd3786"
                                                ],
                                                [
                                                    0.5555555555555556,
                                                    "#d8576b"
                                                ],
                                                [
                                                    0.6666666666666666,
                                                    "#ed7953"
                                                ],
                                                [
                                                    0.7777777777777778,
                                                    "#fb9f3a"
                                                ],
                                                [
                                                    0.8888888888888888,
                                                    "#fdca26"
                                                ],
                                                [
                                                    1,
                                                    "#f0f921"
                                                ]
                                            ],
                                            "sequentialminus": [
                                                [
                                                    0,
                                                    "#0d0887"
                                                ],
                                                [
                                                    0.1111111111111111,
                                                    "#46039f"
                                                ],
                                                [
                                                    0.2222222222222222,
                                                    "#7201a8"
                                                ],
                                                [
                                                    0.3333333333333333,
                                                    "#9c179e"
                                                ],
                                                [
                                                    0.4444444444444444,
                                                    "#bd3786"
                                                ],
                                                [
                                                    0.5555555555555556,
                                                    "#d8576b"
                                                ],
                                                [
                                                    0.6666666666666666,
                                                    "#ed7953"
                                                ],
                                                [
                                                    0.7777777777777778,
                                                    "#fb9f3a"
                                                ],
                                                [
                                                    0.8888888888888888,
                                                    "#fdca26"
                                                ],
                                                [
                                                    1,
                                                    "#f0f921"
                                                ]
                                            ]
                                        },
                                        "colorway": [
                                            "#636efa",
                                            "#EF553B",
                                            "#00cc96",
                                            "#ab63fa",
                                            "#FFA15A",
                                            "#19d3f3",
                                            "#FF6692",
                                            "#B6E880",
                                            "#FF97FF",
                                            "#FECB52"
                                        ],
                                        "font": {
                                            "color": "#2a3f5f"
                                        },
                                        "geo": {
                                            "bgcolor": "white",
                                            "lakecolor": "white",
                                            "landcolor": "#E5ECF6",
                                            "showlakes": true,
                                            "showland": true,
                                            "subunitcolor": "white"
                                        },
                                        "hoverlabel": {
                                            "align": "left"
                                        },
                                        "hovermode": "closest",
                                        "mapbox": {
                                            "style": "light"
                                        },
                                        "paper_bgcolor": "white",
                                        "plot_bgcolor": "#E5ECF6",
                                        "polar": {
                                            "angularaxis": {
                                                "gridcolor": "white",
                                                "linecolor": "white",
                                                "ticks": ""
                                            },
                                            "bgcolor": "#E5ECF6",
                                            "radialaxis": {
                                                "gridcolor": "white",
                                                "linecolor": "white",
                                                "ticks": ""
                                            }
                                        },
                                        "scene": {
                                            "xaxis": {
                                                "backgroundcolor": "#E5ECF6",
                                                "gridcolor": "white",
                                                "gridwidth": 2,
                                                "linecolor": "white",
                                                "showbackground": true,
                                                "ticks": "",
                                                "zerolinecolor": "white"
                                            },
                                            "yaxis": {
                                                "backgroundcolor": "#E5ECF6",
                                                "gridcolor": "white",
                                                "gridwidth": 2,
                                                "linecolor": "white",
                                                "showbackground": true,
                                                "ticks": "",
                                                "zerolinecolor": "white"
                                            },
                                            "zaxis": {
                                                "backgroundcolor": "#E5ECF6",
                                                "gridcolor": "white",
                                                "gridwidth": 2,
                                                "linecolor": "white",
                                                "showbackground": true,
                                                "ticks": "",
                                                "zerolinecolor": "white"
                                            }
                                        },
                                        "shapedefaults": {
                                            "line": {
                                                "color": "#2a3f5f"
                                            }
                                        },
                                        "ternary": {
                                            "aaxis": {
                                                "gridcolor": "white",
                                                "linecolor": "white",
                                                "ticks": ""
                                            },
                                            "baxis": {
                                                "gridcolor": "white",
                                                "linecolor": "white",
                                                "ticks": ""
                                            },
                                            "bgcolor": "#E5ECF6",
                                            "caxis": {
                                                "gridcolor": "white",
                                                "linecolor": "white",
                                                "ticks": ""
                                            }
                                        },
                                        "title": {
                                            "x": 0.05
                                        },
                                        "xaxis": {
                                            "automargin": true,
                                            "gridcolor": "white",
                                            "linecolor": "white",
                                            "ticks": "",
                                            "title": {
                                                "standoff": 15
                                            },
                                            "zerolinecolor": "white",
                                            "zerolinewidth": 2
                                        },
                                        "yaxis": {
                                            "automargin": true,
                                            "gridcolor": "white",
                                            "linecolor": "white",
                                            "ticks": "",
                                            "title": {
                                                "standoff": 15
                                            },
                                            "zerolinecolor": "white",
                                            "zerolinewidth": 2
                                        }
                                    }
                                },
                                "updatemenus": [
                                    {
                                        "buttons": [
                                            {
                                                "args": [
                                                    null,
                                                    {
                                                        "frame": {
                                                            "duration": 500,
                                                            "redraw": true
                                                        },
                                                        "fromcurrent": true,
                                                        "mode": "immediate",
                                                        "transition": {
                                                            "duration": 500,
                                                            "easing": "linear"
                                                        }
                                                    }
                                                ],
                                                "label": "&#9654;",
                                                "method": "animate"
                                            },
                                            {
                                                "args": [
                                                    [
                                                        null
                                                    ],
                                                    {
                                                        "frame": {
                                                            "duration": 0,
                                                            "redraw": true
                                                        },
                                                        "fromcurrent": true,
                                                        "mode": "immediate",
                                                        "transition": {
                                                            "duration": 0,
                                                            "easing": "linear"
                                                        }
                                                    }
                                                ],
                                                "label": "&#9724;",
                                                "method": "animate"
                                            }
                                        ],
                                        "direction": "left",
                                        "pad": {
                                            "r": 10,
                                            "t": 70
                                        },
                                        "showactive": false,
                                        "type": "buttons",
                                        "x": 0.1,
                                        "xanchor": "right",
                                        "y": 0,
                                        "yanchor": "top"
                                    }
                                ],
                                "xaxis": {
                                    "anchor": "y",
                                    "domain": [
                                        0,
                                        1
                                    ],
                                    "title": {
                                        "text": "sum of Count"
                                    }
                                },
                                "yaxis": {
                                    "anchor": "x",
                                    "categoryarray": [
                                        "Gorillaz",
                                        "MGMT",
                                        "Daft Punk",
                                        "Coconut Records",
                                        "The Shins",
                                        "Depeche Mode",
                                        "Weezer",
                                        "Years & Years",
                                        "alt-J",
                                        "Tokyo Police Club",
                                        "System of a Down",
                                        "Owl City",
                                        "blink-182",
                                        "Cigarettes After Sex",
                                        "Mike Posner",
                                        "Washed Out",
                                        "Enno Bunger",
                                        "The Black Atlantic",
                                        "Bon Iver",
                                        "Jon Henrik Fjällgren",
                                        "Frightened Rabbit",
                                        "Kent",
                                        "Nada Surf",
                                        "Franz Ferdinand",
                                        "Freelance Whales",
                                        "Travis",
                                        "Death Cab for Cutie",
                                        "The Cure",
                                        "New Order",
                                        "Kate Bush",
                                        "M83",
                                        "Local Natives",
                                        "Amiina",
                                        "Arcade Fire",
                                        "The Bravery",
                                        "Mumford & Sons",
                                        "Noah and the Whale",
                                        "Regina Spektor",
                                        "Foals",
                                        "Chameleon Circuit",
                                        "Foster the People",
                                        "Two Door Cinema Club",
                                        "Mogwai",
                                        "Jónsi",
                                        "Björk",
                                        "Kate Nash",
                                        "Deb Talan",
                                        "Brock McGuire Band",
                                        "Sigur Rós",
                                        "Telekinesis",
                                        "Interpol",
                                        "Yellowcard",
                                        "Underoath",
                                        "Within Temptation",
                                        "Salem Al Fakir",
                                        "Silversun Pickups",
                                        "Land of Talk",
                                        "Bosse",
                                        "The Killers",
                                        "Lake Heartbeat"
                                    ],
                                    "categoryorder": "array",
                                    "domain": [
                                        0,
                                        1
                                    ],
                                    "title": {
                                        "text": "Artist"
                                    }
                                }
                            }
                        }
                    },
                    "metadata": {}
                }
            ],
            "metadata": {}
        }
    ],
    "metadata": {
        "orig_nbformat": 4,
        "language_info": {
            "name": "python",
            "version": "3.8.8",
            "mimetype": "text/x-python",
            "codemirror_mode": {
                "name": "ipython",
                "version": 3
            },
            "pygments_lexer": "ipython3",
            "nbconvert_exporter": "python",
            "file_extension": ".py"
        },
        "kernelspec": {
            "name": "python3",
            "display_name": "Python 3.8.8 64-bit ('base': conda)"
        },
        "interpreter": {
            "hash": "889db70d108302de82c296c0c6567ca4cbda0122670580e47ef2cd7d85528bd6"
        }
    },
    "nbformat": 4,
    "nbformat_minor": 2
}