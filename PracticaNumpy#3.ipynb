{
 "cells": [
  {
   "cell_type": "markdown",
   "source": [
    "1. Import numpy as np and see the version\r\n",
    "- Import numpy as np and print the version number."
   ],
   "metadata": {}
  },
  {
   "cell_type": "code",
   "execution_count": 1,
   "source": [
    "import numpy as np\r\n",
    "print(np.__version__)"
   ],
   "outputs": [
    {
     "output_type": "stream",
     "name": "stdout",
     "text": [
      "1.20.1\n"
     ]
    }
   ],
   "metadata": {}
  },
  {
   "cell_type": "markdown",
   "source": [
    "2. How to create a 1D array?\r\n",
    "- Create a 1D array of numbers from 0 to 9"
   ],
   "metadata": {}
  },
  {
   "cell_type": "code",
   "execution_count": 2,
   "source": [
    "arreglo=np.arange(10)\r\n",
    "arreglo"
   ],
   "outputs": [
    {
     "output_type": "execute_result",
     "data": {
      "text/plain": [
       "array([0, 1, 2, 3, 4, 5, 6, 7, 8, 9])"
      ]
     },
     "metadata": {},
     "execution_count": 2
    }
   ],
   "metadata": {}
  },
  {
   "cell_type": "markdown",
   "source": [
    "3. How to create a boolean array?\r\n",
    "- Create a 3×3 numpy array of all True’s"
   ],
   "metadata": {}
  },
  {
   "cell_type": "code",
   "execution_count": 3,
   "source": [
    "bolean_array=np.full((3,3),True, dtype=bool)\r\n",
    "bolean_array"
   ],
   "outputs": [
    {
     "output_type": "execute_result",
     "data": {
      "text/plain": [
       "array([[ True,  True,  True],\n",
       "       [ True,  True,  True],\n",
       "       [ True,  True,  True]])"
      ]
     },
     "metadata": {},
     "execution_count": 3
    }
   ],
   "metadata": {}
  },
  {
   "cell_type": "markdown",
   "source": [
    "4. How to extract items that satisfy a given condition from 1D array?\r\n",
    "- Extract all odd numbers from arr"
   ],
   "metadata": {}
  },
  {
   "cell_type": "code",
   "execution_count": 4,
   "source": [
    "odd_array=arreglo[arreglo % 2 ==1]\r\n",
    "odd_array"
   ],
   "outputs": [
    {
     "output_type": "execute_result",
     "data": {
      "text/plain": [
       "array([1, 3, 5, 7, 9])"
      ]
     },
     "metadata": {},
     "execution_count": 4
    }
   ],
   "metadata": {}
  },
  {
   "cell_type": "markdown",
   "source": [
    "5. How to replace items that satisfy a condition with another value in numpy array?\r\n",
    "- Replace all odd numbers in arr with -1"
   ],
   "metadata": {}
  },
  {
   "cell_type": "code",
   "execution_count": 5,
   "source": [
    "arreglo=np.arange(10)\r\n",
    "print(arreglo)\r\n",
    "odd_array_completo=arreglo[arreglo % 2 ==1]=-1\r\n",
    "odd_array_completo\r\n"
   ],
   "outputs": [
    {
     "output_type": "stream",
     "name": "stdout",
     "text": [
      "[0 1 2 3 4 5 6 7 8 9]\n"
     ]
    },
    {
     "output_type": "execute_result",
     "data": {
      "text/plain": [
       "-1"
      ]
     },
     "metadata": {},
     "execution_count": 5
    }
   ],
   "metadata": {}
  },
  {
   "cell_type": "markdown",
   "source": [
    "6. How to replace items that satisfy a condition without affecting the original array?\r\n",
    "\r\n",
    "- Replace all odd numbers in arr with -1 without changing arr"
   ],
   "metadata": {}
  },
  {
   "cell_type": "code",
   "execution_count": 11,
   "source": [
    "arreglo2=np.arange(10)\r\n",
    "odd_array_completo2=np.where(arreglo2 % 2 == 1, -1, arreglo2)\r\n",
    "print(arreglo2)\r\n",
    "odd_array_completo2"
   ],
   "outputs": [
    {
     "output_type": "stream",
     "name": "stdout",
     "text": [
      "[0 1 2 3 4 5 6 7 8 9]\n"
     ]
    },
    {
     "output_type": "execute_result",
     "data": {
      "text/plain": [
       "array([ 0, -1,  2, -1,  4, -1,  6, -1,  8, -1])"
      ]
     },
     "metadata": {},
     "execution_count": 11
    }
   ],
   "metadata": {}
  },
  {
   "cell_type": "markdown",
   "source": [
    "7. How to reshape an array?\r\n",
    "\r\n",
    "- Convert a 1D array to a 2D array with 2 rows"
   ],
   "metadata": {}
  },
  {
   "cell_type": "code",
   "execution_count": 16,
   "source": [
    "arreglo3=np.arange(10)\r\n",
    "arreglo3=arreglo3.reshape(2,5)\r\n",
    "arreglo3\r\n"
   ],
   "outputs": [
    {
     "output_type": "execute_result",
     "data": {
      "text/plain": [
       "array([[0, 1, 2, 3, 4],\n",
       "       [5, 6, 7, 8, 9]])"
      ]
     },
     "metadata": {},
     "execution_count": 16
    }
   ],
   "metadata": {}
  },
  {
   "cell_type": "markdown",
   "source": [
    "8. How to stack two arrays vertically?\r\n",
    "\r\n",
    "- Stack arrays a and b vertically"
   ],
   "metadata": {}
  },
  {
   "cell_type": "code",
   "execution_count": 18,
   "source": [
    "a = np.arange(10).reshape(2,-1)\r\n",
    "print(a)\r\n",
    "b = np.repeat(1, 10).reshape(2,-1)\r\n",
    "print(b)\r\n",
    "c=np.concatenate([a, b], axis=0)\r\n",
    "c"
   ],
   "outputs": [
    {
     "output_type": "stream",
     "name": "stdout",
     "text": [
      "[[0 1 2 3 4]\n",
      " [5 6 7 8 9]]\n",
      "[[1 1 1 1 1]\n",
      " [1 1 1 1 1]]\n"
     ]
    },
    {
     "output_type": "execute_result",
     "data": {
      "text/plain": [
       "array([[0, 1, 2, 3, 4],\n",
       "       [5, 6, 7, 8, 9],\n",
       "       [1, 1, 1, 1, 1],\n",
       "       [1, 1, 1, 1, 1]])"
      ]
     },
     "metadata": {},
     "execution_count": 18
    }
   ],
   "metadata": {}
  },
  {
   "cell_type": "markdown",
   "source": [
    "9. How to stack two arrays horizontally?\r\n",
    "\r\n",
    "- Stack the arrays a and b horizontally."
   ],
   "metadata": {}
  },
  {
   "cell_type": "code",
   "execution_count": 19,
   "source": [
    "d=np.concatenate([a, b], axis=1)\r\n",
    "d"
   ],
   "outputs": [
    {
     "output_type": "execute_result",
     "data": {
      "text/plain": [
       "array([[0, 1, 2, 3, 4, 1, 1, 1, 1, 1],\n",
       "       [5, 6, 7, 8, 9, 1, 1, 1, 1, 1]])"
      ]
     },
     "metadata": {},
     "execution_count": 19
    }
   ],
   "metadata": {}
  },
  {
   "cell_type": "markdown",
   "source": [
    "10. How to generate custom sequences in numpy without hardcoding?\r\n",
    "\r\n",
    "- Create the following pattern without hardcoding. Use only numpy functions and the below input array a."
   ],
   "metadata": {}
  },
  {
   "cell_type": "code",
   "execution_count": 21,
   "source": [
    "e=np.array([1,2,3])\r\n",
    "e=np.r_[np.repeat(e, 3), np.tile(e, 3)]\r\n",
    "e"
   ],
   "outputs": [
    {
     "output_type": "execute_result",
     "data": {
      "text/plain": [
       "array([1, 1, 1, 2, 2, 2, 3, 3, 3, 1, 2, 3, 1, 2, 3, 1, 2, 3])"
      ]
     },
     "metadata": {},
     "execution_count": 21
    }
   ],
   "metadata": {}
  },
  {
   "cell_type": "markdown",
   "source": [
    "11. How to get the common items between two python numpy arrays?\r\n",
    "\r\n",
    "- Get the common items between a and b"
   ],
   "metadata": {}
  },
  {
   "cell_type": "code",
   "execution_count": 23,
   "source": [
    "f = np.array([1,2,3,2,3,4,3,4,5,6])\r\n",
    "g = np.array([7,2,10,2,7,4,9,4,9,8])\r\n",
    "h=np.intersect1d(f,g)\r\n",
    "h"
   ],
   "outputs": [
    {
     "output_type": "execute_result",
     "data": {
      "text/plain": [
       "array([2, 4])"
      ]
     },
     "metadata": {},
     "execution_count": 23
    }
   ],
   "metadata": {}
  },
  {
   "cell_type": "markdown",
   "source": [
    "12. How to remove from one array those items that exist in another?\r\n",
    "\r\n",
    "- From array a remove all items present in array b"
   ],
   "metadata": {}
  },
  {
   "cell_type": "code",
   "execution_count": 24,
   "source": [
    "i = np.array([1,2,3,4,5])\r\n",
    "j = np.array([5,6,7,8,9])\r\n",
    "np.setdiff1d(i,j)\r\n"
   ],
   "outputs": [
    {
     "output_type": "execute_result",
     "data": {
      "text/plain": [
       "array([1, 2, 3, 4])"
      ]
     },
     "metadata": {},
     "execution_count": 24
    }
   ],
   "metadata": {}
  }
 ],
 "metadata": {
  "orig_nbformat": 4,
  "language_info": {
   "name": "python",
   "version": "3.8.8",
   "mimetype": "text/x-python",
   "codemirror_mode": {
    "name": "ipython",
    "version": 3
   },
   "pygments_lexer": "ipython3",
   "nbconvert_exporter": "python",
   "file_extension": ".py"
  },
  "kernelspec": {
   "name": "python3",
   "display_name": "Python 3.8.8 64-bit ('base': conda)"
  },
  "interpreter": {
   "hash": "c617278fd52e14936d4f670485a6c59a1c64e69940f931430463afbb02e63eef"
  }
 },
 "nbformat": 4,
 "nbformat_minor": 2
}