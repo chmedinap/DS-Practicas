{
  "nbformat": 4,
  "nbformat_minor": 0,
  "metadata": {
    "colab": {
      "name": "PracticaNumpy#1.ipynb",
      "provenance": [],
      "authorship_tag": "ABX9TyNpVeXOsrIa3gtaJLpCZ1Ly",
      "include_colab_link": true
    },
    "kernelspec": {
      "name": "python3",
      "display_name": "Python 3"
    },
    "language_info": {
      "name": "python"
    }
  },
  "cells": [
    {
      "cell_type": "markdown",
      "metadata": {
        "id": "view-in-github",
        "colab_type": "text"
      },
      "source": [
        "<a href=\"https://colab.research.google.com/github/chmedinap/PracticasNumpy/blob/master/PracticaNumpy_1.ipynb\" target=\"_parent\"><img src=\"https://colab.research.google.com/assets/colab-badge.svg\" alt=\"Open In Colab\"/></a>"
      ]
    },
    {
      "cell_type": "code",
      "metadata": {
        "id": "5XvXIdIldn5t"
      },
      "source": [
        "import numpy as np"
      ],
      "execution_count": 1,
      "outputs": []
    },
    {
      "cell_type": "markdown",
      "metadata": {
        "id": "wbXRkwfLdc2f"
      },
      "source": [
        "1- Crear una matriz de 5x5 con valores en las filas de 0 a 4"
      ]
    },
    {
      "cell_type": "code",
      "metadata": {
        "colab": {
          "base_uri": "https://localhost:8080/"
        },
        "id": "_3ScSG6ydY5c",
        "outputId": "329b9690-4bcd-4264-8698-db9c902fbe22"
      },
      "source": [
        "matriz=np.zeros(25) # Creacion de la matriz en ceros\n",
        "matriz\n"
      ],
      "execution_count": 9,
      "outputs": [
        {
          "output_type": "execute_result",
          "data": {
            "text/plain": [
              "array([0., 0., 0., 0., 0., 0., 0., 0., 0., 0., 0., 0., 0., 0., 0., 0., 0.,\n",
              "       0., 0., 0., 0., 0., 0., 0., 0.])"
            ]
          },
          "metadata": {
            "tags": []
          },
          "execution_count": 9
        }
      ]
    },
    {
      "cell_type": "code",
      "metadata": {
        "colab": {
          "base_uri": "https://localhost:8080/"
        },
        "id": "fLziuFGsd6QB",
        "outputId": "f9ab8639-cd68-4cef-ddc8-7fe6ba6af4b6"
      },
      "source": [
        "matriz=matriz.reshape(5,5) # definir filas y columnas\n",
        "matriz"
      ],
      "execution_count": 10,
      "outputs": [
        {
          "output_type": "execute_result",
          "data": {
            "text/plain": [
              "array([[0., 0., 0., 0., 0.],\n",
              "       [0., 0., 0., 0., 0.],\n",
              "       [0., 0., 0., 0., 0.],\n",
              "       [0., 0., 0., 0., 0.],\n",
              "       [0., 0., 0., 0., 0.]])"
            ]
          },
          "metadata": {
            "tags": []
          },
          "execution_count": 10
        }
      ]
    },
    {
      "cell_type": "code",
      "metadata": {
        "colab": {
          "base_uri": "https://localhost:8080/"
        },
        "id": "1NLWyvtzeFnf",
        "outputId": "5b830364-f135-4493-ff0b-9b83d0ea5102"
      },
      "source": [
        "arreglo=np.arange(5) #crear un arreglo del 0 al 4\n",
        "arreglo"
      ],
      "execution_count": 11,
      "outputs": [
        {
          "output_type": "execute_result",
          "data": {
            "text/plain": [
              "array([0, 1, 2, 3, 4])"
            ]
          },
          "metadata": {
            "tags": []
          },
          "execution_count": 11
        }
      ]
    },
    {
      "cell_type": "code",
      "metadata": {
        "colab": {
          "base_uri": "https://localhost:8080/"
        },
        "id": "wmkMTct3edyq",
        "outputId": "14e6f8e6-7180-445f-8840-c52ff57a08e8"
      },
      "source": [
        "matriz=matriz+arreglo # sumar la matriz y el arreglo\n",
        "matriz"
      ],
      "execution_count": 12,
      "outputs": [
        {
          "output_type": "execute_result",
          "data": {
            "text/plain": [
              "array([[0., 1., 2., 3., 4.],\n",
              "       [0., 1., 2., 3., 4.],\n",
              "       [0., 1., 2., 3., 4.],\n",
              "       [0., 1., 2., 3., 4.],\n",
              "       [0., 1., 2., 3., 4.]])"
            ]
          },
          "metadata": {
            "tags": []
          },
          "execution_count": 12
        }
      ]
    },
    {
      "cell_type": "markdown",
      "metadata": {
        "id": "LdAMhlrJf-GU"
      },
      "source": [
        "2- Crear un vector de tamano 30 y encontar su promedio"
      ]
    },
    {
      "cell_type": "code",
      "metadata": {
        "colab": {
          "base_uri": "https://localhost:8080/"
        },
        "id": "Ze7cXemQgD2X",
        "outputId": "b358367a-670b-43e5-c858-e7c02cd12a20"
      },
      "source": [
        "vector=np.random.randint(1,101, size=30) # se crea un arreglo de 30 items aleatorios entre 1 y 100.\n",
        "vector"
      ],
      "execution_count": 15,
      "outputs": [
        {
          "output_type": "execute_result",
          "data": {
            "text/plain": [
              "array([93, 31, 29, 89, 98, 54, 29, 97, 22, 44, 23, 38, 27,  3,  5, 56, 89,\n",
              "       85, 89, 28, 52, 35, 10, 30,  8, 58, 93, 90, 77, 93])"
            ]
          },
          "metadata": {
            "tags": []
          },
          "execution_count": 15
        }
      ]
    },
    {
      "cell_type": "code",
      "metadata": {
        "colab": {
          "base_uri": "https://localhost:8080/"
        },
        "id": "w04BySEBhIra",
        "outputId": "530af67d-2ae9-4833-d34b-aa9a40ae4cde"
      },
      "source": [
        "vector.mean() #se calcula el promedio\n"
      ],
      "execution_count": 16,
      "outputs": [
        {
          "output_type": "execute_result",
          "data": {
            "text/plain": [
              "52.5"
            ]
          },
          "metadata": {
            "tags": []
          },
          "execution_count": 16
        }
      ]
    },
    {
      "cell_type": "markdown",
      "metadata": {
        "id": "z2ujqGtMhndD"
      },
      "source": [
        "3- Normalizar una matrz 5x5"
      ]
    },
    {
      "cell_type": "code",
      "metadata": {
        "colab": {
          "base_uri": "https://localhost:8080/"
        },
        "id": "Tsp4dLgchtkJ",
        "outputId": "e360cd10-7ec8-407a-e90c-bccad90615e6"
      },
      "source": [
        "matriz2=np.random.randint(1,101, size=25) creacion de matriz con 25 items\n",
        "matriz2"
      ],
      "execution_count": 18,
      "outputs": [
        {
          "output_type": "execute_result",
          "data": {
            "text/plain": [
              "array([ 47,  73,  60,  30,  53,  28,  34,  33,  54,  65,   8,  60,  97,\n",
              "         2,  64,  30,  29,  88,   8,  11, 100,  12,   3,  26,  93])"
            ]
          },
          "metadata": {
            "tags": []
          },
          "execution_count": 18
        }
      ]
    },
    {
      "cell_type": "code",
      "metadata": {
        "colab": {
          "base_uri": "https://localhost:8080/"
        },
        "id": "Pbbp-qWJkG9h",
        "outputId": "7ef503b7-1645-420c-fa87-c64965696819"
      },
      "source": [
        "matriz2=matriz2.reshape(5,5) # se da forma de matriz\n",
        "matriz2"
      ],
      "execution_count": 19,
      "outputs": [
        {
          "output_type": "execute_result",
          "data": {
            "text/plain": [
              "array([[ 47,  73,  60,  30,  53],\n",
              "       [ 28,  34,  33,  54,  65],\n",
              "       [  8,  60,  97,   2,  64],\n",
              "       [ 30,  29,  88,   8,  11],\n",
              "       [100,  12,   3,  26,  93]])"
            ]
          },
          "metadata": {
            "tags": []
          },
          "execution_count": 19
        }
      ]
    },
    {
      "cell_type": "code",
      "metadata": {
        "colab": {
          "base_uri": "https://localhost:8080/"
        },
        "id": "1TS_3JlkkfLe",
        "outputId": "172be192-016b-4f57-b46f-96636c637347"
      },
      "source": [
        "media=np.mean(matriz2) # Se calcula la media\n",
        "media"
      ],
      "execution_count": 20,
      "outputs": [
        {
          "output_type": "execute_result",
          "data": {
            "text/plain": [
              "44.32"
            ]
          },
          "metadata": {
            "tags": []
          },
          "execution_count": 20
        }
      ]
    },
    {
      "cell_type": "code",
      "metadata": {
        "colab": {
          "base_uri": "https://localhost:8080/"
        },
        "id": "615O8QtCks1v",
        "outputId": "12243f74-2849-4f72-8b91-0935f7c281bf"
      },
      "source": [
        "desvio=np.std(matriz2)\n",
        "desvio"
      ],
      "execution_count": 21,
      "outputs": [
        {
          "output_type": "execute_result",
          "data": {
            "text/plain": [
              "29.820422532217748"
            ]
          },
          "metadata": {
            "tags": []
          },
          "execution_count": 21
        }
      ]
    },
    {
      "cell_type": "code",
      "metadata": {
        "colab": {
          "base_uri": "https://localhost:8080/"
        },
        "id": "zv5o7n4IlWB9",
        "outputId": "1fe2de5b-cc29-4836-c425-4460e9e740e7"
      },
      "source": [
        "(matriz2[0,0]-media)/desvio  #Desvio para un unico item"
      ],
      "execution_count": 22,
      "outputs": [
        {
          "output_type": "execute_result",
          "data": {
            "text/plain": [
              "0.08987129532133721"
            ]
          },
          "metadata": {
            "tags": []
          },
          "execution_count": 22
        }
      ]
    },
    {
      "cell_type": "code",
      "metadata": {
        "colab": {
          "base_uri": "https://localhost:8080/"
        },
        "id": "rb_EbMYklhkQ",
        "outputId": "9fd60ab0-ff15-470e-8c56-df4112645242"
      },
      "source": [
        "(matriz2-media)/desvio #Desvio para toda la matriz"
      ],
      "execution_count": 23,
      "outputs": [
        {
          "output_type": "execute_result",
          "data": {
            "text/plain": [
              "array([[ 0.0898713 ,  0.961757  ,  0.52581415, -0.48020782,  0.29107569],\n",
              "       [-0.54727595, -0.34607156, -0.37960562,  0.32460975,  0.69348447],\n",
              "       [-1.21795726,  0.52581415,  1.76657457, -1.41916165,  0.65995041],\n",
              "       [-0.48020782, -0.51374188,  1.46476798, -1.21795726, -1.11735506],\n",
              "       [ 1.86717676, -1.08382099, -1.38562758, -0.61434408,  1.6324383 ]])"
            ]
          },
          "metadata": {
            "tags": []
          },
          "execution_count": 23
        }
      ]
    },
    {
      "cell_type": "markdown",
      "metadata": {
        "id": "KXFWX7dynBMM"
      },
      "source": [
        "Imprimir cada item de las dos matrices creadas"
      ]
    },
    {
      "cell_type": "code",
      "metadata": {
        "colab": {
          "base_uri": "https://localhost:8080/"
        },
        "id": "msGEQDtCnEK0",
        "outputId": "613cc896-ec92-460d-d9c3-b7e82a60110f"
      },
      "source": [
        "for i in range(5):\n",
        "  for j in range(5):\n",
        "    print(matriz[i,j])"
      ],
      "execution_count": 25,
      "outputs": [
        {
          "output_type": "stream",
          "text": [
            "0.0\n",
            "1.0\n",
            "2.0\n",
            "3.0\n",
            "4.0\n",
            "0.0\n",
            "1.0\n",
            "2.0\n",
            "3.0\n",
            "4.0\n",
            "0.0\n",
            "1.0\n",
            "2.0\n",
            "3.0\n",
            "4.0\n",
            "0.0\n",
            "1.0\n",
            "2.0\n",
            "3.0\n",
            "4.0\n",
            "0.0\n",
            "1.0\n",
            "2.0\n",
            "3.0\n",
            "4.0\n"
          ],
          "name": "stdout"
        }
      ]
    },
    {
      "cell_type": "code",
      "metadata": {
        "colab": {
          "base_uri": "https://localhost:8080/"
        },
        "id": "ZL1eeZhkn6VP",
        "outputId": "137b2163-35a7-4ea1-bc53-d1ceddff6544"
      },
      "source": [
        "for i in range(5):\n",
        "  for j in range(5):\n",
        "    print(matriz2[i,j])"
      ],
      "execution_count": 26,
      "outputs": [
        {
          "output_type": "stream",
          "text": [
            "47\n",
            "73\n",
            "60\n",
            "30\n",
            "53\n",
            "28\n",
            "34\n",
            "33\n",
            "54\n",
            "65\n",
            "8\n",
            "60\n",
            "97\n",
            "2\n",
            "64\n",
            "30\n",
            "29\n",
            "88\n",
            "8\n",
            "11\n",
            "100\n",
            "12\n",
            "3\n",
            "26\n",
            "93\n"
          ],
          "name": "stdout"
        }
      ]
    }
  ]
}